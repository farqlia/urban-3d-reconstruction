{
 "cells": [
  {
   "cell_type": "code",
   "id": "initial_id",
   "metadata": {
    "collapsed": true,
    "ExecuteTime": {
     "end_time": "2024-10-22T15:09:21.692880Z",
     "start_time": "2024-10-22T15:09:21.677211Z"
    }
   },
   "source": [
    "import pandas as pd\n",
    "import torch\n",
    "import numpy as np\n",
    "import pyntcloud\n",
    "import pandas as pd \n",
    "import matplotlib.pyplot as plt"
   ],
   "outputs": [],
   "execution_count": 4
  },
  {
   "metadata": {
    "ExecuteTime": {
     "end_time": "2024-10-22T15:09:23.049431Z",
     "start_time": "2024-10-22T15:09:22.446104Z"
    }
   },
   "cell_type": "code",
   "source": [
    "building_model = pyntcloud.PyntCloud.from_file(\"../results/south-building/model.ply\")\n",
    "city_model = pyntcloud.PyntCloud.from_file(\"../results/small_city_road_down_test/epochs_200_000/model.ply\")"
   ],
   "id": "27d670b0acbc217f",
   "outputs": [],
   "execution_count": 5
  },
  {
   "metadata": {
    "ExecuteTime": {
     "end_time": "2024-10-22T15:10:32.806742Z",
     "start_time": "2024-10-22T15:10:32.791099Z"
    }
   },
   "cell_type": "code",
   "source": "building_model.points.columns",
   "id": "74e29e4642e7d1b7",
   "outputs": [
    {
     "data": {
      "text/plain": [
       "Index(['x', 'y', 'z', 'a', 'q0', 'q1', 'q2', 'q3', 's0', 's1', 's2', 'sh0_x',\n",
       "       'sh0_y', 'sh0_z', 'sh1_x', 'sh1_y', 'sh1_z', 'sh2_x', 'sh2_y', 'sh2_z',\n",
       "       'sh3_x', 'sh3_y', 'sh3_z', 'sh4_x', 'sh4_y', 'sh4_z', 'sh5_x', 'sh5_y',\n",
       "       'sh5_z', 'sh6_x', 'sh6_y', 'sh6_z', 'sh7_x', 'sh7_y', 'sh7_z', 'sh8_x',\n",
       "       'sh8_y', 'sh8_z', 'sh9_x', 'sh9_y', 'sh9_z', 'sh10_x', 'sh10_y',\n",
       "       'sh10_z', 'sh11_x', 'sh11_y', 'sh11_z', 'sh12_x', 'sh12_y', 'sh12_z',\n",
       "       'sh13_x', 'sh13_y', 'sh13_z', 'sh14_x', 'sh14_y', 'sh14_z', 'sh15_x',\n",
       "       'sh15_y', 'sh15_z'],\n",
       "      dtype='object')"
      ]
     },
     "execution_count": 10,
     "metadata": {},
     "output_type": "execute_result"
    }
   ],
   "execution_count": 10
  },
  {
   "metadata": {
    "ExecuteTime": {
     "end_time": "2024-10-22T15:12:44.128751Z",
     "start_time": "2024-10-22T15:12:44.113096Z"
    }
   },
   "cell_type": "code",
   "source": "bm_scales = np.exp(np.concat([building_model.points['s0'], building_model.points['s1'], building_model.points['s2']]))",
   "id": "e35c93da4b75fd6e",
   "outputs": [],
   "execution_count": 16
  },
  {
   "metadata": {
    "ExecuteTime": {
     "end_time": "2024-10-22T15:12:49.487296Z",
     "start_time": "2024-10-22T15:12:49.455917Z"
    }
   },
   "cell_type": "code",
   "source": "np.percentile(bm_scales, 90)",
   "id": "b08aa52418eafa1",
   "outputs": [
    {
     "data": {
      "text/plain": [
       "np.float32(0.0067151925)"
      ]
     },
     "execution_count": 17,
     "metadata": {},
     "output_type": "execute_result"
    }
   ],
   "execution_count": 17
  },
  {
   "metadata": {
    "ExecuteTime": {
     "end_time": "2024-10-22T15:13:34.001527Z",
     "start_time": "2024-10-22T15:13:33.855589Z"
    }
   },
   "cell_type": "code",
   "source": "plt.hist(bm_scales[(bm_scales < np.percentile(bm_scales, 95)) & (bm_scales > np.percentile(bm_scales, 5))])",
   "id": "6212ec5744897f64",
   "outputs": [
    {
     "data": {
      "text/plain": [
       "(array([1620134.,  235214.,  142797.,  106153.,   86289.,   72873.,\n",
       "          61429.,   50603.,   41426.,   33539.]),\n",
       " array([1.64806545e-06, 9.86867235e-04, 1.97208626e-03, 2.95730541e-03,\n",
       "        3.94252455e-03, 4.92774369e-03, 5.91296284e-03, 6.89818198e-03,\n",
       "        7.88340159e-03, 8.86862073e-03, 9.85383987e-03]),\n",
       " <BarContainer object of 10 artists>)"
      ]
     },
     "execution_count": 20,
     "metadata": {},
     "output_type": "execute_result"
    },
    {
     "data": {
      "text/plain": [
       "<Figure size 640x480 with 1 Axes>"
      ],
      "image/png": "[encoded data removed]"
     },
     "metadata": {},
     "output_type": "display_data"
    }
   ],
   "execution_count": 20
  },
  {
   "metadata": {
    "ExecuteTime": {
     "end_time": "2024-10-22T15:13:59.596062Z",
     "start_time": "2024-10-22T15:13:59.580388Z"
    }
   },
   "cell_type": "code",
   "source": "c_scales = np.exp(np.concat([city_model.points['s0'], city_model.points['s1'], city_model.points['s2']]))",
   "id": "c955c60444a3cf2d",
   "outputs": [],
   "execution_count": 21
  },
  {
   "metadata": {},
   "cell_type": "markdown",
   "source": "Scales are large!",
   "id": "6360d5b558a791b0"
  },
  {
   "metadata": {
    "ExecuteTime": {
     "end_time": "2024-10-22T15:14:10.567593Z",
     "start_time": "2024-10-22T15:14:10.473694Z"
    }
   },
   "cell_type": "code",
   "source": "plt.hist(c_scales[(c_scales < np.percentile(c_scales, 95)) & (c_scales > np.percentile(c_scales, 5))])",
   "id": "c04b2a6bf1a0858",
   "outputs": [
    {
     "data": {
      "text/plain": [
       "(array([47795., 16467.,  9378.,  6659.,  4675.,  3160.,  2238.,  1567.,\n",
       "         1089.,   882.]),\n",
       " array([3.74446390e-05, 5.25123365e-02, 1.04987234e-01, 1.57462135e-01,\n",
       "        2.09937021e-01, 2.62411892e-01, 3.14886808e-01, 3.67361695e-01,\n",
       "        4.19836581e-01, 4.72311467e-01, 5.24786353e-01]),\n",
       " <BarContainer object of 10 artists>)"
      ]
     },
     "execution_count": 22,
     "metadata": {},
     "output_type": "execute_result"
    },
    {
     "data": {
      "text/plain": [
       "<Figure size 640x480 with 1 Axes>"
      ],
      "image/png": "[encoded data removed]"
     },
     "metadata": {},
     "output_type": "display_data"
    }
   ],
   "execution_count": 22
  },
  {
   "metadata": {
    "ExecuteTime": {
     "end_time": "2024-10-22T15:15:43.771081Z",
     "start_time": "2024-10-22T15:15:43.739822Z"
    }
   },
   "cell_type": "code",
   "source": "len(building_model.points)",
   "id": "35b2447e470a6c59",
   "outputs": [
    {
     "data": {
      "text/plain": [
       "907577"
      ]
     },
     "execution_count": 24,
     "metadata": {},
     "output_type": "execute_result"
    }
   ],
   "execution_count": 24
  },
  {
   "metadata": {},
   "cell_type": "markdown",
   "source": "There are too little splats probably",
   "id": "3465e2efc2a5d1aa"
  },
  {
   "metadata": {
    "ExecuteTime": {
     "end_time": "2024-10-22T15:15:37.873539Z",
     "start_time": "2024-10-22T15:15:37.842252Z"
    }
   },
   "cell_type": "code",
   "source": "len(city_model.points)",
   "id": "2be92d54ab9445e9",
   "outputs": [
    {
     "data": {
      "text/plain": [
       "34782"
      ]
     },
     "execution_count": 23,
     "metadata": {},
     "output_type": "execute_result"
    }
   ],
   "execution_count": 23
  }
 ],
 "metadata": {
  "kernelspec": {
   "display_name": "Python 3",
   "language": "python",
   "name": "python3"
  },
  "language_info": {
   "codemirror_mode": {
    "name": "ipython",
    "version": 2
   },
   "file_extension": ".py",
   "mimetype": "text/x-python",
   "name": "python",
   "nbconvert_exporter": "python",
   "pygments_lexer": "ipython2",
   "version": "2.7.6"
  }
 },
 "nbformat": 4,
 "nbformat_minor": 5
}
