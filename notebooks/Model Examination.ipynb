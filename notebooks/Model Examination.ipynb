{
 "cells": [
  {
   "cell_type": "code",
   "id": "initial_id",
   "metadata": {
    "collapsed": true,
    "ExecuteTime": {
     "end_time": "2024-11-24T17:58:09.275706Z",
     "start_time": "2024-11-24T17:58:07.896017Z"
    }
   },
   "source": [
    "import pandas as pd\n",
    "import torch\n",
    "import numpy as np\n",
    "import pyntcloud\n",
    "import pandas as pd \n",
    "import matplotlib.pyplot as plt"
   ],
   "outputs": [],
   "execution_count": 2
  },
  {
   "metadata": {
    "ExecuteTime": {
     "end_time": "2024-11-24T17:58:21.802199Z",
     "start_time": "2024-11-24T17:58:21.762686Z"
    }
   },
   "cell_type": "code",
   "source": [
    "building_model = pyntcloud.PyntCloud.from_file(\"../data/gerrard-hall/model.ply\")\n",
    "# city_model = pyntcloud.PyntCloud.from_file(\"../results/small_city_road_down_test/sfm/epochs_200_000/model.ply\")\n",
    "# city_model_2 = pyntcloud.PyntCloud.from_file(\"../results/small_city_road_outside-d2x/cat/small_city_model.ply\")"
   ],
   "id": "27d670b0acbc217f",
   "outputs": [],
   "execution_count": 3
  },
  {
   "metadata": {
    "ExecuteTime": {
     "end_time": "2024-11-24T17:58:33.992480Z",
     "start_time": "2024-11-24T17:58:33.954821Z"
    }
   },
   "cell_type": "code",
   "source": "building_model.points[['red', 'green', 'blue']]",
   "id": "7d69e8b10d9e86a7",
   "outputs": [
    {
     "data": {
      "text/plain": [
       "            red     green      blue\n",
       "0      0.253503  0.256873  0.220783\n",
       "1      0.000000  0.000000  0.000000\n",
       "2      0.297423  0.302600  0.297961\n",
       "3      0.115158  0.181385  0.210113\n",
       "4      0.000000  0.000000  0.000000\n",
       "...         ...       ...       ...\n",
       "52473  0.000000  0.000000  0.000000\n",
       "52474  0.000000  0.000000  0.000000\n",
       "52475  0.000000  0.000000  0.000000\n",
       "52476  0.000000  0.000000  0.000000\n",
       "52477  0.145374  0.190487  0.222587\n",
       "\n",
       "[52478 rows x 3 columns]"
      ],
      "text/html": [
       "<div>\n",
       "<style scoped>\n",
       "    .dataframe tbody tr th:only-of-type {\n",
       "        vertical-align: middle;\n",
       "    }\n",
       "\n",
       "    .dataframe tbody tr th {\n",
       "        vertical-align: top;\n",
       "    }\n",
       "\n",
       "    .dataframe thead th {\n",
       "        text-align: right;\n",
       "    }\n",
       "</style>\n",
       "<table border=\"1\" class=\"dataframe\">\n",
       "  <thead>\n",
       "    <tr style=\"text-align: right;\">\n",
       "      <th></th>\n",
       "      <th>red</th>\n",
       "      <th>green</th>\n",
       "      <th>blue</th>\n",
       "    </tr>\n",
       "  </thead>\n",
       "  <tbody>\n",
       "    <tr>\n",
       "      <th>0</th>\n",
       "      <td>0.253503</td>\n",
       "      <td>0.256873</td>\n",
       "      <td>0.220783</td>\n",
       "    </tr>\n",
       "    <tr>\n",
       "      <th>1</th>\n",
       "      <td>0.000000</td>\n",
       "      <td>0.000000</td>\n",
       "      <td>0.000000</td>\n",
       "    </tr>\n",
       "    <tr>\n",
       "      <th>2</th>\n",
       "      <td>0.297423</td>\n",
       "      <td>0.302600</td>\n",
       "      <td>0.297961</td>\n",
       "    </tr>\n",
       "    <tr>\n",
       "      <th>3</th>\n",
       "      <td>0.115158</td>\n",
       "      <td>0.181385</td>\n",
       "      <td>0.210113</td>\n",
       "    </tr>\n",
       "    <tr>\n",
       "      <th>4</th>\n",
       "      <td>0.000000</td>\n",
       "      <td>0.000000</td>\n",
       "      <td>0.000000</td>\n",
       "    </tr>\n",
       "    <tr>\n",
       "      <th>...</th>\n",
       "      <td>...</td>\n",
       "      <td>...</td>\n",
       "      <td>...</td>\n",
       "    </tr>\n",
       "    <tr>\n",
       "      <th>52473</th>\n",
       "      <td>0.000000</td>\n",
       "      <td>0.000000</td>\n",
       "      <td>0.000000</td>\n",
       "    </tr>\n",
       "    <tr>\n",
       "      <th>52474</th>\n",
       "      <td>0.000000</td>\n",
       "      <td>0.000000</td>\n",
       "      <td>0.000000</td>\n",
       "    </tr>\n",
       "    <tr>\n",
       "      <th>52475</th>\n",
       "      <td>0.000000</td>\n",
       "      <td>0.000000</td>\n",
       "      <td>0.000000</td>\n",
       "    </tr>\n",
       "    <tr>\n",
       "      <th>52476</th>\n",
       "      <td>0.000000</td>\n",
       "      <td>0.000000</td>\n",
       "      <td>0.000000</td>\n",
       "    </tr>\n",
       "    <tr>\n",
       "      <th>52477</th>\n",
       "      <td>0.145374</td>\n",
       "      <td>0.190487</td>\n",
       "      <td>0.222587</td>\n",
       "    </tr>\n",
       "  </tbody>\n",
       "</table>\n",
       "<p>52478 rows × 3 columns</p>\n",
       "</div>"
      ]
     },
     "execution_count": 5,
     "metadata": {},
     "output_type": "execute_result"
    }
   ],
   "execution_count": 5
  },
  {
   "metadata": {
    "ExecuteTime": {
     "end_time": "2024-11-24T17:58:56.616414Z",
     "start_time": "2024-11-24T17:58:55.391016Z"
    }
   },
   "cell_type": "code",
   "source": [
    "from src.rendering.render_point_cloud import prepare_point_cloud\n",
    "\n",
    "prepare_point_cloud(building_model)"
   ],
   "id": "fd6056f53cca166b",
   "outputs": [],
   "execution_count": 6
  },
  {
   "metadata": {
    "ExecuteTime": {
     "end_time": "2024-11-24T17:59:03.794606Z",
     "start_time": "2024-11-24T17:59:03.755605Z"
    }
   },
   "cell_type": "code",
   "source": "building_model.points[['red', 'green', 'blue']]",
   "id": "fa1914b664300d3b",
   "outputs": [
    {
     "data": {
      "text/plain": [
       "            red     green      blue\n",
       "0      0.253503  0.256873  0.220783\n",
       "1      0.000000  0.000000  0.000000\n",
       "2      0.297423  0.302600  0.297961\n",
       "3      0.115158  0.181385  0.210113\n",
       "4      0.000000  0.000000  0.000000\n",
       "...         ...       ...       ...\n",
       "52473  0.000000  0.000000  0.000000\n",
       "52474  0.000000  0.000000  0.000000\n",
       "52475  0.000000  0.000000  0.000000\n",
       "52476  0.000000  0.000000  0.000000\n",
       "52477  0.145374  0.190487  0.222587\n",
       "\n",
       "[52478 rows x 3 columns]"
      ],
      "text/html": [
       "<div>\n",
       "<style scoped>\n",
       "    .dataframe tbody tr th:only-of-type {\n",
       "        vertical-align: middle;\n",
       "    }\n",
       "\n",
       "    .dataframe tbody tr th {\n",
       "        vertical-align: top;\n",
       "    }\n",
       "\n",
       "    .dataframe thead th {\n",
       "        text-align: right;\n",
       "    }\n",
       "</style>\n",
       "<table border=\"1\" class=\"dataframe\">\n",
       "  <thead>\n",
       "    <tr style=\"text-align: right;\">\n",
       "      <th></th>\n",
       "      <th>red</th>\n",
       "      <th>green</th>\n",
       "      <th>blue</th>\n",
       "    </tr>\n",
       "  </thead>\n",
       "  <tbody>\n",
       "    <tr>\n",
       "      <th>0</th>\n",
       "      <td>0.253503</td>\n",
       "      <td>0.256873</td>\n",
       "      <td>0.220783</td>\n",
       "    </tr>\n",
       "    <tr>\n",
       "      <th>1</th>\n",
       "      <td>0.000000</td>\n",
       "      <td>0.000000</td>\n",
       "      <td>0.000000</td>\n",
       "    </tr>\n",
       "    <tr>\n",
       "      <th>2</th>\n",
       "      <td>0.297423</td>\n",
       "      <td>0.302600</td>\n",
       "      <td>0.297961</td>\n",
       "    </tr>\n",
       "    <tr>\n",
       "      <th>3</th>\n",
       "      <td>0.115158</td>\n",
       "      <td>0.181385</td>\n",
       "      <td>0.210113</td>\n",
       "    </tr>\n",
       "    <tr>\n",
       "      <th>4</th>\n",
       "      <td>0.000000</td>\n",
       "      <td>0.000000</td>\n",
       "      <td>0.000000</td>\n",
       "    </tr>\n",
       "    <tr>\n",
       "      <th>...</th>\n",
       "      <td>...</td>\n",
       "      <td>...</td>\n",
       "      <td>...</td>\n",
       "    </tr>\n",
       "    <tr>\n",
       "      <th>52473</th>\n",
       "      <td>0.000000</td>\n",
       "      <td>0.000000</td>\n",
       "      <td>0.000000</td>\n",
       "    </tr>\n",
       "    <tr>\n",
       "      <th>52474</th>\n",
       "      <td>0.000000</td>\n",
       "      <td>0.000000</td>\n",
       "      <td>0.000000</td>\n",
       "    </tr>\n",
       "    <tr>\n",
       "      <th>52475</th>\n",
       "      <td>0.000000</td>\n",
       "      <td>0.000000</td>\n",
       "      <td>0.000000</td>\n",
       "    </tr>\n",
       "    <tr>\n",
       "      <th>52476</th>\n",
       "      <td>0.000000</td>\n",
       "      <td>0.000000</td>\n",
       "      <td>0.000000</td>\n",
       "    </tr>\n",
       "    <tr>\n",
       "      <th>52477</th>\n",
       "      <td>0.145374</td>\n",
       "      <td>0.190487</td>\n",
       "      <td>0.222587</td>\n",
       "    </tr>\n",
       "  </tbody>\n",
       "</table>\n",
       "<p>52478 rows × 3 columns</p>\n",
       "</div>"
      ]
     },
     "execution_count": 7,
     "metadata": {},
     "output_type": "execute_result"
    }
   ],
   "execution_count": 7
  },
  {
   "metadata": {
    "ExecuteTime": {
     "end_time": "2024-10-27T10:10:14.689183Z",
     "start_time": "2024-10-27T10:10:14.662242Z"
    }
   },
   "cell_type": "code",
   "source": "building_model.points.columns",
   "id": "74e29e4642e7d1b7",
   "outputs": [
    {
     "data": {
      "text/plain": [
       "Index(['x', 'y', 'z', 'a', 'q0', 'q1', 'q2', 'q3', 's0', 's1', 's2', 'sh0_x',\n",
       "       'sh0_y', 'sh0_z', 'sh1_x', 'sh1_y', 'sh1_z', 'sh2_x', 'sh2_y', 'sh2_z',\n",
       "       'sh3_x', 'sh3_y', 'sh3_z', 'sh4_x', 'sh4_y', 'sh4_z', 'sh5_x', 'sh5_y',\n",
       "       'sh5_z', 'sh6_x', 'sh6_y', 'sh6_z', 'sh7_x', 'sh7_y', 'sh7_z', 'sh8_x',\n",
       "       'sh8_y', 'sh8_z', 'sh9_x', 'sh9_y', 'sh9_z', 'sh10_x', 'sh10_y',\n",
       "       'sh10_z', 'sh11_x', 'sh11_y', 'sh11_z', 'sh12_x', 'sh12_y', 'sh12_z',\n",
       "       'sh13_x', 'sh13_y', 'sh13_z', 'sh14_x', 'sh14_y', 'sh14_z', 'sh15_x',\n",
       "       'sh15_y', 'sh15_z'],\n",
       "      dtype='object')"
      ]
     },
     "execution_count": 6,
     "metadata": {},
     "output_type": "execute_result"
    }
   ],
   "execution_count": 6
  },
  {
   "metadata": {
    "ExecuteTime": {
     "end_time": "2024-10-27T10:10:23.507613Z",
     "start_time": "2024-10-27T10:10:23.488359Z"
    }
   },
   "cell_type": "code",
   "source": "bm_scales = np.exp(np.concatenate([building_model.points['s0'], building_model.points['s1'], building_model.points['s2']]))",
   "id": "e35c93da4b75fd6e",
   "outputs": [],
   "execution_count": 8
  },
  {
   "metadata": {
    "ExecuteTime": {
     "end_time": "2024-10-27T10:10:25.210398Z",
     "start_time": "2024-10-27T10:10:25.178398Z"
    }
   },
   "cell_type": "code",
   "source": "np.percentile(bm_scales, 90)",
   "id": "b08aa52418eafa1",
   "outputs": [
    {
     "data": {
      "text/plain": [
       "0.006715192459523678"
      ]
     },
     "execution_count": 9,
     "metadata": {},
     "output_type": "execute_result"
    }
   ],
   "execution_count": 9
  },
  {
   "metadata": {
    "ExecuteTime": {
     "end_time": "2024-10-27T10:10:27.599128Z",
     "start_time": "2024-10-27T10:10:26.875507Z"
    }
   },
   "cell_type": "code",
   "source": "plt.hist(bm_scales[(bm_scales < np.percentile(bm_scales, 95)) & (bm_scales > np.percentile(bm_scales, 5))])",
   "id": "6212ec5744897f64",
   "outputs": [
    {
     "data": {
      "text/plain": [
       "(array([1620134.,  235214.,  142797.,  106153.,   86289.,   72873.,\n",
       "          61429.,   50603.,   41426.,   33539.]),\n",
       " array([1.64806545e-06, 9.86867235e-04, 1.97208649e-03, 2.95730564e-03,\n",
       "        3.94252501e-03, 4.92774416e-03, 5.91296330e-03, 6.89818244e-03,\n",
       "        7.88340159e-03, 8.86862073e-03, 9.85383987e-03]),\n",
       " <BarContainer object of 10 artists>)"
      ]
     },
     "execution_count": 10,
     "metadata": {},
     "output_type": "execute_result"
    },
    {
     "data": {
      "text/plain": [
       "<Figure size 640x480 with 1 Axes>"
      ],
      "image/png": "[encoded data removed]"
     },
     "metadata": {},
     "output_type": "display_data"
    }
   ],
   "execution_count": 10
  },
  {
   "metadata": {
    "ExecuteTime": {
     "end_time": "2024-10-27T10:10:31.930383Z",
     "start_time": "2024-10-27T10:10:31.907383Z"
    }
   },
   "cell_type": "code",
   "source": "c_scales = np.exp(np.concatenate([city_model.points['s0'], city_model.points['s1'], city_model.points['s2']]))",
   "id": "c955c60444a3cf2d",
   "outputs": [],
   "execution_count": 11
  },
  {
   "metadata": {},
   "cell_type": "markdown",
   "source": "Scales are large!",
   "id": "6360d5b558a791b0"
  },
  {
   "metadata": {
    "ExecuteTime": {
     "end_time": "2024-10-27T10:10:33.329162Z",
     "start_time": "2024-10-27T10:10:33.049834Z"
    }
   },
   "cell_type": "code",
   "source": "plt.hist(c_scales[(c_scales < np.percentile(c_scales, 95)) & (c_scales > np.percentile(c_scales, 5))])",
   "id": "c04b2a6bf1a0858",
   "outputs": [
    {
     "data": {
      "text/plain": [
       "(array([47795., 16467.,  9378.,  6659.,  4675.,  3160.,  2238.,  1567.,\n",
       "         1089.,   882.]),\n",
       " array([3.74446390e-05, 5.25123365e-02, 1.04987226e-01, 1.57462120e-01,\n",
       "        2.09937006e-01, 2.62411892e-01, 3.14886779e-01, 3.67361695e-01,\n",
       "        4.19836581e-01, 4.72311467e-01, 5.24786353e-01]),\n",
       " <BarContainer object of 10 artists>)"
      ]
     },
     "execution_count": 12,
     "metadata": {},
     "output_type": "execute_result"
    },
    {
     "data": {
      "text/plain": [
       "<Figure size 640x480 with 1 Axes>"
      ],
      "image/png": "[encoded data removed]"
     },
     "metadata": {},
     "output_type": "display_data"
    }
   ],
   "execution_count": 12
  },
  {
   "metadata": {
    "ExecuteTime": {
     "end_time": "2024-10-27T10:10:49.074959Z",
     "start_time": "2024-10-27T10:10:49.057951Z"
    }
   },
   "cell_type": "code",
   "source": "len(building_model.points)",
   "id": "35b2447e470a6c59",
   "outputs": [
    {
     "data": {
      "text/plain": [
       "907577"
      ]
     },
     "execution_count": 14,
     "metadata": {},
     "output_type": "execute_result"
    }
   ],
   "execution_count": 14
  },
  {
   "metadata": {},
   "cell_type": "markdown",
   "source": "There are too little splats probably",
   "id": "3465e2efc2a5d1aa"
  },
  {
   "metadata": {
    "ExecuteTime": {
     "end_time": "2024-10-27T10:10:50.740716Z",
     "start_time": "2024-10-27T10:10:50.718713Z"
    }
   },
   "cell_type": "code",
   "source": "len(city_model.points)",
   "id": "2be92d54ab9445e9",
   "outputs": [
    {
     "data": {
      "text/plain": [
       "34782"
      ]
     },
     "execution_count": 15,
     "metadata": {},
     "output_type": "execute_result"
    }
   ],
   "execution_count": 15
  },
  {
   "metadata": {
    "ExecuteTime": {
     "end_time": "2024-10-27T10:11:12.305056Z",
     "start_time": "2024-10-27T10:11:12.299053Z"
    }
   },
   "cell_type": "code",
   "source": "c2_scales = np.exp(np.concatenate([city_model_2.points['s0'], city_model_2.points['s1'], city_model_2.points['s2']]))",
   "id": "b81a09fc68c0372f",
   "outputs": [],
   "execution_count": 16
  },
  {
   "metadata": {
    "ExecuteTime": {
     "end_time": "2024-10-27T10:11:31.958964Z",
     "start_time": "2024-10-27T10:11:31.645288Z"
    }
   },
   "cell_type": "code",
   "source": "plt.hist(c2_scales[(c2_scales < np.percentile(c2_scales, 95)) & (c2_scales > np.percentile(c2_scales, 5))])",
   "id": "b1856c4dcbc39524",
   "outputs": [
    {
     "data": {
      "text/plain": [
       "(array([56277., 22333., 12645.,  9598.,  7874.,  6306.,  4747.,  3733.,\n",
       "         2785.,  1988.]),\n",
       " array([0.02810702, 0.22757958, 0.42705214, 0.62652469, 0.82599729,\n",
       "        1.02546978, 1.22494245, 1.42441499, 1.62388754, 1.82336009,\n",
       "        2.02283263]),\n",
       " <BarContainer object of 10 artists>)"
      ]
     },
     "execution_count": 17,
     "metadata": {},
     "output_type": "execute_result"
    },
    {
     "data": {
      "text/plain": [
       "<Figure size 640x480 with 1 Axes>"
      ],
      "image/png": "[encoded data removed]"
     },
     "metadata": {},
     "output_type": "display_data"
    }
   ],
   "execution_count": 17
  }
 ],
 "metadata": {
  "kernelspec": {
   "display_name": "Python 3",
   "language": "python",
   "name": "python3"
  },
  "language_info": {
   "codemirror_mode": {
    "name": "ipython",
    "version": 2
   },
   "file_extension": ".py",
   "mimetype": "text/x-python",
   "name": "python",
   "nbconvert_exporter": "python",
   "pygments_lexer": "ipython2",
   "version": "2.7.6"
  }
 },
 "nbformat": 4,
 "nbformat_minor": 5
}
