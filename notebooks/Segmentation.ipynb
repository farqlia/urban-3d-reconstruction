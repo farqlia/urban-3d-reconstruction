{
 "cells": [
  {
   "metadata": {
    "ExecuteTime": {
     "end_time": "2024-11-27T19:43:18.771055Z",
     "start_time": "2024-11-27T19:43:18.755400Z"
    }
   },
   "cell_type": "code",
   "source": [
    "import pandas as pd\n",
    "from pyntcloud import PyntCloud\n",
    "import torch\n",
    "import torch.nn as nn\n",
    "from torch.utils.data import Dataset, DataLoader\n",
    "from pathlib import Path\n",
    "import seaborn as sns\n",
    "import numpy as np\n",
    "import pyvista as pv\n",
    "import torch.nn.functional as F\n",
    "import pytorch_lightning as pl\n",
    "import matplotlib.pyplot as plt\n",
    "from lightning.pytorch.loggers import TensorBoardLogger\n",
    "from torchmetrics import Precision, Accuracy, Recall\n",
    "\n",
    "\n",
    "device = torch.device('cuda' if torch.cuda.is_available() else 'cpu')\n",
    "device"
   ],
   "id": "237d305689a9b199",
   "outputs": [
    {
     "data": {
      "text/plain": [
       "device(type='cuda')"
      ]
     },
     "execution_count": 10,
     "metadata": {},
     "output_type": "execute_result"
    }
   ],
   "execution_count": 10
  },
  {
   "metadata": {
    "ExecuteTime": {
     "end_time": "2024-11-27T19:43:26.817574Z",
     "start_time": "2024-11-27T19:43:25.338635Z"
    }
   },
   "cell_type": "code",
   "source": [
    "\n",
    "file_cloud_path = Path('../data/birmingham_blocks/birmingham_block_6.ply')\n",
    "\n",
    "pt = PyntCloud.from_file(str(file_cloud_path))\n",
    "classes_count = pd.DataFrame(pt.points['class']).value_counts().reset_index().set_index('class')\n",
    "classes_df = pd.DataFrame.from_dict({'class': np.arange(13), 'name': ['ground', 'vegetation', 'building', 'wall', 'bridge',\n",
    "    'parking', 'rail', 'traffic road', 'street furniture', 'car', 'footpath', 'bike', 'water']}).set_index('class')\n",
    "counts = classes_df.join(classes_count).fillna(0)\n",
    "counts['weight'] = (1 / counts['count'] ** 0.5).replace([np.inf, -np.inf], 1e-6)"
   ],
   "id": "1a625e355650874b",
   "outputs": [],
   "execution_count": 11
  },
  {
   "metadata": {
    "ExecuteTime": {
     "end_time": "2024-11-27T19:44:18.694867Z",
     "start_time": "2024-11-27T19:44:16.341216Z"
    }
   },
   "cell_type": "code",
   "source": [
    "\n",
    "\n",
    "file_cloud = '../data/birmingham_blocks/birmingham_block_7_subsampled_test.ply'\n",
    "pt = PyntCloud.from_file(file_cloud)\n",
    "classes_count = pd.DataFrame(pt.points['scalar_class']).value_counts().reset_index().set_index('scalar_class')\n",
    "classes_df = pd.DataFrame.from_dict({'scalar_class': np.arange(13), 'name': ['ground', 'vegetation', 'building', 'wall', 'bridge',\n",
    "    'parking', 'rail', 'traffic road', 'street furniture', 'car', 'footpath', 'bike', 'water']}).set_index('scalar_class')\n",
    "classes_df\n",
    "counts = classes_df.join(classes_count).fillna(0)\n",
    "sns.barplot(counts, y='name', x='count')\n",
    "plt.show()"
   ],
   "id": "d5b89571ffaf2080",
   "outputs": [
    {
     "data": {
      "text/plain": [
       "<Figure size 640x480 with 1 Axes>"
      ],
      "image/png": "[encoded data removed]"
     },
     "metadata": {},
     "output_type": "display_data"
    }
   ],
   "execution_count": 13
  },
  {
   "metadata": {
    "ExecuteTime": {
     "end_time": "2024-11-27T19:47:01.043836Z",
     "start_time": "2024-11-27T19:46:54.856546Z"
    }
   },
   "cell_type": "code",
   "source": [
    "\n",
    "def get_weights(input_files):\n",
    "    all_points = []\n",
    "\n",
    "    # Load points from each file\n",
    "    for file_path in input_files:\n",
    "        print(f\"Processing: {file_path}\")\n",
    "        pt = PyntCloud.from_file(file_path)\n",
    "        all_points.append(pt.points)\n",
    "\n",
    "    # Concatenate all points into a single DataFrame\n",
    "    combined_points = pd.concat(all_points, ignore_index=True)\n",
    "\n",
    "    # Count occurrences of each class\n",
    "    classes_count = (\n",
    "        pd.DataFrame(combined_points['class'])\n",
    "        .value_counts()\n",
    "        .reset_index()\n",
    "        .rename(columns={0: 'count'})\n",
    "        .set_index('class')\n",
    "    )\n",
    "\n",
    "    # Class names and mapping\n",
    "    classes_df = pd.DataFrame.from_dict({\n",
    "        'class': np.arange(13),\n",
    "        'name': ['ground', 'vegetation', 'building', 'wall', 'bridge',\n",
    "                 'parking', 'rail', 'traffic road', 'street furniture',\n",
    "                 'car', 'footpath', 'bike', 'water']\n",
    "    }).set_index('class')\n",
    "\n",
    "    # Join class counts with class names\n",
    "    counts = classes_df.join(classes_count).fillna(0)\n",
    "\n",
    "    counts['weight'] = (1 / counts['count']).replace([np.inf, -np.inf], 1e-6)\n",
    "\n",
    "    return torch.Tensor(counts['weight'])\n",
    "\n",
    "\n",
    "# Example usage:\n",
    "\n",
    "input_files = [\n",
    "    '../data/birmingham_blocks/birmingham_block_6.ply',\n",
    "    '../data/birmingham_blocks/birmingham_block_7.ply',\n",
    "    '../data/birmingham_blocks/cambridge_block_10.ply'\n",
    "]\n",
    "process_multiple_point_clouds(input_files)"
   ],
   "id": "1b3a9f53f5ce25bd",
   "outputs": [
    {
     "name": "stdout",
     "output_type": "stream",
     "text": [
      "Processing: ../data/birmingham_blocks/birmingham_block_6.ply\n",
      "Processing: ../data/birmingham_blocks/birmingham_block_7.ply\n",
      "Processing: ../data/birmingham_blocks/cambridge_block_10.ply\n"
     ]
    },
    {
     "data": {
      "text/plain": [
       "tensor([2.0093e-04, 1.6859e-04, 1.6316e-04, 8.0951e-04, 4.3235e-03, 6.2146e-04,\n",
       "        1.0000e-06, 3.1947e-04, 7.7695e-04, 6.9161e-04, 1.7887e-03, 1.2405e-02,\n",
       "        9.7356e-04])"
      ]
     },
     "execution_count": 15,
     "metadata": {},
     "output_type": "execute_result"
    }
   ],
   "execution_count": 15
  },
  {
   "metadata": {
    "ExecuteTime": {
     "end_time": "2024-11-26T23:55:02.497491Z",
     "start_time": "2024-11-26T23:54:59.188558Z"
    }
   },
   "cell_type": "code",
   "source": [
    "\n",
    "\n",
    "file_cloud = '../data/birmingham_blocks/birmingham_block_7_subsampled_train.ply'\n",
    "pt = PyntCloud.from_file(file_cloud)\n",
    "classes_count = pd.DataFrame(pt.points['scalar_class']).value_counts().reset_index().set_index('scalar_class')\n",
    "classes_df = pd.DataFrame.from_dict({'scalar_class': np.arange(13), 'name': ['ground', 'vegetation', 'building', 'wall', 'bridge',\n",
    "    'parking', 'rail', 'traffic road', 'street furniture', 'car', 'footpath', 'bike', 'water']}).set_index('scalar_class')\n",
    "classes_df\n",
    "counts = classes_df.join(classes_count).fillna(0)\n",
    "sns.barplot(counts, y='name', x='count')\n",
    "plt.show()"
   ],
   "id": "cb9332b31759d9bc",
   "outputs": [
    {
     "data": {
      "text/plain": [
       "<Figure size 640x480 with 1 Axes>"
      ],
      "image/png": "[encoded data removed]"
     },
     "metadata": {},
     "output_type": "display_data"
    }
   ],
   "execution_count": 3
  },
  {
   "metadata": {
    "ExecuteTime": {
     "end_time": "2024-11-26T23:55:03.378100Z",
     "start_time": "2024-11-26T23:55:02.513113Z"
    }
   },
   "cell_type": "code",
   "source": [
    "file_cloud = '../data/birmingham_blocks/birmingham_block_7.ply'\n",
    "pt = PyntCloud.from_file(file_cloud)\n",
    "classes_count = pd.DataFrame(pt.points['class']).value_counts().reset_index().set_index('class')\n",
    "classes_df = pd.DataFrame.from_dict({'class': np.arange(13), 'name': ['ground', 'vegetation', 'building', 'wall', 'bridge',\n",
    "    'parking', 'rail', 'traffic road', 'street furniture', 'car', 'footpath', 'bike', 'water']}).set_index('class')\n",
    "classes_df\n",
    "counts = classes_df.join(classes_count).fillna(0)\n",
    "sns.barplot(counts, y='name', x='count')\n",
    "plt.show()"
   ],
   "id": "93cfae3de71448d1",
   "outputs": [
    {
     "data": {
      "text/plain": [
       "<Figure size 640x480 with 1 Axes>"
      ],
      "image/png": "[encoded data removed]"
     },
     "metadata": {},
     "output_type": "display_data"
    }
   ],
   "execution_count": 4
  },
  {
   "metadata": {
    "ExecuteTime": {
     "end_time": "2024-11-26T23:55:03.409727Z",
     "start_time": "2024-11-26T23:55:03.393721Z"
    }
   },
   "cell_type": "code",
   "source": [
    "\n",
    "counts['weight'] = (1 / counts['count']).replace([np.inf, -np.inf], 1e-6)"
   ],
   "id": "ee37e6eb52d39397",
   "outputs": [],
   "execution_count": 5
  },
  {
   "metadata": {
    "ExecuteTime": {
     "end_time": "2024-11-26T23:55:03.441052Z",
     "start_time": "2024-11-26T23:55:03.425415Z"
    }
   },
   "cell_type": "code",
   "source": [
    "\n",
    "counts['weight']"
   ],
   "id": "1ef76edee1634c64",
   "outputs": [
    {
     "data": {
      "text/plain": [
       "class\n",
       "0     1.746973e-07\n",
       "1     1.014904e-06\n",
       "2     1.392765e-07\n",
       "3     1.553099e-06\n",
       "4     1.000000e-06\n",
       "5     9.354327e-07\n",
       "6     1.000000e-06\n",
       "7     3.322078e-07\n",
       "8     2.232925e-06\n",
       "9     1.277136e-06\n",
       "10    1.000000e-06\n",
       "11    1.000000e-06\n",
       "12    1.000000e-06\n",
       "Name: weight, dtype: float64"
      ]
     },
     "execution_count": 6,
     "metadata": {},
     "output_type": "execute_result"
    }
   ],
   "execution_count": 6
  },
  {
   "metadata": {
    "ExecuteTime": {
     "end_time": "2024-11-26T23:55:03.519159Z",
     "start_time": "2024-11-26T23:55:03.503536Z"
    }
   },
   "cell_type": "code",
   "source": "(1 / counts['count']).replace([np.inf, -np.inf], 1e-6)",
   "id": "7b6f9cf007b92fed",
   "outputs": [
    {
     "data": {
      "text/plain": [
       "class\n",
       "0     1.746973e-07\n",
       "1     1.014904e-06\n",
       "2     1.392765e-07\n",
       "3     1.553099e-06\n",
       "4     1.000000e-06\n",
       "5     9.354327e-07\n",
       "6     1.000000e-06\n",
       "7     3.322078e-07\n",
       "8     2.232925e-06\n",
       "9     1.277136e-06\n",
       "10    1.000000e-06\n",
       "11    1.000000e-06\n",
       "12    1.000000e-06\n",
       "Name: count, dtype: float64"
      ]
     },
     "execution_count": 7,
     "metadata": {},
     "output_type": "execute_result"
    }
   ],
   "execution_count": 7
  },
  {
   "metadata": {
    "ExecuteTime": {
     "end_time": "2024-11-26T23:55:03.581644Z",
     "start_time": "2024-11-26T23:55:03.566022Z"
    }
   },
   "cell_type": "code",
   "source": [
    "def min_max_standardize(coords):\n",
    "    x = (coords.loc[:, 'x'] - np.min(coords.loc[:, 'x'])) / (np.max(coords.loc[:, 'x']) - np.min(coords.loc[:, 'x']))\n",
    "    y = (coords.loc[:, 'y'] - np.min(coords.loc[:, 'y'])) / (np.max(coords.loc[:, 'y']) - np.min(coords.loc[:, 'y']))\n",
    "    z = (coords.loc[:, 'z'] - np.min(coords.loc[:, 'z'])) / (np.max(coords.loc[:, 'z']) - np.min(coords.loc[:, 'z']))\n",
    "\n",
    "    return x, y, z"
   ],
   "id": "c97eb3840c615952",
   "outputs": [],
   "execution_count": 8
  },
  {
   "metadata": {
    "ExecuteTime": {
     "end_time": "2024-11-26T23:55:03.628507Z",
     "start_time": "2024-11-26T23:55:03.612886Z"
    }
   },
   "cell_type": "code",
   "source": [
    "from urb3d.segmentation.dataset import PointSampler\n",
    "from urb3d.segmentation.segmentor import segmentation_loss, PointNetSegmentor"
   ],
   "id": "856021f3b4c7967f",
   "outputs": [],
   "execution_count": 9
  },
  {
   "metadata": {
    "ExecuteTime": {
     "end_time": "2024-11-26T23:55:03.690993Z",
     "start_time": "2024-11-26T23:55:03.659750Z"
    }
   },
   "cell_type": "code",
   "source": [
    "class PointCloudSegmentationDataset(Dataset):\n",
    "\n",
    "    def __init__(self, point_cloud_path, subsample_size=None, point_sampler=None, ds_size=None):\n",
    "        self.point_sampler = point_sampler\n",
    "        self.pt = PyntCloud.from_file(point_cloud_path)\n",
    "        self.ds_size = ds_size\n",
    "        self.subsample_size = subsample_size if subsample_size else len(self.pt.points)\n",
    "        x, y, z = min_max_standardize(self.pt.points[['x', 'y', 'z']])\n",
    "\n",
    "        self.pt.points['x_norm'] = x\n",
    "        self.pt.points['y_norm'] = y\n",
    "        self.pt.points['z_norm'] = z\n",
    "\n",
    "        self.label = 'class' if 'class' in self.pt.points.columns else 'scalar_class'\n",
    "\n",
    "    def __len__(self):\n",
    "        # How to set the number of batches?\n",
    "        return len(self.pt.points) // self.subsample_size if self.ds_size is None else self.ds_size\n",
    "\n",
    "    def __getitem__(self, idx):\n",
    "        # For now, a point cloud is sampled each time this function is called (it doesn't depend on idx)\n",
    "        sampled_cloud = self.point_sampler(self.pt.points[['x_norm', 'y_norm', 'z_norm', self.label]])\n",
    "        sampled_points = torch.tensor(sampled_cloud[['x_norm', 'y_norm', 'z_norm']].values, device=device)\n",
    "        labels = torch.tensor(sampled_cloud[[self.label]].values, device=device, dtype=torch.long).flatten()\n",
    "        return sampled_points.T, labels"
   ],
   "id": "163847c48e6f5ecc",
   "outputs": [],
   "execution_count": 10
  },
  {
   "metadata": {
    "ExecuteTime": {
     "end_time": "2024-11-26T23:55:04.160776Z",
     "start_time": "2024-11-26T23:55:03.737857Z"
    }
   },
   "cell_type": "code",
   "source": [
    "segmentor = PointNetSegmentor(6)\n",
    "logits, m3x3, m64x64 = segmentor.forward(torch.randn(10, 1024, 3).transpose(2, 1))"
   ],
   "id": "ac5a364bfd5c6ebf",
   "outputs": [],
   "execution_count": 11
  },
  {
   "metadata": {
    "ExecuteTime": {
     "end_time": "2024-11-26T23:55:04.180963Z",
     "start_time": "2024-11-26T23:55:04.165321Z"
    }
   },
   "cell_type": "code",
   "source": "m3x3",
   "id": "511f69631171aa66",
   "outputs": [
    {
     "data": {
      "text/plain": [
       "tensor([[[ 0.8482,  0.0867,  0.4104],\n",
       "         [-1.1168,  1.1557, -0.5991],\n",
       "         [ 0.2558, -0.1135,  1.3681]],\n",
       "\n",
       "        [[ 1.8687, -0.5228, -0.1996],\n",
       "         [-0.3029,  0.5913, -0.4487],\n",
       "         [ 0.0497, -0.0220,  1.7229]],\n",
       "\n",
       "        [[ 1.2674, -0.2439,  0.8858],\n",
       "         [-0.0420,  0.8664, -0.1502],\n",
       "         [ 0.2647, -0.1648,  0.8471]],\n",
       "\n",
       "        [[ 1.0658, -0.3102,  0.8506],\n",
       "         [-1.4558,  1.8659, -0.2857],\n",
       "         [-1.2868, -0.1688,  0.7949]],\n",
       "\n",
       "        [[ 0.8793, -0.6172,  0.9946],\n",
       "         [-0.5322,  0.9681,  0.3860],\n",
       "         [ 0.3102,  0.2584,  1.1523]],\n",
       "\n",
       "        [[ 0.8283,  0.1114,  0.2032],\n",
       "         [ 0.0055,  0.6433, -0.6405],\n",
       "         [-0.1861, -0.3109,  1.4339]],\n",
       "\n",
       "        [[ 1.0531, -0.7844, -0.2099],\n",
       "         [-0.2485,  0.8803,  0.1354],\n",
       "         [-0.7184,  0.3440,  0.9817]],\n",
       "\n",
       "        [[ 0.8971, -0.3238,  0.9514],\n",
       "         [ 0.0313,  0.9735, -0.3493],\n",
       "         [ 0.5460,  0.2617,  1.2828]],\n",
       "\n",
       "        [[ 1.3394, -0.9506,  0.3619],\n",
       "         [-0.5967,  1.4901, -0.0248],\n",
       "         [-0.3400, -0.6369,  1.4992]],\n",
       "\n",
       "        [[ 0.7074, -0.2676,  0.2707],\n",
       "         [-0.7131,  0.8193,  0.7560],\n",
       "         [ 0.4686,  0.2258,  1.4964]]], grad_fn=<AddBackward0>)"
      ]
     },
     "execution_count": 12,
     "metadata": {},
     "output_type": "execute_result"
    }
   ],
   "execution_count": 12
  },
  {
   "metadata": {
    "ExecuteTime": {
     "end_time": "2024-11-26T23:55:04.227827Z",
     "start_time": "2024-11-26T23:55:04.196584Z"
    }
   },
   "cell_type": "code",
   "source": "logits.shape # (bs, # of classes, cld_s)",
   "id": "9b5094a34f192da2",
   "outputs": [
    {
     "data": {
      "text/plain": [
       "torch.Size([10, 6, 1024])"
      ]
     },
     "execution_count": 13,
     "metadata": {},
     "output_type": "execute_result"
    }
   ],
   "execution_count": 13
  },
  {
   "metadata": {
    "ExecuteTime": {
     "end_time": "2024-11-26T23:55:04.271296Z",
     "start_time": "2024-11-26T23:55:04.251620Z"
    }
   },
   "cell_type": "code",
   "source": "torch.argmax(logits, dim=1).shape",
   "id": "46c268e6e526d87b",
   "outputs": [
    {
     "data": {
      "text/plain": [
       "torch.Size([10, 1024])"
      ]
     },
     "execution_count": 14,
     "metadata": {},
     "output_type": "execute_result"
    }
   ],
   "execution_count": 14
  },
  {
   "metadata": {
    "ExecuteTime": {
     "end_time": "2024-11-26T23:55:04.318160Z",
     "start_time": "2024-11-26T23:55:04.302538Z"
    }
   },
   "cell_type": "code",
   "source": [
    "\n",
    "torch.Tensor(counts['weight'])"
   ],
   "id": "66772f2e2741ad4e",
   "outputs": [
    {
     "data": {
      "text/plain": [
       "tensor([1.7470e-07, 1.0149e-06, 1.3928e-07, 1.5531e-06, 1.0000e-06, 9.3543e-07,\n",
       "        1.0000e-06, 3.3221e-07, 2.2329e-06, 1.2771e-06, 1.0000e-06, 1.0000e-06,\n",
       "        1.0000e-06])"
      ]
     },
     "execution_count": 15,
     "metadata": {},
     "output_type": "execute_result"
    }
   ],
   "execution_count": 15
  },
  {
   "metadata": {
    "ExecuteTime": {
     "end_time": "2024-11-26T23:55:04.397637Z",
     "start_time": "2024-11-26T23:55:04.382015Z"
    }
   },
   "cell_type": "code",
   "source": "segmentation_loss(logits, torch.randint(low=0, high=6, size=(10, 1024)), m3x3, m64x64)\n",
   "id": "b8190a4ad0d32daa",
   "outputs": [
    {
     "data": {
      "text/plain": [
       "tensor(2.0944, grad_fn=<AddBackward0>)"
      ]
     },
     "execution_count": 16,
     "metadata": {},
     "output_type": "execute_result"
    }
   ],
   "execution_count": 16
  },
  {
   "metadata": {
    "ExecuteTime": {
     "end_time": "2024-11-26T23:55:08.839468Z",
     "start_time": "2024-11-26T23:55:04.397637Z"
    }
   },
   "cell_type": "code",
   "source": [
    "subsample_size = 1024 # as in original paper but ofc can be different\n",
    "batch_size = 32\n",
    "\n",
    "training_dataset = PointCloudSegmentationDataset('../data/birmingham_blocks/birmingham_block_7_subsampled_train.ply',\n",
    "                                     subsample_size=subsample_size, point_sampler=PointSampler(subsample_size))\n",
    "train_loader = DataLoader(training_dataset, batch_size=batch_size, shuffle=True)\n",
    "\n",
    "validation_dataset = PointCloudSegmentationDataset('../data/birmingham_blocks/birmingham_block_7_subsampled_test.ply',\n",
    "                                     subsample_size=subsample_size, point_sampler=PointSampler(subsample_size))\n",
    "val_loader = DataLoader(validation_dataset, batch_size=batch_size)\n",
    "\n",
    "model = PointNetSegmentor(classes=len(classes_df))"
   ],
   "id": "87c5f9a480fb3996",
   "outputs": [],
   "execution_count": 17
  },
  {
   "metadata": {
    "ExecuteTime": {
     "end_time": "2024-11-26T23:55:08.886734Z",
     "start_time": "2024-11-26T23:55:08.871110Z"
    }
   },
   "cell_type": "code",
   "source": [
    "class PointCloudSegmentationDataset(Dataset):\n",
    "\n",
    "    def __init__(self, point_cloud_path, subsample_size=None, point_sampler=None, ds_size=None):\n",
    "        self.point_sampler = point_sampler\n",
    "        self.pt: PyntCloud = PyntCloud.from_file(point_cloud_path)\n",
    "        # self.pt.points['scalar_class'] = -1  ## temp\n",
    "        self.ds_size = ds_size\n",
    "        self.subsample_size = subsample_size if subsample_size else len(self.pt.points)\n",
    "        x, y, z = min_max_standardize(self.pt.points[['x', 'y', 'z']])\n",
    "\n",
    "        self.pt.points['x_norm'] = x\n",
    "        self.pt.points['y_norm'] = y\n",
    "        self.pt.points['z_norm'] = z\n",
    "\n",
    "        self.label = 'class' if 'class' in self.pt.points.columns else 'scalar_class'\n",
    "\n",
    "    def get_pointcloud(self) -> PyntCloud:\n",
    "        return self.pt\n",
    "\n",
    "    def __len__(self):\n",
    "        # How to set the number of batches?\n",
    "        return len(self.pt.points) // self.subsample_size if self.ds_size is None else self.ds_size\n",
    "\n",
    "    def __getitem__(self, idx):\n",
    "        device = torch.device('cuda' if torch.cuda.is_available() else 'cpu')\n",
    "        # For now, a point cloud is sampled each time this function is called (it doesn't depend on idx)\n",
    "        sampled_cloud = self.point_sampler(self.pt.points[['x_norm', 'y_norm', 'z_norm', self.label]])\n",
    "        sampled_points = torch.tensor(sampled_cloud[['x_norm', 'y_norm', 'z_norm']].values, device=device)\n",
    "        labels = torch.tensor(sampled_cloud[[self.label]].values, device=device, dtype=torch.long).flatten()\n",
    "        return sampled_points.T, labels"
   ],
   "id": "499783fb1360aeb0",
   "outputs": [],
   "execution_count": 18
  },
  {
   "metadata": {
    "ExecuteTime": {
     "end_time": "2024-11-26T23:51:18.658598400Z",
     "start_time": "2024-11-25T21:47:44.785509Z"
    }
   },
   "cell_type": "code",
   "source": [
    "experiment_name = \"new_deal\"\n",
    "checkpoint_dir = Path(f\"../models/{experiment_name}\")\n",
    "logger = TensorBoardLogger(save_dir=f\"../models/{experiment_name}/tlogs\", name=experiment_name)\n",
    "\n",
    "max_epochs = 1"
   ],
   "id": "7944094e7e85de0e",
   "outputs": [],
   "execution_count": 17
  },
  {
   "metadata": {
    "ExecuteTime": {
     "end_time": "2024-11-25T21:48:05.506837Z",
     "start_time": "2024-11-25T21:47:45.171256Z"
    }
   },
   "cell_type": "code",
   "source": [
    "checkpoint_callback = pl.callbacks.ModelCheckpoint(dirpath=checkpoint_dir / 'best_results', filename='{epoch}-{val_loss:.2f}-{train_loss:.2f}',\n",
    "                                      monitor='val_loss', save_last=True)\n",
    "early_stopping = pl.callbacks.EarlyStopping(monitor='val_loss', verbose=True)\n",
    "\n",
    "trainer = pl.Trainer(max_epochs=max_epochs, fast_dev_run=False,\n",
    "                     default_root_dir=checkpoint_dir, callbacks=[checkpoint_callback], logger=logger)\n",
    "\n",
    "trainer.fit(model, train_loader, val_loader)"
   ],
   "id": "40185648d33c62b3",
   "outputs": [
    {
     "name": "stderr",
     "output_type": "stream",
     "text": [
      "GPU available: True (cuda), used: True\n",
      "TPU available: False, using: 0 TPU cores\n",
      "HPU available: False, using: 0 HPUs\n",
      "C:\\Users\\kasia\\PycharmProjects\\urban-3d-reconstruction\\venv\\lib\\site-packages\\pytorch_lightning\\callbacks\\model_checkpoint.py:654: Checkpoint directory C:\\Users\\kasia\\PycharmProjects\\urban-3d-reconstruction\\models\\new_deal\\best_results exists and is not empty.\n",
      "LOCAL_RANK: 0 - CUDA_VISIBLE_DEVICES: [0]\n",
      "\n",
      "   | Name      | Type                | Params | Mode \n",
      "-----------------------------------------------------------\n",
      "0  | precision | MulticlassPrecision | 0      | train\n",
      "1  | recall    | MulticlassRecall    | 0      | train\n",
      "2  | accuracy  | MulticlassAccuracy  | 0      | train\n",
      "3  | transform | Transform           | 2.8 M  | train\n",
      "4  | conv1     | Conv1d              | 557 K  | train\n",
      "5  | conv2     | Conv1d              | 131 K  | train\n",
      "6  | conv3     | Conv1d              | 32.9 K | train\n",
      "7  | conv4     | Conv1d              | 1.7 K  | train\n",
      "8  | bn1       | BatchNorm1d         | 1.0 K  | train\n",
      "9  | bn2       | BatchNorm1d         | 512    | train\n",
      "10 | bn3       | BatchNorm1d         | 256    | train\n",
      "11 | bn4       | BatchNorm1d         | 26     | train\n",
      "12 | dropout   | Dropout             | 0      | train\n",
      "-----------------------------------------------------------\n",
      "3.5 M     Trainable params\n",
      "0         Non-trainable params\n",
      "3.5 M     Total params\n",
      "14.115    Total estimated model params size (MB)\n",
      "43        Modules in train mode\n",
      "0         Modules in eval mode\n"
     ]
    },
    {
     "data": {
      "text/plain": [
       "Sanity Checking: |          | 0/? [00:00<?, ?it/s]"
      ],
      "application/vnd.jupyter.widget-view+json": {
       "version_major": 2,
       "version_minor": 0,
       "model_id": "d9c886f443c841b7b21effe97575829d"
      }
     },
     "metadata": {},
     "output_type": "display_data"
    },
    {
     "name": "stderr",
     "output_type": "stream",
     "text": [
      "C:\\Users\\kasia\\PycharmProjects\\urban-3d-reconstruction\\venv\\lib\\site-packages\\pytorch_lightning\\trainer\\connectors\\data_connector.py:424: The 'val_dataloader' does not have many workers which may be a bottleneck. Consider increasing the value of the `num_workers` argument` to `num_workers=7` in the `DataLoader` to improve performance.\n",
      "C:\\Users\\kasia\\PycharmProjects\\urban-3d-reconstruction\\venv\\lib\\site-packages\\pytorch_lightning\\trainer\\connectors\\data_connector.py:424: The 'train_dataloader' does not have many workers which may be a bottleneck. Consider increasing the value of the `num_workers` argument` to `num_workers=7` in the `DataLoader` to improve performance.\n",
      "C:\\Users\\kasia\\PycharmProjects\\urban-3d-reconstruction\\venv\\lib\\site-packages\\pytorch_lightning\\loops\\fit_loop.py:298: The number of training batches (18) is smaller than the logging interval Trainer(log_every_n_steps=50). Set a lower value for log_every_n_steps if you want to see logs for the training epoch.\n"
     ]
    },
    {
     "data": {
      "text/plain": [
       "Training: |          | 0/? [00:00<?, ?it/s]"
      ],
      "application/vnd.jupyter.widget-view+json": {
       "version_major": 2,
       "version_minor": 0,
       "model_id": "716937c2c95a4103bf05c3bfda737f80"
      }
     },
     "metadata": {},
     "output_type": "display_data"
    },
    {
     "data": {
      "text/plain": [
       "Validation: |          | 0/? [00:00<?, ?it/s]"
      ],
      "application/vnd.jupyter.widget-view+json": {
       "version_major": 2,
       "version_minor": 0,
       "model_id": "b2dccb15b5a949e2ad684887f85678e5"
      }
     },
     "metadata": {},
     "output_type": "display_data"
    },
    {
     "name": "stderr",
     "output_type": "stream",
     "text": [
      "`Trainer.fit` stopped: `max_epochs=1` reached.\n"
     ]
    }
   ],
   "execution_count": 18
  },
  {
   "metadata": {
    "ExecuteTime": {
     "end_time": "2024-11-27T19:09:59.661086Z",
     "start_time": "2024-11-27T19:09:59.629912Z"
    }
   },
   "cell_type": "code",
   "source": "%load_ext tensorboard",
   "id": "b021fa6d24d42eb0",
   "outputs": [],
   "execution_count": 1
  },
  {
   "metadata": {
    "ExecuteTime": {
     "end_time": "2024-11-27T19:10:58.744770Z",
     "start_time": "2024-11-27T19:10:58.722830Z"
    }
   },
   "cell_type": "code",
   "source": "%reload_ext tensorboard",
   "id": "e3af2de89005e3b0",
   "outputs": [],
   "execution_count": 3
  },
  {
   "metadata": {
    "ExecuteTime": {
     "end_time": "2024-11-27T19:11:20.286434Z",
     "start_time": "2024-11-27T19:11:20.231582Z"
    }
   },
   "cell_type": "code",
   "source": "!kill 8812",
   "id": "3b0c56cddadd006e",
   "outputs": [
    {
     "name": "stderr",
     "output_type": "stream",
     "text": [
      "'kill' is not recognized as an internal or external command,\n",
      "operable program or batch file.\n"
     ]
    }
   ],
   "execution_count": 5
  },
  {
   "metadata": {
    "ExecuteTime": {
     "end_time": "2024-11-27T20:02:31.674909Z",
     "start_time": "2024-11-27T20:02:31.642901Z"
    }
   },
   "cell_type": "code",
   "source": "%tensorboard --logdir ..\n",
   "id": "c2516230a5b616b5",
   "outputs": [
    {
     "data": {
      "text/plain": [
       "Reusing TensorBoard on port 6007 (pid 9496), started 0:00:08 ago. (Use '!kill 9496' to kill it.)"
      ]
     },
     "metadata": {},
     "output_type": "display_data"
    },
    {
     "data": {
      "text/plain": [
       "<IPython.core.display.HTML object>"
      ],
      "text/html": [
       "\n",
       "      <iframe id=\"tensorboard-frame-fb6927e7af576eb6\" width=\"100%\" height=\"800\" frameborder=\"0\">\n",
       "      </iframe>\n",
       "      <script>\n",
       "        (function() {\n",
       "          const frame = document.getElementById(\"tensorboard-frame-fb6927e7af576eb6\");\n",
       "          const url = new URL(\"/\", window.location);\n",
       "          const port = 6007;\n",
       "          if (port) {\n",
       "            url.port = port;\n",
       "          }\n",
       "          frame.src = url;\n",
       "        })();\n",
       "      </script>\n",
       "    "
      ]
     },
     "metadata": {},
     "output_type": "display_data"
    }
   ],
   "execution_count": 17
  },
  {
   "metadata": {
    "ExecuteTime": {
     "end_time": "2024-11-26T14:18:44.798840Z",
     "start_time": "2024-11-26T14:18:44.783218Z"
    }
   },
   "cell_type": "code",
   "source": [
    "\n",
    "2+2"
   ],
   "id": "f2c57c0ea8d55af1",
   "outputs": [
    {
     "data": {
      "text/plain": [
       "4"
      ]
     },
     "execution_count": 46,
     "metadata": {},
     "output_type": "execute_result"
    }
   ],
   "execution_count": 46
  },
  {
   "metadata": {
    "ExecuteTime": {
     "end_time": "2024-11-26T23:55:11.108820Z",
     "start_time": "2024-11-26T23:55:11.068937Z"
    }
   },
   "cell_type": "code",
   "source": [
    "\n",
    "\n",
    "import torch\n",
    "import torch.nn as nn\n",
    "import torch.nn.functional as F\n",
    "from time import time\n",
    "import numpy as np\n",
    "\n",
    "def timeit(tag, t):\n",
    "    print(\"{}: {}s\".format(tag, time() - t))\n",
    "    return time()\n",
    "\n",
    "def pc_normalize(pc):\n",
    "    l = pc.shape[0]\n",
    "    centroid = np.mean(pc, axis=0)\n",
    "    pc = pc - centroid\n",
    "    m = np.max(np.sqrt(np.sum(pc**2, axis=1)))\n",
    "    pc = pc / m\n",
    "    return pc\n",
    "\n",
    "def square_distance(src, dst):\n",
    "    \"\"\"\n",
    "    Calculate Euclid distance between each two points.\n",
    "\n",
    "    src^T * dst = xn * xm + yn * ym + zn * zm；\n",
    "    sum(src^2, dim=-1) = xn*xn + yn*yn + zn*zn;\n",
    "    sum(dst^2, dim=-1) = xm*xm + ym*ym + zm*zm;\n",
    "    dist = (xn - xm)^2 + (yn - ym)^2 + (zn - zm)^2\n",
    "         = sum(src**2,dim=-1)+sum(dst**2,dim=-1)-2*src^T*dst\n",
    "\n",
    "    Input:\n",
    "        src: source points, [B, N, C]\n",
    "        dst: target points, [B, M, C]\n",
    "    Output:\n",
    "        dist: per-point square distance, [B, N, M]\n",
    "    \"\"\"\n",
    "    B, N, _ = src.shape\n",
    "    _, M, _ = dst.shape\n",
    "    dist = -2 * torch.matmul(src, dst.permute(0, 2, 1))\n",
    "    dist += torch.sum(src ** 2, -1).view(B, N, 1)\n",
    "    dist += torch.sum(dst ** 2, -1).view(B, 1, M)\n",
    "    return dist\n",
    "\n",
    "\n",
    "def index_points(points, idx):\n",
    "    \"\"\"\n",
    "\n",
    "    Input:\n",
    "        points: input points data, [B, N, C]\n",
    "        idx: sample index data, [B, S]\n",
    "    Return:\n",
    "        new_points:, indexed points data, [B, S, C]\n",
    "    \"\"\"\n",
    "    device = points.device\n",
    "    B = points.shape[0]\n",
    "    view_shape = list(idx.shape)\n",
    "    view_shape[1:] = [1] * (len(view_shape) - 1)\n",
    "    repeat_shape = list(idx.shape)\n",
    "    repeat_shape[0] = 1\n",
    "    batch_indices = torch.arange(B, dtype=torch.long).to(device).view(view_shape).repeat(repeat_shape)\n",
    "    new_points = points[batch_indices, idx, :]\n",
    "    return new_points\n",
    "\n",
    "\n",
    "def farthest_point_sample(xyz, npoint):\n",
    "    \"\"\"\n",
    "    Input:\n",
    "        xyz: pointcloud data, [B, N, 3]\n",
    "        npoint: number of samples\n",
    "    Return:\n",
    "        centroids: sampled pointcloud index, [B, npoint]\n",
    "    \"\"\"\n",
    "    device = xyz.device\n",
    "    B, N, C = xyz.shape\n",
    "    centroids = torch.zeros(B, npoint, dtype=torch.long).to(device)\n",
    "    distance = torch.ones(B, N).to(device) * 1e10\n",
    "    farthest = torch.randint(0, N, (B,), dtype=torch.long).to(device)\n",
    "    batch_indices = torch.arange(B, dtype=torch.long).to(device)\n",
    "    for i in range(npoint):\n",
    "        centroids[:, i] = farthest\n",
    "        centroid = xyz[batch_indices, farthest, :].view(B, 1, 3)\n",
    "        dist = torch.sum((xyz - centroid) ** 2, -1)\n",
    "        mask = dist < distance\n",
    "        distance[mask] = dist[mask]\n",
    "        farthest = torch.max(distance, -1)[1]\n",
    "    return centroids\n",
    "\n",
    "\n",
    "def query_ball_point(radius, nsample, xyz, new_xyz):\n",
    "    \"\"\"\n",
    "    Input:\n",
    "        radius: local region radius\n",
    "        nsample: max sample number in local region\n",
    "        xyz: all points, [B, N, 3]\n",
    "        new_xyz: query points, [B, S, 3]\n",
    "    Return:\n",
    "        group_idx: grouped points index, [B, S, nsample]\n",
    "    \"\"\"\n",
    "    device = xyz.device\n",
    "    B, N, C = xyz.shape\n",
    "    _, S, _ = new_xyz.shape\n",
    "    group_idx = torch.arange(N, dtype=torch.long).to(device).view(1, 1, N).repeat([B, S, 1])\n",
    "    sqrdists = square_distance(new_xyz, xyz)\n",
    "    group_idx[sqrdists > radius ** 2] = N\n",
    "    group_idx = group_idx.sort(dim=-1)[0][:, :, :nsample]\n",
    "    group_first = group_idx[:, :, 0].view(B, S, 1).repeat([1, 1, nsample])\n",
    "    mask = group_idx == N\n",
    "    group_idx[mask] = group_first[mask]\n",
    "    return group_idx\n",
    "\n",
    "\n",
    "def sample_and_group(npoint, radius, nsample, xyz, points, returnfps=False):\n",
    "    \"\"\"\n",
    "    Input:\n",
    "        npoint:\n",
    "        radius:\n",
    "        nsample:\n",
    "        xyz: input points position data, [B, N, 3]\n",
    "        points: input points data, [B, N, D]\n",
    "    Return:\n",
    "        new_xyz: sampled points position data, [B, npoint, nsample, 3]\n",
    "        new_points: sampled points data, [B, npoint, nsample, 3+D]\n",
    "    \"\"\"\n",
    "    B, N, C = xyz.shape\n",
    "    S = npoint\n",
    "    fps_idx = farthest_point_sample(xyz, npoint) # [B, npoint, C]\n",
    "    new_xyz = index_points(xyz, fps_idx)\n",
    "    idx = query_ball_point(radius, nsample, xyz, new_xyz)\n",
    "    grouped_xyz = index_points(xyz, idx) # [B, npoint, nsample, C]\n",
    "    grouped_xyz_norm = grouped_xyz - new_xyz.view(B, S, 1, C)\n",
    "\n",
    "    if points is not None:\n",
    "        grouped_points = index_points(points, idx)\n",
    "        new_points = torch.cat([grouped_xyz_norm, grouped_points], dim=-1) # [B, npoint, nsample, C+D]\n",
    "    else:\n",
    "        new_points = grouped_xyz_norm\n",
    "    if returnfps:\n",
    "        return new_xyz, new_points, grouped_xyz, fps_idx\n",
    "    else:\n",
    "        return new_xyz, new_points\n",
    "\n",
    "\n",
    "def sample_and_group_all(xyz, points):\n",
    "    \"\"\"\n",
    "    Input:\n",
    "        xyz: input points position data, [B, N, 3]\n",
    "        points: input points data, [B, N, D]\n",
    "    Return:\n",
    "        new_xyz: sampled points position data, [B, 1, 3]\n",
    "        new_points: sampled points data, [B, 1, N, 3+D]\n",
    "    \"\"\"\n",
    "    device = xyz.device\n",
    "    B, N, C = xyz.shape\n",
    "    new_xyz = torch.zeros(B, 1, C).to(device)\n",
    "    grouped_xyz = xyz.view(B, 1, N, C)\n",
    "    if points is not None:\n",
    "        new_points = torch.cat([grouped_xyz, points.view(B, 1, N, -1)], dim=-1)\n",
    "    else:\n",
    "        new_points = grouped_xyz\n",
    "    return new_xyz, new_points\n",
    "\n",
    "\n",
    "class PointNetSetAbstraction(nn.Module):\n",
    "    def __init__(self, npoint, radius, nsample, in_channel, mlp, group_all):\n",
    "        super(PointNetSetAbstraction, self).__init__()\n",
    "        self.npoint = npoint\n",
    "        self.radius = radius\n",
    "        self.nsample = nsample\n",
    "        self.mlp_convs = nn.ModuleList()\n",
    "        self.mlp_bns = nn.ModuleList()\n",
    "        last_channel = in_channel\n",
    "        for out_channel in mlp:\n",
    "            self.mlp_convs.append(nn.Conv2d(last_channel, out_channel, 1))\n",
    "            self.mlp_bns.append(nn.BatchNorm2d(out_channel))\n",
    "            last_channel = out_channel\n",
    "        self.group_all = group_all\n",
    "\n",
    "    def forward(self, xyz, points):\n",
    "        \"\"\"\n",
    "        Input:\n",
    "            xyz: input points position data, [B, C, N]\n",
    "            points: input points data, [B, D, N]\n",
    "        Return:\n",
    "            new_xyz: sampled points position data, [B, C, S]\n",
    "            new_points_concat: sample points feature data, [B, D', S]\n",
    "        \"\"\"\n",
    "        xyz = xyz.permute(0, 2, 1)\n",
    "        if points is not None:\n",
    "            points = points.permute(0, 2, 1)\n",
    "\n",
    "        if self.group_all:\n",
    "            new_xyz, new_points = sample_and_group_all(xyz, points)\n",
    "        else:\n",
    "            new_xyz, new_points = sample_and_group(self.npoint, self.radius, self.nsample, xyz, points)\n",
    "        # new_xyz: sampled points position data, [B, npoint, C]\n",
    "        # new_points: sampled points data, [B, npoint, nsample, C+D]\n",
    "        new_points = new_points.permute(0, 3, 2, 1) # [B, C+D, nsample,npoint]\n",
    "        for i, conv in enumerate(self.mlp_convs):\n",
    "            bn = self.mlp_bns[i]\n",
    "            new_points =  F.relu(bn(conv(new_points)))\n",
    "\n",
    "        new_points = torch.max(new_points, 2)[0]\n",
    "        new_xyz = new_xyz.permute(0, 2, 1)\n",
    "        return new_xyz, new_points\n",
    "\n",
    "\n",
    "class PointNetFeaturePropagation(nn.Module):\n",
    "    def __init__(self, in_channel, mlp):\n",
    "        super(PointNetFeaturePropagation, self).__init__()\n",
    "        self.mlp_convs = nn.ModuleList()\n",
    "        self.mlp_bns = nn.ModuleList()\n",
    "        last_channel = in_channel\n",
    "        for out_channel in mlp:\n",
    "            self.mlp_convs.append(nn.Conv1d(last_channel, out_channel, 1))\n",
    "            self.mlp_bns.append(nn.BatchNorm1d(out_channel))\n",
    "            last_channel = out_channel\n",
    "\n",
    "    def forward(self, xyz1, xyz2, points1, points2):\n",
    "        \"\"\"\n",
    "        Input:\n",
    "            xyz1: input points position data, [B, C, N]\n",
    "            xyz2: sampled input points position data, [B, C, S]\n",
    "            points1: input points data, [B, D, N]\n",
    "            points2: input points data, [B, D, S]\n",
    "        Return:\n",
    "            new_points: upsampled points data, [B, D', N]\n",
    "        \"\"\"\n",
    "        xyz1 = xyz1.permute(0, 2, 1)\n",
    "        xyz2 = xyz2.permute(0, 2, 1)\n",
    "\n",
    "        points2 = points2.permute(0, 2, 1)\n",
    "        B, N, C = xyz1.shape\n",
    "        _, S, _ = xyz2.shape\n",
    "\n",
    "        if S == 1:\n",
    "            interpolated_points = points2.repeat(1, N, 1)\n",
    "        else:\n",
    "            dists = square_distance(xyz1, xyz2)\n",
    "            dists, idx = dists.sort(dim=-1)\n",
    "            dists, idx = dists[:, :, :3], idx[:, :, :3]  # [B, N, 3]\n",
    "\n",
    "            dist_recip = 1.0 / (dists + 1e-8)\n",
    "            norm = torch.sum(dist_recip, dim=2, keepdim=True)\n",
    "            weight = dist_recip / norm\n",
    "            interpolated_points = torch.sum(index_points(points2, idx) * weight.view(B, N, 3, 1), dim=2)\n",
    "\n",
    "        if points1 is not None:\n",
    "            points1 = points1.permute(0, 2, 1)\n",
    "            new_points = torch.cat([points1, interpolated_points], dim=-1)\n",
    "        else:\n",
    "            new_points = interpolated_points\n",
    "\n",
    "        new_points = new_points.permute(0, 2, 1)\n",
    "        for i, conv in enumerate(self.mlp_convs):\n",
    "            bn = self.mlp_bns[i]\n",
    "            new_points = F.relu(bn(conv(new_points)))\n",
    "        return new_points\n"
   ],
   "id": "3370bee821e99a23",
   "outputs": [],
   "execution_count": 19
  },
  {
   "metadata": {
    "ExecuteTime": {
     "end_time": "2024-11-26T23:55:11.520357Z",
     "start_time": "2024-11-26T23:55:11.504735Z"
    }
   },
   "cell_type": "code",
   "source": [
    "class PointNetPP(pl.LightningModule):\n",
    "    def __init__(self, classes=13):\n",
    "        super().__init__()\n",
    "        self.precision = Precision(task=\"multiclass\", average='macro', num_classes=classes)\n",
    "        self.recall = Recall(task=\"multiclass\", average='macro', num_classes=classes)\n",
    "        self.accuracy = Accuracy(task=\"multiclass\", num_classes=classes)\n",
    "        self.sa1 = PointNetSetAbstraction(1024, 0.1, 32, 3 + 3, [32, 32, 64], False)\n",
    "        self.sa2 = PointNetSetAbstraction(256, 0.2, 32, 64 + 3, [64, 64, 128], False)\n",
    "        self.sa3 = PointNetSetAbstraction(64, 0.4, 32, 128 + 3, [128, 128, 256], False)\n",
    "        self.sa4 = PointNetSetAbstraction(16, 0.8, 32, 256 + 3, [256, 256, 512], False)\n",
    "        self.fp4 = PointNetFeaturePropagation(768, [256, 256])\n",
    "        self.fp3 = PointNetFeaturePropagation(384, [256, 256])\n",
    "        self.fp2 = PointNetFeaturePropagation(320, [256, 128])\n",
    "        self.fp1 = PointNetFeaturePropagation(128, [128, 128, 128])\n",
    "        self.conv1 = nn.Conv1d(128, 128, 1)\n",
    "        self.bn1 = nn.BatchNorm1d(128)\n",
    "        self.drop1 = nn.Dropout(0.5)\n",
    "        self.conv2 = nn.Conv1d(128, classes, 1)\n",
    "\n",
    "    def forward(self, xyz):\n",
    "        l0_points = xyz\n",
    "        l0_xyz = xyz[:,:3,:]\n",
    "\n",
    "        l1_xyz, l1_points = self.sa1(l0_xyz, l0_points)\n",
    "        l2_xyz, l2_points = self.sa2(l1_xyz, l1_points)\n",
    "        l3_xyz, l3_points = self.sa3(l2_xyz, l2_points)\n",
    "        l4_xyz, l4_points = self.sa4(l3_xyz, l3_points)\n",
    "\n",
    "        l3_points = self.fp4(l3_xyz, l4_xyz, l3_points, l4_points)\n",
    "        l2_points = self.fp3(l2_xyz, l3_xyz, l2_points, l3_points)\n",
    "        l1_points = self.fp2(l1_xyz, l2_xyz, l1_points, l2_points)\n",
    "        l0_points = self.fp1(l0_xyz, l1_xyz, None, l1_points)\n",
    "\n",
    "        x = self.drop1(F.relu(self.bn1(self.conv1(l0_points))))\n",
    "        x = self.conv2(x)\n",
    "        x = F.log_softmax(x, dim=1)\n",
    "        x = x.permute(0, 2, 1)\n",
    "        return x, l4_points\n",
    "\n",
    "    def training_step(self, batch, batch_idx):\n",
    "        x, y = batch\n",
    "        seg_pred, trans_feat = self(x)\n",
    "        seg_pred = seg_pred.contiguous().view(-1, 13)\n",
    "\n",
    "        predictions = y.view(-1, 1)[:, 0]\n",
    "        loss = segmentation_loss(seg_pred, y, trans_feat)\n",
    "\n",
    "        self.log('train_loss', loss, prog_bar=True, sync_dist=True, on_epoch=True)\n",
    "        self.log('train_accuracy', self.accuracy(predictions, y), prog_bar=True, sync_dist=True, on_epoch=True)\n",
    "        self.log('train_precision', self.precision(predictions, y), prog_bar=True, sync_dist=True, on_epoch=True)\n",
    "        self.log('train_recall', self.recall(predictions, y), prog_bar=True, sync_dist=True, on_epoch=True)\n",
    "        return {'loss': loss}\n",
    "\n",
    "    def validation_step(self, batch, batch_idx):\n",
    "        x, y = batch\n",
    "        seg_pred, trans_feat = self(x)\n",
    "        seg_pred = seg_pred.contiguous().view(-1, 13)\n",
    "\n",
    "        predictions = y.view(-1, 1)[:, 0]\n",
    "        loss = segmentation_loss(seg_pred, y, trans_feat)\n",
    "        self.log('val_loss', loss, prog_bar=True, sync_dist=True, on_epoch=True)\n",
    "        self.log('val_accuracy', self.accuracy(predictions, y), prog_bar=True, sync_dist=True, on_epoch=True)\n",
    "        self.log('val_precision', self.precision(predictions, y), prog_bar=True, sync_dist=True, on_epoch=True)\n",
    "        self.log('val_recall', self.recall(predictions, y), prog_bar=True, sync_dist=True, on_epoch=True)\n",
    "        return {'val_loss': loss}\n",
    "\n",
    "    def predict_step(self, batch, batch_idx, dataloader_idx=0):\n",
    "        x, y = batch\n",
    "        predictions, _= self(x)\n",
    "        return torch.argmax(predictions, dim=1)\n",
    "\n",
    "    def configure_optimizers(self):\n",
    "        optimizer = torch.optim.Adam(self.parameters(), lr=1e-3)\n",
    "        return optimizer\n",
    "\n",
    "\n",
    "def segmentation_loss(outputs, target, trans_feat):\n",
    "    total_loss = F.nll_loss(outputs, target)\n",
    "    return total_loss"
   ],
   "id": "34c88b33442c8087",
   "outputs": [],
   "execution_count": 20
  },
  {
   "metadata": {
    "ExecuteTime": {
     "end_time": "2024-11-26T23:55:13.429377Z",
     "start_time": "2024-11-26T23:55:11.997157Z"
    }
   },
   "cell_type": "code",
   "source": [
    "\n",
    "train_loader.__iter__().__next__()"
   ],
   "id": "8510e51e13829393",
   "outputs": [
    {
     "ename": "KeyError",
     "evalue": "\"None of [Index([ 65923, 456775, 284648, 340045, 122470, 343854, 178166,  44093, 192804,\\n       459641,\\n       ...\\n       305445, 210072, 171507, 136826, 521401, 337889, 172122, 485544, 199896,\\n       483773],\\n      dtype='int64', length=1024)] are in the [columns]\"",
     "output_type": "error",
     "traceback": [
      "\u001B[1;31m---------------------------------------------------------------------------\u001B[0m",
      "\u001B[1;31mKeyError\u001B[0m                                  Traceback (most recent call last)",
      "Cell \u001B[1;32mIn[21], line 1\u001B[0m\n\u001B[1;32m----> 1\u001B[0m \u001B[43mtrain_loader\u001B[49m\u001B[38;5;241;43m.\u001B[39;49m\u001B[38;5;21;43m__iter__\u001B[39;49m\u001B[43m(\u001B[49m\u001B[43m)\u001B[49m\u001B[38;5;241;43m.\u001B[39;49m\u001B[38;5;21;43m__next__\u001B[39;49m\u001B[43m(\u001B[49m\u001B[43m)\u001B[49m\n",
      "File \u001B[1;32m~\\PycharmProjects\\urban-3d-reconstruction\\venv\\lib\\site-packages\\torch\\utils\\data\\dataloader.py:630\u001B[0m, in \u001B[0;36m_BaseDataLoaderIter.__next__\u001B[1;34m(self)\u001B[0m\n\u001B[0;32m    627\u001B[0m \u001B[38;5;28;01mif\u001B[39;00m \u001B[38;5;28mself\u001B[39m\u001B[38;5;241m.\u001B[39m_sampler_iter \u001B[38;5;129;01mis\u001B[39;00m \u001B[38;5;28;01mNone\u001B[39;00m:\n\u001B[0;32m    628\u001B[0m     \u001B[38;5;66;03m# TODO(https://github.com/pytorch/pytorch/issues/76750)\u001B[39;00m\n\u001B[0;32m    629\u001B[0m     \u001B[38;5;28mself\u001B[39m\u001B[38;5;241m.\u001B[39m_reset()  \u001B[38;5;66;03m# type: ignore[call-arg]\u001B[39;00m\n\u001B[1;32m--> 630\u001B[0m data \u001B[38;5;241m=\u001B[39m \u001B[38;5;28;43mself\u001B[39;49m\u001B[38;5;241;43m.\u001B[39;49m\u001B[43m_next_data\u001B[49m\u001B[43m(\u001B[49m\u001B[43m)\u001B[49m\n\u001B[0;32m    631\u001B[0m \u001B[38;5;28mself\u001B[39m\u001B[38;5;241m.\u001B[39m_num_yielded \u001B[38;5;241m+\u001B[39m\u001B[38;5;241m=\u001B[39m \u001B[38;5;241m1\u001B[39m\n\u001B[0;32m    632\u001B[0m \u001B[38;5;28;01mif\u001B[39;00m \u001B[38;5;28mself\u001B[39m\u001B[38;5;241m.\u001B[39m_dataset_kind \u001B[38;5;241m==\u001B[39m _DatasetKind\u001B[38;5;241m.\u001B[39mIterable \u001B[38;5;129;01mand\u001B[39;00m \\\n\u001B[0;32m    633\u001B[0m         \u001B[38;5;28mself\u001B[39m\u001B[38;5;241m.\u001B[39m_IterableDataset_len_called \u001B[38;5;129;01mis\u001B[39;00m \u001B[38;5;129;01mnot\u001B[39;00m \u001B[38;5;28;01mNone\u001B[39;00m \u001B[38;5;129;01mand\u001B[39;00m \\\n\u001B[0;32m    634\u001B[0m         \u001B[38;5;28mself\u001B[39m\u001B[38;5;241m.\u001B[39m_num_yielded \u001B[38;5;241m>\u001B[39m \u001B[38;5;28mself\u001B[39m\u001B[38;5;241m.\u001B[39m_IterableDataset_len_called:\n",
      "File \u001B[1;32m~\\PycharmProjects\\urban-3d-reconstruction\\venv\\lib\\site-packages\\torch\\utils\\data\\dataloader.py:673\u001B[0m, in \u001B[0;36m_SingleProcessDataLoaderIter._next_data\u001B[1;34m(self)\u001B[0m\n\u001B[0;32m    671\u001B[0m \u001B[38;5;28;01mdef\u001B[39;00m \u001B[38;5;21m_next_data\u001B[39m(\u001B[38;5;28mself\u001B[39m):\n\u001B[0;32m    672\u001B[0m     index \u001B[38;5;241m=\u001B[39m \u001B[38;5;28mself\u001B[39m\u001B[38;5;241m.\u001B[39m_next_index()  \u001B[38;5;66;03m# may raise StopIteration\u001B[39;00m\n\u001B[1;32m--> 673\u001B[0m     data \u001B[38;5;241m=\u001B[39m \u001B[38;5;28;43mself\u001B[39;49m\u001B[38;5;241;43m.\u001B[39;49m\u001B[43m_dataset_fetcher\u001B[49m\u001B[38;5;241;43m.\u001B[39;49m\u001B[43mfetch\u001B[49m\u001B[43m(\u001B[49m\u001B[43mindex\u001B[49m\u001B[43m)\u001B[49m  \u001B[38;5;66;03m# may raise StopIteration\u001B[39;00m\n\u001B[0;32m    674\u001B[0m     \u001B[38;5;28;01mif\u001B[39;00m \u001B[38;5;28mself\u001B[39m\u001B[38;5;241m.\u001B[39m_pin_memory:\n\u001B[0;32m    675\u001B[0m         data \u001B[38;5;241m=\u001B[39m _utils\u001B[38;5;241m.\u001B[39mpin_memory\u001B[38;5;241m.\u001B[39mpin_memory(data, \u001B[38;5;28mself\u001B[39m\u001B[38;5;241m.\u001B[39m_pin_memory_device)\n",
      "File \u001B[1;32m~\\PycharmProjects\\urban-3d-reconstruction\\venv\\lib\\site-packages\\torch\\utils\\data\\_utils\\fetch.py:52\u001B[0m, in \u001B[0;36m_MapDatasetFetcher.fetch\u001B[1;34m(self, possibly_batched_index)\u001B[0m\n\u001B[0;32m     50\u001B[0m         data \u001B[38;5;241m=\u001B[39m \u001B[38;5;28mself\u001B[39m\u001B[38;5;241m.\u001B[39mdataset\u001B[38;5;241m.\u001B[39m__getitems__(possibly_batched_index)\n\u001B[0;32m     51\u001B[0m     \u001B[38;5;28;01melse\u001B[39;00m:\n\u001B[1;32m---> 52\u001B[0m         data \u001B[38;5;241m=\u001B[39m [\u001B[38;5;28mself\u001B[39m\u001B[38;5;241m.\u001B[39mdataset[idx] \u001B[38;5;28;01mfor\u001B[39;00m idx \u001B[38;5;129;01min\u001B[39;00m possibly_batched_index]\n\u001B[0;32m     53\u001B[0m \u001B[38;5;28;01melse\u001B[39;00m:\n\u001B[0;32m     54\u001B[0m     data \u001B[38;5;241m=\u001B[39m \u001B[38;5;28mself\u001B[39m\u001B[38;5;241m.\u001B[39mdataset[possibly_batched_index]\n",
      "File \u001B[1;32m~\\PycharmProjects\\urban-3d-reconstruction\\venv\\lib\\site-packages\\torch\\utils\\data\\_utils\\fetch.py:52\u001B[0m, in \u001B[0;36m<listcomp>\u001B[1;34m(.0)\u001B[0m\n\u001B[0;32m     50\u001B[0m         data \u001B[38;5;241m=\u001B[39m \u001B[38;5;28mself\u001B[39m\u001B[38;5;241m.\u001B[39mdataset\u001B[38;5;241m.\u001B[39m__getitems__(possibly_batched_index)\n\u001B[0;32m     51\u001B[0m     \u001B[38;5;28;01melse\u001B[39;00m:\n\u001B[1;32m---> 52\u001B[0m         data \u001B[38;5;241m=\u001B[39m [\u001B[38;5;28;43mself\u001B[39;49m\u001B[38;5;241;43m.\u001B[39;49m\u001B[43mdataset\u001B[49m\u001B[43m[\u001B[49m\u001B[43midx\u001B[49m\u001B[43m]\u001B[49m \u001B[38;5;28;01mfor\u001B[39;00m idx \u001B[38;5;129;01min\u001B[39;00m possibly_batched_index]\n\u001B[0;32m     53\u001B[0m \u001B[38;5;28;01melse\u001B[39;00m:\n\u001B[0;32m     54\u001B[0m     data \u001B[38;5;241m=\u001B[39m \u001B[38;5;28mself\u001B[39m\u001B[38;5;241m.\u001B[39mdataset[possibly_batched_index]\n",
      "Cell \u001B[1;32mIn[10], line 22\u001B[0m, in \u001B[0;36mPointCloudSegmentationDataset.__getitem__\u001B[1;34m(self, idx)\u001B[0m\n\u001B[0;32m     20\u001B[0m \u001B[38;5;28;01mdef\u001B[39;00m \u001B[38;5;21m__getitem__\u001B[39m(\u001B[38;5;28mself\u001B[39m, idx):\n\u001B[0;32m     21\u001B[0m     \u001B[38;5;66;03m# For now, a point cloud is sampled each time this function is called (it doesn't depend on idx)\u001B[39;00m\n\u001B[1;32m---> 22\u001B[0m     sampled_cloud \u001B[38;5;241m=\u001B[39m \u001B[38;5;28;43mself\u001B[39;49m\u001B[38;5;241;43m.\u001B[39;49m\u001B[43mpoint_sampler\u001B[49m\u001B[43m(\u001B[49m\u001B[38;5;28;43mself\u001B[39;49m\u001B[38;5;241;43m.\u001B[39;49m\u001B[43mpt\u001B[49m\u001B[38;5;241;43m.\u001B[39;49m\u001B[43mpoints\u001B[49m\u001B[43m[\u001B[49m\u001B[43m[\u001B[49m\u001B[38;5;124;43m'\u001B[39;49m\u001B[38;5;124;43mx_norm\u001B[39;49m\u001B[38;5;124;43m'\u001B[39;49m\u001B[43m,\u001B[49m\u001B[43m \u001B[49m\u001B[38;5;124;43m'\u001B[39;49m\u001B[38;5;124;43my_norm\u001B[39;49m\u001B[38;5;124;43m'\u001B[39;49m\u001B[43m,\u001B[49m\u001B[43m \u001B[49m\u001B[38;5;124;43m'\u001B[39;49m\u001B[38;5;124;43mz_norm\u001B[39;49m\u001B[38;5;124;43m'\u001B[39;49m\u001B[43m,\u001B[49m\u001B[43m \u001B[49m\u001B[38;5;28;43mself\u001B[39;49m\u001B[38;5;241;43m.\u001B[39;49m\u001B[43mlabel\u001B[49m\u001B[43m]\u001B[49m\u001B[43m]\u001B[49m\u001B[43m)\u001B[49m\n\u001B[0;32m     23\u001B[0m     sampled_points \u001B[38;5;241m=\u001B[39m torch\u001B[38;5;241m.\u001B[39mtensor(sampled_cloud[[\u001B[38;5;124m'\u001B[39m\u001B[38;5;124mx_norm\u001B[39m\u001B[38;5;124m'\u001B[39m, \u001B[38;5;124m'\u001B[39m\u001B[38;5;124my_norm\u001B[39m\u001B[38;5;124m'\u001B[39m, \u001B[38;5;124m'\u001B[39m\u001B[38;5;124mz_norm\u001B[39m\u001B[38;5;124m'\u001B[39m]]\u001B[38;5;241m.\u001B[39mvalues, device\u001B[38;5;241m=\u001B[39mdevice)\n\u001B[0;32m     24\u001B[0m     labels \u001B[38;5;241m=\u001B[39m torch\u001B[38;5;241m.\u001B[39mtensor(sampled_cloud[[\u001B[38;5;28mself\u001B[39m\u001B[38;5;241m.\u001B[39mlabel]]\u001B[38;5;241m.\u001B[39mvalues, device\u001B[38;5;241m=\u001B[39mdevice, dtype\u001B[38;5;241m=\u001B[39mtorch\u001B[38;5;241m.\u001B[39mlong)\u001B[38;5;241m.\u001B[39mflatten()\n",
      "File \u001B[1;32m~\\PycharmProjects\\urban-3d-reconstruction\\src\\urb3d\\segmentation\\dataset.py:30\u001B[0m, in \u001B[0;36mPointSampler.__call__\u001B[1;34m(self, point_cloud)\u001B[0m\n\u001B[0;32m     28\u001B[0m total_points \u001B[38;5;241m=\u001B[39m point_cloud\u001B[38;5;241m.\u001B[39mshape[\u001B[38;5;241m0\u001B[39m]\n\u001B[0;32m     29\u001B[0m indices \u001B[38;5;241m=\u001B[39m torch\u001B[38;5;241m.\u001B[39mrandperm(total_points)[:\u001B[38;5;28mself\u001B[39m\u001B[38;5;241m.\u001B[39msubsample_size]\n\u001B[1;32m---> 30\u001B[0m \u001B[38;5;28;01mreturn\u001B[39;00m \u001B[43mpoint_cloud\u001B[49m\u001B[43m[\u001B[49m\u001B[43mindices\u001B[49m\u001B[43m]\u001B[49m\n",
      "File \u001B[1;32m~\\PycharmProjects\\urban-3d-reconstruction\\venv\\lib\\site-packages\\pandas\\core\\frame.py:4108\u001B[0m, in \u001B[0;36mDataFrame.__getitem__\u001B[1;34m(self, key)\u001B[0m\n\u001B[0;32m   4106\u001B[0m     \u001B[38;5;28;01mif\u001B[39;00m is_iterator(key):\n\u001B[0;32m   4107\u001B[0m         key \u001B[38;5;241m=\u001B[39m \u001B[38;5;28mlist\u001B[39m(key)\n\u001B[1;32m-> 4108\u001B[0m     indexer \u001B[38;5;241m=\u001B[39m \u001B[38;5;28;43mself\u001B[39;49m\u001B[38;5;241;43m.\u001B[39;49m\u001B[43mcolumns\u001B[49m\u001B[38;5;241;43m.\u001B[39;49m\u001B[43m_get_indexer_strict\u001B[49m\u001B[43m(\u001B[49m\u001B[43mkey\u001B[49m\u001B[43m,\u001B[49m\u001B[43m \u001B[49m\u001B[38;5;124;43m\"\u001B[39;49m\u001B[38;5;124;43mcolumns\u001B[39;49m\u001B[38;5;124;43m\"\u001B[39;49m\u001B[43m)\u001B[49m[\u001B[38;5;241m1\u001B[39m]\n\u001B[0;32m   4110\u001B[0m \u001B[38;5;66;03m# take() does not accept boolean indexers\u001B[39;00m\n\u001B[0;32m   4111\u001B[0m \u001B[38;5;28;01mif\u001B[39;00m \u001B[38;5;28mgetattr\u001B[39m(indexer, \u001B[38;5;124m\"\u001B[39m\u001B[38;5;124mdtype\u001B[39m\u001B[38;5;124m\"\u001B[39m, \u001B[38;5;28;01mNone\u001B[39;00m) \u001B[38;5;241m==\u001B[39m \u001B[38;5;28mbool\u001B[39m:\n",
      "File \u001B[1;32m~\\PycharmProjects\\urban-3d-reconstruction\\venv\\lib\\site-packages\\pandas\\core\\indexes\\base.py:6200\u001B[0m, in \u001B[0;36mIndex._get_indexer_strict\u001B[1;34m(self, key, axis_name)\u001B[0m\n\u001B[0;32m   6197\u001B[0m \u001B[38;5;28;01melse\u001B[39;00m:\n\u001B[0;32m   6198\u001B[0m     keyarr, indexer, new_indexer \u001B[38;5;241m=\u001B[39m \u001B[38;5;28mself\u001B[39m\u001B[38;5;241m.\u001B[39m_reindex_non_unique(keyarr)\n\u001B[1;32m-> 6200\u001B[0m \u001B[38;5;28;43mself\u001B[39;49m\u001B[38;5;241;43m.\u001B[39;49m\u001B[43m_raise_if_missing\u001B[49m\u001B[43m(\u001B[49m\u001B[43mkeyarr\u001B[49m\u001B[43m,\u001B[49m\u001B[43m \u001B[49m\u001B[43mindexer\u001B[49m\u001B[43m,\u001B[49m\u001B[43m \u001B[49m\u001B[43maxis_name\u001B[49m\u001B[43m)\u001B[49m\n\u001B[0;32m   6202\u001B[0m keyarr \u001B[38;5;241m=\u001B[39m \u001B[38;5;28mself\u001B[39m\u001B[38;5;241m.\u001B[39mtake(indexer)\n\u001B[0;32m   6203\u001B[0m \u001B[38;5;28;01mif\u001B[39;00m \u001B[38;5;28misinstance\u001B[39m(key, Index):\n\u001B[0;32m   6204\u001B[0m     \u001B[38;5;66;03m# GH 42790 - Preserve name from an Index\u001B[39;00m\n",
      "File \u001B[1;32m~\\PycharmProjects\\urban-3d-reconstruction\\venv\\lib\\site-packages\\pandas\\core\\indexes\\base.py:6249\u001B[0m, in \u001B[0;36mIndex._raise_if_missing\u001B[1;34m(self, key, indexer, axis_name)\u001B[0m\n\u001B[0;32m   6247\u001B[0m \u001B[38;5;28;01mif\u001B[39;00m nmissing:\n\u001B[0;32m   6248\u001B[0m     \u001B[38;5;28;01mif\u001B[39;00m nmissing \u001B[38;5;241m==\u001B[39m \u001B[38;5;28mlen\u001B[39m(indexer):\n\u001B[1;32m-> 6249\u001B[0m         \u001B[38;5;28;01mraise\u001B[39;00m \u001B[38;5;167;01mKeyError\u001B[39;00m(\u001B[38;5;124mf\u001B[39m\u001B[38;5;124m\"\u001B[39m\u001B[38;5;124mNone of [\u001B[39m\u001B[38;5;132;01m{\u001B[39;00mkey\u001B[38;5;132;01m}\u001B[39;00m\u001B[38;5;124m] are in the [\u001B[39m\u001B[38;5;132;01m{\u001B[39;00maxis_name\u001B[38;5;132;01m}\u001B[39;00m\u001B[38;5;124m]\u001B[39m\u001B[38;5;124m\"\u001B[39m)\n\u001B[0;32m   6251\u001B[0m     not_found \u001B[38;5;241m=\u001B[39m \u001B[38;5;28mlist\u001B[39m(ensure_index(key)[missing_mask\u001B[38;5;241m.\u001B[39mnonzero()[\u001B[38;5;241m0\u001B[39m]]\u001B[38;5;241m.\u001B[39munique())\n\u001B[0;32m   6252\u001B[0m     \u001B[38;5;28;01mraise\u001B[39;00m \u001B[38;5;167;01mKeyError\u001B[39;00m(\u001B[38;5;124mf\u001B[39m\u001B[38;5;124m\"\u001B[39m\u001B[38;5;132;01m{\u001B[39;00mnot_found\u001B[38;5;132;01m}\u001B[39;00m\u001B[38;5;124m not in index\u001B[39m\u001B[38;5;124m\"\u001B[39m)\n",
      "\u001B[1;31mKeyError\u001B[0m: \"None of [Index([ 65923, 456775, 284648, 340045, 122470, 343854, 178166,  44093, 192804,\\n       459641,\\n       ...\\n       305445, 210072, 171507, 136826, 521401, 337889, 172122, 485544, 199896,\\n       483773],\\n      dtype='int64', length=1024)] are in the [columns]\""
     ]
    }
   ],
   "execution_count": 21
  },
  {
   "metadata": {
    "ExecuteTime": {
     "end_time": "2024-11-26T23:49:49.908350Z",
     "start_time": "2024-11-26T23:49:49.732234Z"
    }
   },
   "cell_type": "code",
   "source": [
    "\n",
    "mini_batch = train_loader.__iter__().__next__()"
   ],
   "id": "d5519cfde0d7ea2c",
   "outputs": [
    {
     "ename": "KeyError",
     "evalue": "\"None of [Index([ 67935, 322545, 244749, 512230, 387087, 248991, 309673, 141663, 136050,\\n       333122,\\n       ...\\n       186443, 273186, 553367, 416489, 117501, 571499, 215285,  31985, 100918,\\n       452204],\\n      dtype='int64', length=1024)] are in the [columns]\"",
     "output_type": "error",
     "traceback": [
      "\u001B[1;31m---------------------------------------------------------------------------\u001B[0m",
      "\u001B[1;31mKeyError\u001B[0m                                  Traceback (most recent call last)",
      "Cell \u001B[1;32mIn[42], line 1\u001B[0m\n\u001B[1;32m----> 1\u001B[0m mini_batch \u001B[38;5;241m=\u001B[39m \u001B[43mtrain_loader\u001B[49m\u001B[38;5;241;43m.\u001B[39;49m\u001B[38;5;21;43m__iter__\u001B[39;49m\u001B[43m(\u001B[49m\u001B[43m)\u001B[49m\u001B[38;5;241;43m.\u001B[39;49m\u001B[38;5;21;43m__next__\u001B[39;49m\u001B[43m(\u001B[49m\u001B[43m)\u001B[49m\n",
      "File \u001B[1;32m~\\PycharmProjects\\urban-3d-reconstruction\\venv\\lib\\site-packages\\torch\\utils\\data\\dataloader.py:630\u001B[0m, in \u001B[0;36m_BaseDataLoaderIter.__next__\u001B[1;34m(self)\u001B[0m\n\u001B[0;32m    627\u001B[0m \u001B[38;5;28;01mif\u001B[39;00m \u001B[38;5;28mself\u001B[39m\u001B[38;5;241m.\u001B[39m_sampler_iter \u001B[38;5;129;01mis\u001B[39;00m \u001B[38;5;28;01mNone\u001B[39;00m:\n\u001B[0;32m    628\u001B[0m     \u001B[38;5;66;03m# TODO(https://github.com/pytorch/pytorch/issues/76750)\u001B[39;00m\n\u001B[0;32m    629\u001B[0m     \u001B[38;5;28mself\u001B[39m\u001B[38;5;241m.\u001B[39m_reset()  \u001B[38;5;66;03m# type: ignore[call-arg]\u001B[39;00m\n\u001B[1;32m--> 630\u001B[0m data \u001B[38;5;241m=\u001B[39m \u001B[38;5;28;43mself\u001B[39;49m\u001B[38;5;241;43m.\u001B[39;49m\u001B[43m_next_data\u001B[49m\u001B[43m(\u001B[49m\u001B[43m)\u001B[49m\n\u001B[0;32m    631\u001B[0m \u001B[38;5;28mself\u001B[39m\u001B[38;5;241m.\u001B[39m_num_yielded \u001B[38;5;241m+\u001B[39m\u001B[38;5;241m=\u001B[39m \u001B[38;5;241m1\u001B[39m\n\u001B[0;32m    632\u001B[0m \u001B[38;5;28;01mif\u001B[39;00m \u001B[38;5;28mself\u001B[39m\u001B[38;5;241m.\u001B[39m_dataset_kind \u001B[38;5;241m==\u001B[39m _DatasetKind\u001B[38;5;241m.\u001B[39mIterable \u001B[38;5;129;01mand\u001B[39;00m \\\n\u001B[0;32m    633\u001B[0m         \u001B[38;5;28mself\u001B[39m\u001B[38;5;241m.\u001B[39m_IterableDataset_len_called \u001B[38;5;129;01mis\u001B[39;00m \u001B[38;5;129;01mnot\u001B[39;00m \u001B[38;5;28;01mNone\u001B[39;00m \u001B[38;5;129;01mand\u001B[39;00m \\\n\u001B[0;32m    634\u001B[0m         \u001B[38;5;28mself\u001B[39m\u001B[38;5;241m.\u001B[39m_num_yielded \u001B[38;5;241m>\u001B[39m \u001B[38;5;28mself\u001B[39m\u001B[38;5;241m.\u001B[39m_IterableDataset_len_called:\n",
      "File \u001B[1;32m~\\PycharmProjects\\urban-3d-reconstruction\\venv\\lib\\site-packages\\torch\\utils\\data\\dataloader.py:673\u001B[0m, in \u001B[0;36m_SingleProcessDataLoaderIter._next_data\u001B[1;34m(self)\u001B[0m\n\u001B[0;32m    671\u001B[0m \u001B[38;5;28;01mdef\u001B[39;00m \u001B[38;5;21m_next_data\u001B[39m(\u001B[38;5;28mself\u001B[39m):\n\u001B[0;32m    672\u001B[0m     index \u001B[38;5;241m=\u001B[39m \u001B[38;5;28mself\u001B[39m\u001B[38;5;241m.\u001B[39m_next_index()  \u001B[38;5;66;03m# may raise StopIteration\u001B[39;00m\n\u001B[1;32m--> 673\u001B[0m     data \u001B[38;5;241m=\u001B[39m \u001B[38;5;28;43mself\u001B[39;49m\u001B[38;5;241;43m.\u001B[39;49m\u001B[43m_dataset_fetcher\u001B[49m\u001B[38;5;241;43m.\u001B[39;49m\u001B[43mfetch\u001B[49m\u001B[43m(\u001B[49m\u001B[43mindex\u001B[49m\u001B[43m)\u001B[49m  \u001B[38;5;66;03m# may raise StopIteration\u001B[39;00m\n\u001B[0;32m    674\u001B[0m     \u001B[38;5;28;01mif\u001B[39;00m \u001B[38;5;28mself\u001B[39m\u001B[38;5;241m.\u001B[39m_pin_memory:\n\u001B[0;32m    675\u001B[0m         data \u001B[38;5;241m=\u001B[39m _utils\u001B[38;5;241m.\u001B[39mpin_memory\u001B[38;5;241m.\u001B[39mpin_memory(data, \u001B[38;5;28mself\u001B[39m\u001B[38;5;241m.\u001B[39m_pin_memory_device)\n",
      "File \u001B[1;32m~\\PycharmProjects\\urban-3d-reconstruction\\venv\\lib\\site-packages\\torch\\utils\\data\\_utils\\fetch.py:52\u001B[0m, in \u001B[0;36m_MapDatasetFetcher.fetch\u001B[1;34m(self, possibly_batched_index)\u001B[0m\n\u001B[0;32m     50\u001B[0m         data \u001B[38;5;241m=\u001B[39m \u001B[38;5;28mself\u001B[39m\u001B[38;5;241m.\u001B[39mdataset\u001B[38;5;241m.\u001B[39m__getitems__(possibly_batched_index)\n\u001B[0;32m     51\u001B[0m     \u001B[38;5;28;01melse\u001B[39;00m:\n\u001B[1;32m---> 52\u001B[0m         data \u001B[38;5;241m=\u001B[39m [\u001B[38;5;28mself\u001B[39m\u001B[38;5;241m.\u001B[39mdataset[idx] \u001B[38;5;28;01mfor\u001B[39;00m idx \u001B[38;5;129;01min\u001B[39;00m possibly_batched_index]\n\u001B[0;32m     53\u001B[0m \u001B[38;5;28;01melse\u001B[39;00m:\n\u001B[0;32m     54\u001B[0m     data \u001B[38;5;241m=\u001B[39m \u001B[38;5;28mself\u001B[39m\u001B[38;5;241m.\u001B[39mdataset[possibly_batched_index]\n",
      "File \u001B[1;32m~\\PycharmProjects\\urban-3d-reconstruction\\venv\\lib\\site-packages\\torch\\utils\\data\\_utils\\fetch.py:52\u001B[0m, in \u001B[0;36m<listcomp>\u001B[1;34m(.0)\u001B[0m\n\u001B[0;32m     50\u001B[0m         data \u001B[38;5;241m=\u001B[39m \u001B[38;5;28mself\u001B[39m\u001B[38;5;241m.\u001B[39mdataset\u001B[38;5;241m.\u001B[39m__getitems__(possibly_batched_index)\n\u001B[0;32m     51\u001B[0m     \u001B[38;5;28;01melse\u001B[39;00m:\n\u001B[1;32m---> 52\u001B[0m         data \u001B[38;5;241m=\u001B[39m [\u001B[38;5;28;43mself\u001B[39;49m\u001B[38;5;241;43m.\u001B[39;49m\u001B[43mdataset\u001B[49m\u001B[43m[\u001B[49m\u001B[43midx\u001B[49m\u001B[43m]\u001B[49m \u001B[38;5;28;01mfor\u001B[39;00m idx \u001B[38;5;129;01min\u001B[39;00m possibly_batched_index]\n\u001B[0;32m     53\u001B[0m \u001B[38;5;28;01melse\u001B[39;00m:\n\u001B[0;32m     54\u001B[0m     data \u001B[38;5;241m=\u001B[39m \u001B[38;5;28mself\u001B[39m\u001B[38;5;241m.\u001B[39mdataset[possibly_batched_index]\n",
      "Cell \u001B[1;32mIn[33], line 27\u001B[0m, in \u001B[0;36mPointCloudSegmentationDataset.__getitem__\u001B[1;34m(self, idx)\u001B[0m\n\u001B[0;32m     25\u001B[0m device \u001B[38;5;241m=\u001B[39m torch\u001B[38;5;241m.\u001B[39mdevice(\u001B[38;5;124m'\u001B[39m\u001B[38;5;124mcuda\u001B[39m\u001B[38;5;124m'\u001B[39m \u001B[38;5;28;01mif\u001B[39;00m torch\u001B[38;5;241m.\u001B[39mcuda\u001B[38;5;241m.\u001B[39mis_available() \u001B[38;5;28;01melse\u001B[39;00m \u001B[38;5;124m'\u001B[39m\u001B[38;5;124mcpu\u001B[39m\u001B[38;5;124m'\u001B[39m)\n\u001B[0;32m     26\u001B[0m \u001B[38;5;66;03m# For now, a point cloud is sampled each time this function is called (it doesn't depend on idx)\u001B[39;00m\n\u001B[1;32m---> 27\u001B[0m sampled_cloud \u001B[38;5;241m=\u001B[39m \u001B[38;5;28;43mself\u001B[39;49m\u001B[38;5;241;43m.\u001B[39;49m\u001B[43mpoint_sampler\u001B[49m\u001B[43m(\u001B[49m\u001B[38;5;28;43mself\u001B[39;49m\u001B[38;5;241;43m.\u001B[39;49m\u001B[43mpt\u001B[49m\u001B[38;5;241;43m.\u001B[39;49m\u001B[43mpoints\u001B[49m\u001B[43m[\u001B[49m\u001B[43m[\u001B[49m\u001B[38;5;124;43m'\u001B[39;49m\u001B[38;5;124;43mx_norm\u001B[39;49m\u001B[38;5;124;43m'\u001B[39;49m\u001B[43m,\u001B[49m\u001B[43m \u001B[49m\u001B[38;5;124;43m'\u001B[39;49m\u001B[38;5;124;43my_norm\u001B[39;49m\u001B[38;5;124;43m'\u001B[39;49m\u001B[43m,\u001B[49m\u001B[43m \u001B[49m\u001B[38;5;124;43m'\u001B[39;49m\u001B[38;5;124;43mz_norm\u001B[39;49m\u001B[38;5;124;43m'\u001B[39;49m\u001B[43m,\u001B[49m\u001B[43m \u001B[49m\u001B[38;5;28;43mself\u001B[39;49m\u001B[38;5;241;43m.\u001B[39;49m\u001B[43mlabel\u001B[49m\u001B[43m]\u001B[49m\u001B[43m]\u001B[49m\u001B[43m)\u001B[49m\n\u001B[0;32m     28\u001B[0m sampled_points \u001B[38;5;241m=\u001B[39m torch\u001B[38;5;241m.\u001B[39mtensor(sampled_cloud[[\u001B[38;5;124m'\u001B[39m\u001B[38;5;124mx_norm\u001B[39m\u001B[38;5;124m'\u001B[39m, \u001B[38;5;124m'\u001B[39m\u001B[38;5;124my_norm\u001B[39m\u001B[38;5;124m'\u001B[39m, \u001B[38;5;124m'\u001B[39m\u001B[38;5;124mz_norm\u001B[39m\u001B[38;5;124m'\u001B[39m]]\u001B[38;5;241m.\u001B[39mvalues, device\u001B[38;5;241m=\u001B[39mdevice)\n\u001B[0;32m     29\u001B[0m labels \u001B[38;5;241m=\u001B[39m torch\u001B[38;5;241m.\u001B[39mtensor(sampled_cloud[[\u001B[38;5;28mself\u001B[39m\u001B[38;5;241m.\u001B[39mlabel]]\u001B[38;5;241m.\u001B[39mvalues, device\u001B[38;5;241m=\u001B[39mdevice, dtype\u001B[38;5;241m=\u001B[39mtorch\u001B[38;5;241m.\u001B[39mlong)\u001B[38;5;241m.\u001B[39mflatten()\n",
      "File \u001B[1;32m~\\PycharmProjects\\urban-3d-reconstruction\\src\\urb3d\\segmentation\\dataset.py:30\u001B[0m, in \u001B[0;36mPointSampler.__call__\u001B[1;34m(self, point_cloud)\u001B[0m\n\u001B[0;32m     28\u001B[0m total_points \u001B[38;5;241m=\u001B[39m point_cloud\u001B[38;5;241m.\u001B[39mshape[\u001B[38;5;241m0\u001B[39m]\n\u001B[0;32m     29\u001B[0m indices \u001B[38;5;241m=\u001B[39m torch\u001B[38;5;241m.\u001B[39mrandperm(total_points)[:\u001B[38;5;28mself\u001B[39m\u001B[38;5;241m.\u001B[39msubsample_size]\n\u001B[1;32m---> 30\u001B[0m \u001B[38;5;28;01mreturn\u001B[39;00m \u001B[43mpoint_cloud\u001B[49m\u001B[43m[\u001B[49m\u001B[43mindices\u001B[49m\u001B[43m]\u001B[49m\n",
      "File \u001B[1;32m~\\PycharmProjects\\urban-3d-reconstruction\\venv\\lib\\site-packages\\pandas\\core\\frame.py:4108\u001B[0m, in \u001B[0;36mDataFrame.__getitem__\u001B[1;34m(self, key)\u001B[0m\n\u001B[0;32m   4106\u001B[0m     \u001B[38;5;28;01mif\u001B[39;00m is_iterator(key):\n\u001B[0;32m   4107\u001B[0m         key \u001B[38;5;241m=\u001B[39m \u001B[38;5;28mlist\u001B[39m(key)\n\u001B[1;32m-> 4108\u001B[0m     indexer \u001B[38;5;241m=\u001B[39m \u001B[38;5;28;43mself\u001B[39;49m\u001B[38;5;241;43m.\u001B[39;49m\u001B[43mcolumns\u001B[49m\u001B[38;5;241;43m.\u001B[39;49m\u001B[43m_get_indexer_strict\u001B[49m\u001B[43m(\u001B[49m\u001B[43mkey\u001B[49m\u001B[43m,\u001B[49m\u001B[43m \u001B[49m\u001B[38;5;124;43m\"\u001B[39;49m\u001B[38;5;124;43mcolumns\u001B[39;49m\u001B[38;5;124;43m\"\u001B[39;49m\u001B[43m)\u001B[49m[\u001B[38;5;241m1\u001B[39m]\n\u001B[0;32m   4110\u001B[0m \u001B[38;5;66;03m# take() does not accept boolean indexers\u001B[39;00m\n\u001B[0;32m   4111\u001B[0m \u001B[38;5;28;01mif\u001B[39;00m \u001B[38;5;28mgetattr\u001B[39m(indexer, \u001B[38;5;124m\"\u001B[39m\u001B[38;5;124mdtype\u001B[39m\u001B[38;5;124m\"\u001B[39m, \u001B[38;5;28;01mNone\u001B[39;00m) \u001B[38;5;241m==\u001B[39m \u001B[38;5;28mbool\u001B[39m:\n",
      "File \u001B[1;32m~\\PycharmProjects\\urban-3d-reconstruction\\venv\\lib\\site-packages\\pandas\\core\\indexes\\base.py:6200\u001B[0m, in \u001B[0;36mIndex._get_indexer_strict\u001B[1;34m(self, key, axis_name)\u001B[0m\n\u001B[0;32m   6197\u001B[0m \u001B[38;5;28;01melse\u001B[39;00m:\n\u001B[0;32m   6198\u001B[0m     keyarr, indexer, new_indexer \u001B[38;5;241m=\u001B[39m \u001B[38;5;28mself\u001B[39m\u001B[38;5;241m.\u001B[39m_reindex_non_unique(keyarr)\n\u001B[1;32m-> 6200\u001B[0m \u001B[38;5;28;43mself\u001B[39;49m\u001B[38;5;241;43m.\u001B[39;49m\u001B[43m_raise_if_missing\u001B[49m\u001B[43m(\u001B[49m\u001B[43mkeyarr\u001B[49m\u001B[43m,\u001B[49m\u001B[43m \u001B[49m\u001B[43mindexer\u001B[49m\u001B[43m,\u001B[49m\u001B[43m \u001B[49m\u001B[43maxis_name\u001B[49m\u001B[43m)\u001B[49m\n\u001B[0;32m   6202\u001B[0m keyarr \u001B[38;5;241m=\u001B[39m \u001B[38;5;28mself\u001B[39m\u001B[38;5;241m.\u001B[39mtake(indexer)\n\u001B[0;32m   6203\u001B[0m \u001B[38;5;28;01mif\u001B[39;00m \u001B[38;5;28misinstance\u001B[39m(key, Index):\n\u001B[0;32m   6204\u001B[0m     \u001B[38;5;66;03m# GH 42790 - Preserve name from an Index\u001B[39;00m\n",
      "File \u001B[1;32m~\\PycharmProjects\\urban-3d-reconstruction\\venv\\lib\\site-packages\\pandas\\core\\indexes\\base.py:6249\u001B[0m, in \u001B[0;36mIndex._raise_if_missing\u001B[1;34m(self, key, indexer, axis_name)\u001B[0m\n\u001B[0;32m   6247\u001B[0m \u001B[38;5;28;01mif\u001B[39;00m nmissing:\n\u001B[0;32m   6248\u001B[0m     \u001B[38;5;28;01mif\u001B[39;00m nmissing \u001B[38;5;241m==\u001B[39m \u001B[38;5;28mlen\u001B[39m(indexer):\n\u001B[1;32m-> 6249\u001B[0m         \u001B[38;5;28;01mraise\u001B[39;00m \u001B[38;5;167;01mKeyError\u001B[39;00m(\u001B[38;5;124mf\u001B[39m\u001B[38;5;124m\"\u001B[39m\u001B[38;5;124mNone of [\u001B[39m\u001B[38;5;132;01m{\u001B[39;00mkey\u001B[38;5;132;01m}\u001B[39;00m\u001B[38;5;124m] are in the [\u001B[39m\u001B[38;5;132;01m{\u001B[39;00maxis_name\u001B[38;5;132;01m}\u001B[39;00m\u001B[38;5;124m]\u001B[39m\u001B[38;5;124m\"\u001B[39m)\n\u001B[0;32m   6251\u001B[0m     not_found \u001B[38;5;241m=\u001B[39m \u001B[38;5;28mlist\u001B[39m(ensure_index(key)[missing_mask\u001B[38;5;241m.\u001B[39mnonzero()[\u001B[38;5;241m0\u001B[39m]]\u001B[38;5;241m.\u001B[39munique())\n\u001B[0;32m   6252\u001B[0m     \u001B[38;5;28;01mraise\u001B[39;00m \u001B[38;5;167;01mKeyError\u001B[39;00m(\u001B[38;5;124mf\u001B[39m\u001B[38;5;124m\"\u001B[39m\u001B[38;5;132;01m{\u001B[39;00mnot_found\u001B[38;5;132;01m}\u001B[39;00m\u001B[38;5;124m not in index\u001B[39m\u001B[38;5;124m\"\u001B[39m)\n",
      "\u001B[1;31mKeyError\u001B[0m: \"None of [Index([ 67935, 322545, 244749, 512230, 387087, 248991, 309673, 141663, 136050,\\n       333122,\\n       ...\\n       186443, 273186, 553367, 416489, 117501, 571499, 215285,  31985, 100918,\\n       452204],\\n      dtype='int64', length=1024)] are in the [columns]\""
     ]
    }
   ],
   "execution_count": 42
  },
  {
   "metadata": {
    "ExecuteTime": {
     "end_time": "2024-11-26T12:54:19.524344Z",
     "start_time": "2024-11-26T12:54:18.940841Z"
    }
   },
   "cell_type": "code",
   "source": [
    "model = PointNetPP(13)\n",
    "xyz = torch.rand(6, 9, 2048)\n",
    "res = model(xyz)"
   ],
   "id": "96af90b26d537f52",
   "outputs": [
    {
     "ename": "RuntimeError",
     "evalue": "Given groups=1, weight of size [32, 6, 1, 1], expected input[6, 12, 32, 1024] to have 6 channels, but got 12 channels instead",
     "output_type": "error",
     "traceback": [
      "\u001B[1;31m---------------------------------------------------------------------------\u001B[0m",
      "\u001B[1;31mRuntimeError\u001B[0m                              Traceback (most recent call last)",
      "Cell \u001B[1;32mIn[79], line 3\u001B[0m\n\u001B[0;32m      1\u001B[0m model \u001B[38;5;241m=\u001B[39m PointNetPP(\u001B[38;5;241m13\u001B[39m)\n\u001B[0;32m      2\u001B[0m xyz \u001B[38;5;241m=\u001B[39m torch\u001B[38;5;241m.\u001B[39mrand(\u001B[38;5;241m6\u001B[39m, \u001B[38;5;241m9\u001B[39m, \u001B[38;5;241m2048\u001B[39m)\n\u001B[1;32m----> 3\u001B[0m res \u001B[38;5;241m=\u001B[39m \u001B[43mmodel\u001B[49m\u001B[43m(\u001B[49m\u001B[43mxyz\u001B[49m\u001B[43m)\u001B[49m\n",
      "File \u001B[1;32m~\\PycharmProjects\\urban-3d-reconstruction\\venv\\lib\\site-packages\\torch\\nn\\modules\\module.py:1553\u001B[0m, in \u001B[0;36mModule._wrapped_call_impl\u001B[1;34m(self, *args, **kwargs)\u001B[0m\n\u001B[0;32m   1551\u001B[0m     \u001B[38;5;28;01mreturn\u001B[39;00m \u001B[38;5;28mself\u001B[39m\u001B[38;5;241m.\u001B[39m_compiled_call_impl(\u001B[38;5;241m*\u001B[39margs, \u001B[38;5;241m*\u001B[39m\u001B[38;5;241m*\u001B[39mkwargs)  \u001B[38;5;66;03m# type: ignore[misc]\u001B[39;00m\n\u001B[0;32m   1552\u001B[0m \u001B[38;5;28;01melse\u001B[39;00m:\n\u001B[1;32m-> 1553\u001B[0m     \u001B[38;5;28;01mreturn\u001B[39;00m \u001B[38;5;28mself\u001B[39m\u001B[38;5;241m.\u001B[39m_call_impl(\u001B[38;5;241m*\u001B[39margs, \u001B[38;5;241m*\u001B[39m\u001B[38;5;241m*\u001B[39mkwargs)\n",
      "File \u001B[1;32m~\\PycharmProjects\\urban-3d-reconstruction\\venv\\lib\\site-packages\\torch\\nn\\modules\\module.py:1562\u001B[0m, in \u001B[0;36mModule._call_impl\u001B[1;34m(self, *args, **kwargs)\u001B[0m\n\u001B[0;32m   1557\u001B[0m \u001B[38;5;66;03m# If we don't have any hooks, we want to skip the rest of the logic in\u001B[39;00m\n\u001B[0;32m   1558\u001B[0m \u001B[38;5;66;03m# this function, and just call forward.\u001B[39;00m\n\u001B[0;32m   1559\u001B[0m \u001B[38;5;28;01mif\u001B[39;00m \u001B[38;5;129;01mnot\u001B[39;00m (\u001B[38;5;28mself\u001B[39m\u001B[38;5;241m.\u001B[39m_backward_hooks \u001B[38;5;129;01mor\u001B[39;00m \u001B[38;5;28mself\u001B[39m\u001B[38;5;241m.\u001B[39m_backward_pre_hooks \u001B[38;5;129;01mor\u001B[39;00m \u001B[38;5;28mself\u001B[39m\u001B[38;5;241m.\u001B[39m_forward_hooks \u001B[38;5;129;01mor\u001B[39;00m \u001B[38;5;28mself\u001B[39m\u001B[38;5;241m.\u001B[39m_forward_pre_hooks\n\u001B[0;32m   1560\u001B[0m         \u001B[38;5;129;01mor\u001B[39;00m _global_backward_pre_hooks \u001B[38;5;129;01mor\u001B[39;00m _global_backward_hooks\n\u001B[0;32m   1561\u001B[0m         \u001B[38;5;129;01mor\u001B[39;00m _global_forward_hooks \u001B[38;5;129;01mor\u001B[39;00m _global_forward_pre_hooks):\n\u001B[1;32m-> 1562\u001B[0m     \u001B[38;5;28;01mreturn\u001B[39;00m forward_call(\u001B[38;5;241m*\u001B[39margs, \u001B[38;5;241m*\u001B[39m\u001B[38;5;241m*\u001B[39mkwargs)\n\u001B[0;32m   1564\u001B[0m \u001B[38;5;28;01mtry\u001B[39;00m:\n\u001B[0;32m   1565\u001B[0m     result \u001B[38;5;241m=\u001B[39m \u001B[38;5;28;01mNone\u001B[39;00m\n",
      "Cell \u001B[1;32mIn[52], line 24\u001B[0m, in \u001B[0;36mPointNetPP.forward\u001B[1;34m(self, xyz)\u001B[0m\n\u001B[0;32m     21\u001B[0m l0_points \u001B[38;5;241m=\u001B[39m xyz\n\u001B[0;32m     22\u001B[0m l0_xyz \u001B[38;5;241m=\u001B[39m xyz[:,:\u001B[38;5;241m3\u001B[39m,:]\n\u001B[1;32m---> 24\u001B[0m l1_xyz, l1_points \u001B[38;5;241m=\u001B[39m \u001B[38;5;28;43mself\u001B[39;49m\u001B[38;5;241;43m.\u001B[39;49m\u001B[43msa1\u001B[49m\u001B[43m(\u001B[49m\u001B[43ml0_xyz\u001B[49m\u001B[43m,\u001B[49m\u001B[43m \u001B[49m\u001B[43ml0_points\u001B[49m\u001B[43m)\u001B[49m\n\u001B[0;32m     25\u001B[0m l2_xyz, l2_points \u001B[38;5;241m=\u001B[39m \u001B[38;5;28mself\u001B[39m\u001B[38;5;241m.\u001B[39msa2(l1_xyz, l1_points)\n\u001B[0;32m     26\u001B[0m l3_xyz, l3_points \u001B[38;5;241m=\u001B[39m \u001B[38;5;28mself\u001B[39m\u001B[38;5;241m.\u001B[39msa3(l2_xyz, l2_points)\n",
      "File \u001B[1;32m~\\PycharmProjects\\urban-3d-reconstruction\\venv\\lib\\site-packages\\torch\\nn\\modules\\module.py:1553\u001B[0m, in \u001B[0;36mModule._wrapped_call_impl\u001B[1;34m(self, *args, **kwargs)\u001B[0m\n\u001B[0;32m   1551\u001B[0m     \u001B[38;5;28;01mreturn\u001B[39;00m \u001B[38;5;28mself\u001B[39m\u001B[38;5;241m.\u001B[39m_compiled_call_impl(\u001B[38;5;241m*\u001B[39margs, \u001B[38;5;241m*\u001B[39m\u001B[38;5;241m*\u001B[39mkwargs)  \u001B[38;5;66;03m# type: ignore[misc]\u001B[39;00m\n\u001B[0;32m   1552\u001B[0m \u001B[38;5;28;01melse\u001B[39;00m:\n\u001B[1;32m-> 1553\u001B[0m     \u001B[38;5;28;01mreturn\u001B[39;00m \u001B[38;5;28mself\u001B[39m\u001B[38;5;241m.\u001B[39m_call_impl(\u001B[38;5;241m*\u001B[39margs, \u001B[38;5;241m*\u001B[39m\u001B[38;5;241m*\u001B[39mkwargs)\n",
      "File \u001B[1;32m~\\PycharmProjects\\urban-3d-reconstruction\\venv\\lib\\site-packages\\torch\\nn\\modules\\module.py:1562\u001B[0m, in \u001B[0;36mModule._call_impl\u001B[1;34m(self, *args, **kwargs)\u001B[0m\n\u001B[0;32m   1557\u001B[0m \u001B[38;5;66;03m# If we don't have any hooks, we want to skip the rest of the logic in\u001B[39;00m\n\u001B[0;32m   1558\u001B[0m \u001B[38;5;66;03m# this function, and just call forward.\u001B[39;00m\n\u001B[0;32m   1559\u001B[0m \u001B[38;5;28;01mif\u001B[39;00m \u001B[38;5;129;01mnot\u001B[39;00m (\u001B[38;5;28mself\u001B[39m\u001B[38;5;241m.\u001B[39m_backward_hooks \u001B[38;5;129;01mor\u001B[39;00m \u001B[38;5;28mself\u001B[39m\u001B[38;5;241m.\u001B[39m_backward_pre_hooks \u001B[38;5;129;01mor\u001B[39;00m \u001B[38;5;28mself\u001B[39m\u001B[38;5;241m.\u001B[39m_forward_hooks \u001B[38;5;129;01mor\u001B[39;00m \u001B[38;5;28mself\u001B[39m\u001B[38;5;241m.\u001B[39m_forward_pre_hooks\n\u001B[0;32m   1560\u001B[0m         \u001B[38;5;129;01mor\u001B[39;00m _global_backward_pre_hooks \u001B[38;5;129;01mor\u001B[39;00m _global_backward_hooks\n\u001B[0;32m   1561\u001B[0m         \u001B[38;5;129;01mor\u001B[39;00m _global_forward_hooks \u001B[38;5;129;01mor\u001B[39;00m _global_forward_pre_hooks):\n\u001B[1;32m-> 1562\u001B[0m     \u001B[38;5;28;01mreturn\u001B[39;00m forward_call(\u001B[38;5;241m*\u001B[39margs, \u001B[38;5;241m*\u001B[39m\u001B[38;5;241m*\u001B[39mkwargs)\n\u001B[0;32m   1564\u001B[0m \u001B[38;5;28;01mtry\u001B[39;00m:\n\u001B[0;32m   1565\u001B[0m     result \u001B[38;5;241m=\u001B[39m \u001B[38;5;28;01mNone\u001B[39;00m\n",
      "Cell \u001B[1;32mIn[17], line 198\u001B[0m, in \u001B[0;36mPointNetSetAbstraction.forward\u001B[1;34m(self, xyz, points)\u001B[0m\n\u001B[0;32m    196\u001B[0m \u001B[38;5;28;01mfor\u001B[39;00m i, conv \u001B[38;5;129;01min\u001B[39;00m \u001B[38;5;28menumerate\u001B[39m(\u001B[38;5;28mself\u001B[39m\u001B[38;5;241m.\u001B[39mmlp_convs):\n\u001B[0;32m    197\u001B[0m     bn \u001B[38;5;241m=\u001B[39m \u001B[38;5;28mself\u001B[39m\u001B[38;5;241m.\u001B[39mmlp_bns[i]\n\u001B[1;32m--> 198\u001B[0m     new_points \u001B[38;5;241m=\u001B[39m  F\u001B[38;5;241m.\u001B[39mrelu(bn(\u001B[43mconv\u001B[49m\u001B[43m(\u001B[49m\u001B[43mnew_points\u001B[49m\u001B[43m)\u001B[49m))\n\u001B[0;32m    200\u001B[0m new_points \u001B[38;5;241m=\u001B[39m torch\u001B[38;5;241m.\u001B[39mmax(new_points, \u001B[38;5;241m2\u001B[39m)[\u001B[38;5;241m0\u001B[39m]\n\u001B[0;32m    201\u001B[0m new_xyz \u001B[38;5;241m=\u001B[39m new_xyz\u001B[38;5;241m.\u001B[39mpermute(\u001B[38;5;241m0\u001B[39m, \u001B[38;5;241m2\u001B[39m, \u001B[38;5;241m1\u001B[39m)\n",
      "File \u001B[1;32m~\\PycharmProjects\\urban-3d-reconstruction\\venv\\lib\\site-packages\\torch\\nn\\modules\\module.py:1553\u001B[0m, in \u001B[0;36mModule._wrapped_call_impl\u001B[1;34m(self, *args, **kwargs)\u001B[0m\n\u001B[0;32m   1551\u001B[0m     \u001B[38;5;28;01mreturn\u001B[39;00m \u001B[38;5;28mself\u001B[39m\u001B[38;5;241m.\u001B[39m_compiled_call_impl(\u001B[38;5;241m*\u001B[39margs, \u001B[38;5;241m*\u001B[39m\u001B[38;5;241m*\u001B[39mkwargs)  \u001B[38;5;66;03m# type: ignore[misc]\u001B[39;00m\n\u001B[0;32m   1552\u001B[0m \u001B[38;5;28;01melse\u001B[39;00m:\n\u001B[1;32m-> 1553\u001B[0m     \u001B[38;5;28;01mreturn\u001B[39;00m \u001B[38;5;28mself\u001B[39m\u001B[38;5;241m.\u001B[39m_call_impl(\u001B[38;5;241m*\u001B[39margs, \u001B[38;5;241m*\u001B[39m\u001B[38;5;241m*\u001B[39mkwargs)\n",
      "File \u001B[1;32m~\\PycharmProjects\\urban-3d-reconstruction\\venv\\lib\\site-packages\\torch\\nn\\modules\\module.py:1562\u001B[0m, in \u001B[0;36mModule._call_impl\u001B[1;34m(self, *args, **kwargs)\u001B[0m\n\u001B[0;32m   1557\u001B[0m \u001B[38;5;66;03m# If we don't have any hooks, we want to skip the rest of the logic in\u001B[39;00m\n\u001B[0;32m   1558\u001B[0m \u001B[38;5;66;03m# this function, and just call forward.\u001B[39;00m\n\u001B[0;32m   1559\u001B[0m \u001B[38;5;28;01mif\u001B[39;00m \u001B[38;5;129;01mnot\u001B[39;00m (\u001B[38;5;28mself\u001B[39m\u001B[38;5;241m.\u001B[39m_backward_hooks \u001B[38;5;129;01mor\u001B[39;00m \u001B[38;5;28mself\u001B[39m\u001B[38;5;241m.\u001B[39m_backward_pre_hooks \u001B[38;5;129;01mor\u001B[39;00m \u001B[38;5;28mself\u001B[39m\u001B[38;5;241m.\u001B[39m_forward_hooks \u001B[38;5;129;01mor\u001B[39;00m \u001B[38;5;28mself\u001B[39m\u001B[38;5;241m.\u001B[39m_forward_pre_hooks\n\u001B[0;32m   1560\u001B[0m         \u001B[38;5;129;01mor\u001B[39;00m _global_backward_pre_hooks \u001B[38;5;129;01mor\u001B[39;00m _global_backward_hooks\n\u001B[0;32m   1561\u001B[0m         \u001B[38;5;129;01mor\u001B[39;00m _global_forward_hooks \u001B[38;5;129;01mor\u001B[39;00m _global_forward_pre_hooks):\n\u001B[1;32m-> 1562\u001B[0m     \u001B[38;5;28;01mreturn\u001B[39;00m forward_call(\u001B[38;5;241m*\u001B[39margs, \u001B[38;5;241m*\u001B[39m\u001B[38;5;241m*\u001B[39mkwargs)\n\u001B[0;32m   1564\u001B[0m \u001B[38;5;28;01mtry\u001B[39;00m:\n\u001B[0;32m   1565\u001B[0m     result \u001B[38;5;241m=\u001B[39m \u001B[38;5;28;01mNone\u001B[39;00m\n",
      "File \u001B[1;32m~\\PycharmProjects\\urban-3d-reconstruction\\venv\\lib\\site-packages\\torch\\nn\\modules\\conv.py:458\u001B[0m, in \u001B[0;36mConv2d.forward\u001B[1;34m(self, input)\u001B[0m\n\u001B[0;32m    457\u001B[0m \u001B[38;5;28;01mdef\u001B[39;00m \u001B[38;5;21mforward\u001B[39m(\u001B[38;5;28mself\u001B[39m, \u001B[38;5;28minput\u001B[39m: Tensor) \u001B[38;5;241m-\u001B[39m\u001B[38;5;241m>\u001B[39m Tensor:\n\u001B[1;32m--> 458\u001B[0m     \u001B[38;5;28;01mreturn\u001B[39;00m \u001B[38;5;28;43mself\u001B[39;49m\u001B[38;5;241;43m.\u001B[39;49m\u001B[43m_conv_forward\u001B[49m\u001B[43m(\u001B[49m\u001B[38;5;28;43minput\u001B[39;49m\u001B[43m,\u001B[49m\u001B[43m \u001B[49m\u001B[38;5;28;43mself\u001B[39;49m\u001B[38;5;241;43m.\u001B[39;49m\u001B[43mweight\u001B[49m\u001B[43m,\u001B[49m\u001B[43m \u001B[49m\u001B[38;5;28;43mself\u001B[39;49m\u001B[38;5;241;43m.\u001B[39;49m\u001B[43mbias\u001B[49m\u001B[43m)\u001B[49m\n",
      "File \u001B[1;32m~\\PycharmProjects\\urban-3d-reconstruction\\venv\\lib\\site-packages\\torch\\nn\\modules\\conv.py:454\u001B[0m, in \u001B[0;36mConv2d._conv_forward\u001B[1;34m(self, input, weight, bias)\u001B[0m\n\u001B[0;32m    450\u001B[0m \u001B[38;5;28;01mif\u001B[39;00m \u001B[38;5;28mself\u001B[39m\u001B[38;5;241m.\u001B[39mpadding_mode \u001B[38;5;241m!=\u001B[39m \u001B[38;5;124m'\u001B[39m\u001B[38;5;124mzeros\u001B[39m\u001B[38;5;124m'\u001B[39m:\n\u001B[0;32m    451\u001B[0m     \u001B[38;5;28;01mreturn\u001B[39;00m F\u001B[38;5;241m.\u001B[39mconv2d(F\u001B[38;5;241m.\u001B[39mpad(\u001B[38;5;28minput\u001B[39m, \u001B[38;5;28mself\u001B[39m\u001B[38;5;241m.\u001B[39m_reversed_padding_repeated_twice, mode\u001B[38;5;241m=\u001B[39m\u001B[38;5;28mself\u001B[39m\u001B[38;5;241m.\u001B[39mpadding_mode),\n\u001B[0;32m    452\u001B[0m                     weight, bias, \u001B[38;5;28mself\u001B[39m\u001B[38;5;241m.\u001B[39mstride,\n\u001B[0;32m    453\u001B[0m                     _pair(\u001B[38;5;241m0\u001B[39m), \u001B[38;5;28mself\u001B[39m\u001B[38;5;241m.\u001B[39mdilation, \u001B[38;5;28mself\u001B[39m\u001B[38;5;241m.\u001B[39mgroups)\n\u001B[1;32m--> 454\u001B[0m \u001B[38;5;28;01mreturn\u001B[39;00m \u001B[43mF\u001B[49m\u001B[38;5;241;43m.\u001B[39;49m\u001B[43mconv2d\u001B[49m\u001B[43m(\u001B[49m\u001B[38;5;28;43minput\u001B[39;49m\u001B[43m,\u001B[49m\u001B[43m \u001B[49m\u001B[43mweight\u001B[49m\u001B[43m,\u001B[49m\u001B[43m \u001B[49m\u001B[43mbias\u001B[49m\u001B[43m,\u001B[49m\u001B[43m \u001B[49m\u001B[38;5;28;43mself\u001B[39;49m\u001B[38;5;241;43m.\u001B[39;49m\u001B[43mstride\u001B[49m\u001B[43m,\u001B[49m\n\u001B[0;32m    455\u001B[0m \u001B[43m                \u001B[49m\u001B[38;5;28;43mself\u001B[39;49m\u001B[38;5;241;43m.\u001B[39;49m\u001B[43mpadding\u001B[49m\u001B[43m,\u001B[49m\u001B[43m \u001B[49m\u001B[38;5;28;43mself\u001B[39;49m\u001B[38;5;241;43m.\u001B[39;49m\u001B[43mdilation\u001B[49m\u001B[43m,\u001B[49m\u001B[43m \u001B[49m\u001B[38;5;28;43mself\u001B[39;49m\u001B[38;5;241;43m.\u001B[39;49m\u001B[43mgroups\u001B[49m\u001B[43m)\u001B[49m\n",
      "\u001B[1;31mRuntimeError\u001B[0m: Given groups=1, weight of size [32, 6, 1, 1], expected input[6, 12, 32, 1024] to have 6 channels, but got 12 channels instead"
     ]
    }
   ],
   "execution_count": 79
  },
  {
   "metadata": {
    "ExecuteTime": {
     "end_time": "2024-11-26T12:19:27.123294Z",
     "start_time": "2024-11-26T12:19:27.107672Z"
    }
   },
   "cell_type": "code",
   "source": "xyz.shape",
   "id": "f9697105486ed2c3",
   "outputs": [
    {
     "data": {
      "text/plain": [
       "torch.Size([6, 9, 2048])"
      ]
     },
     "execution_count": 55,
     "metadata": {},
     "output_type": "execute_result"
    }
   ],
   "execution_count": 55
  },
  {
   "metadata": {
    "ExecuteTime": {
     "end_time": "2024-11-26T12:56:18.600191Z",
     "start_time": "2024-11-26T12:56:18.584569Z"
    }
   },
   "cell_type": "code",
   "source": "mini_batch.shape",
   "id": "b8012912de8071ac",
   "outputs": [
    {
     "data": {
      "text/plain": [
       "torch.Size([32, 3, 1024])"
      ]
     },
     "execution_count": 92,
     "metadata": {},
     "output_type": "execute_result"
    }
   ],
   "execution_count": 92
  },
  {
   "metadata": {
    "ExecuteTime": {
     "end_time": "2024-11-26T12:54:39.301495Z",
     "start_time": "2024-11-26T12:54:37.142848Z"
    }
   },
   "cell_type": "code",
   "source": [
    "model.cuda()\n",
    "result = model(mini_batch)"
   ],
   "id": "40809f7f0bef71ee",
   "outputs": [],
   "execution_count": 83
  },
  {
   "metadata": {
    "ExecuteTime": {
     "end_time": "2024-11-26T12:54:43.974965Z",
     "start_time": "2024-11-26T12:54:43.959343Z"
    }
   },
   "cell_type": "code",
   "source": "mini_batch[1].shape",
   "id": "b471dfa6caf9d4a9",
   "outputs": [
    {
     "data": {
      "text/plain": [
       "torch.Size([3, 1024])"
      ]
     },
     "execution_count": 84,
     "metadata": {},
     "output_type": "execute_result"
    }
   ],
   "execution_count": 84
  },
  {
   "metadata": {
    "ExecuteTime": {
     "end_time": "2024-11-26T12:55:02.717915Z",
     "start_time": "2024-11-26T12:55:02.702290Z"
    }
   },
   "cell_type": "code",
   "source": "mini_batch[1].view(-1, 1)[:, 0].shape",
   "id": "1db12e45bf4ba144",
   "outputs": [
    {
     "data": {
      "text/plain": [
       "torch.Size([3072])"
      ]
     },
     "execution_count": 87,
     "metadata": {},
     "output_type": "execute_result"
    }
   ],
   "execution_count": 87
  },
  {
   "metadata": {
    "ExecuteTime": {
     "end_time": "2024-11-26T12:52:43.973386Z",
     "start_time": "2024-11-26T12:52:43.957718Z"
    }
   },
   "cell_type": "code",
   "source": [
    "sa_test = PointNetSetAbstraction(1024, 0.1, 32, 6, [32, 32, 64], False)\n",
    "sa_test.cuda()"
   ],
   "id": "e36066a941a3d792",
   "outputs": [
    {
     "data": {
      "text/plain": [
       "PointNetSetAbstraction(\n",
       "  (mlp_convs): ModuleList(\n",
       "    (0): Conv2d(6, 32, kernel_size=(1, 1), stride=(1, 1))\n",
       "    (1): Conv2d(32, 32, kernel_size=(1, 1), stride=(1, 1))\n",
       "    (2): Conv2d(32, 64, kernel_size=(1, 1), stride=(1, 1))\n",
       "  )\n",
       "  (mlp_bns): ModuleList(\n",
       "    (0-1): 2 x BatchNorm2d(32, eps=1e-05, momentum=0.1, affine=True, track_running_stats=True)\n",
       "    (2): BatchNorm2d(64, eps=1e-05, momentum=0.1, affine=True, track_running_stats=True)\n",
       "  )\n",
       ")"
      ]
     },
     "execution_count": 73,
     "metadata": {},
     "output_type": "execute_result"
    }
   ],
   "execution_count": 73
  },
  {
   "metadata": {
    "ExecuteTime": {
     "end_time": "2024-11-26T12:19:16.408521Z",
     "start_time": "2024-11-26T12:19:15.224883Z"
    }
   },
   "cell_type": "code",
   "source": [
    "l0_points = mini_batch\n",
    "l0_xyz = mini_batch\n",
    "\n",
    "l1_xyz, l1_points = (sa_test(l0_xyz, l0_points))"
   ],
   "id": "7d102bf37732be50",
   "outputs": [],
   "execution_count": 51
  },
  {
   "metadata": {
    "ExecuteTime": {
     "end_time": "2024-11-26T12:55:56.950265Z",
     "start_time": "2024-11-26T12:55:56.934643Z"
    }
   },
   "cell_type": "code",
   "source": [
    "\n",
    "mini_batch[1].shape"
   ],
   "id": "e406725fa45ec8e",
   "outputs": [
    {
     "data": {
      "text/plain": [
       "torch.Size([3, 1024])"
      ]
     },
     "execution_count": 90,
     "metadata": {},
     "output_type": "execute_result"
    }
   ],
   "execution_count": 90
  },
  {
   "metadata": {
    "ExecuteTime": {
     "end_time": "2024-11-26T12:55:29.684523Z",
     "start_time": "2024-11-26T12:55:29.638711Z"
    }
   },
   "cell_type": "code",
   "source": "F.nll_loss(mini_batch,mini_batch[1] )",
   "id": "542faefbffe2ef6",
   "outputs": [
    {
     "ename": "TypeError",
     "evalue": "nll_loss_nd(): argument 'input' (position 1) must be Tensor, not int",
     "output_type": "error",
     "traceback": [
      "\u001B[1;31m---------------------------------------------------------------------------\u001B[0m",
      "\u001B[1;31mTypeError\u001B[0m                                 Traceback (most recent call last)",
      "Cell \u001B[1;32mIn[89], line 1\u001B[0m\n\u001B[1;32m----> 1\u001B[0m \u001B[43mF\u001B[49m\u001B[38;5;241;43m.\u001B[39;49m\u001B[43mnll_loss\u001B[49m\u001B[43m(\u001B[49m\u001B[38;5;241;43m1\u001B[39;49m\u001B[43m,\u001B[49m\u001B[43m \u001B[49m\u001B[38;5;241;43m1\u001B[39;49m\u001B[43m)\u001B[49m\n",
      "File \u001B[1;32m~\\PycharmProjects\\urban-3d-reconstruction\\venv\\lib\\site-packages\\torch\\nn\\functional.py:2778\u001B[0m, in \u001B[0;36mnll_loss\u001B[1;34m(input, target, weight, size_average, ignore_index, reduce, reduction)\u001B[0m\n\u001B[0;32m   2776\u001B[0m \u001B[38;5;28;01mif\u001B[39;00m size_average \u001B[38;5;129;01mis\u001B[39;00m \u001B[38;5;129;01mnot\u001B[39;00m \u001B[38;5;28;01mNone\u001B[39;00m \u001B[38;5;129;01mor\u001B[39;00m reduce \u001B[38;5;129;01mis\u001B[39;00m \u001B[38;5;129;01mnot\u001B[39;00m \u001B[38;5;28;01mNone\u001B[39;00m:\n\u001B[0;32m   2777\u001B[0m     reduction \u001B[38;5;241m=\u001B[39m _Reduction\u001B[38;5;241m.\u001B[39mlegacy_get_string(size_average, reduce)\n\u001B[1;32m-> 2778\u001B[0m \u001B[38;5;28;01mreturn\u001B[39;00m \u001B[43mtorch\u001B[49m\u001B[38;5;241;43m.\u001B[39;49m\u001B[43m_C\u001B[49m\u001B[38;5;241;43m.\u001B[39;49m\u001B[43m_nn\u001B[49m\u001B[38;5;241;43m.\u001B[39;49m\u001B[43mnll_loss_nd\u001B[49m\u001B[43m(\u001B[49m\u001B[38;5;28;43minput\u001B[39;49m\u001B[43m,\u001B[49m\u001B[43m \u001B[49m\u001B[43mtarget\u001B[49m\u001B[43m,\u001B[49m\u001B[43m \u001B[49m\u001B[43mweight\u001B[49m\u001B[43m,\u001B[49m\u001B[43m \u001B[49m\u001B[43m_Reduction\u001B[49m\u001B[38;5;241;43m.\u001B[39;49m\u001B[43mget_enum\u001B[49m\u001B[43m(\u001B[49m\u001B[43mreduction\u001B[49m\u001B[43m)\u001B[49m\u001B[43m,\u001B[49m\u001B[43m \u001B[49m\u001B[43mignore_index\u001B[49m\u001B[43m)\u001B[49m\n",
      "\u001B[1;31mTypeError\u001B[0m: nll_loss_nd(): argument 'input' (position 1) must be Tensor, not int"
     ]
    }
   ],
   "execution_count": 89
  },
  {
   "metadata": {
    "ExecuteTime": {
     "end_time": "2024-11-26T12:33:24.848877Z",
     "start_time": "2024-11-26T12:33:24.833254Z"
    }
   },
   "cell_type": "code",
   "source": "mini_batch[1].shape",
   "id": "62f44f40dcecfa34",
   "outputs": [
    {
     "data": {
      "text/plain": [
       "torch.Size([3, 1024])"
      ]
     },
     "execution_count": 69,
     "metadata": {},
     "output_type": "execute_result"
    }
   ],
   "execution_count": 69
  },
  {
   "metadata": {
    "ExecuteTime": {
     "end_time": "2024-11-25T23:41:12.496998Z",
     "start_time": "2024-11-25T23:41:12.471563Z"
    }
   },
   "cell_type": "code",
   "source": "model = PointNetPP(13)",
   "id": "3ccb4494bc684d3f",
   "outputs": [],
   "execution_count": 11
  },
  {
   "metadata": {
    "ExecuteTime": {
     "end_time": "2024-11-26T23:46:27.850752Z",
     "start_time": "2024-11-26T23:46:27.575055Z"
    }
   },
   "cell_type": "code",
   "source": [
    "experiment_name = \"pointnetpp\"\n",
    "checkpoint_dir = Path(f\"../models/{experiment_name}\")\n",
    "logger = TensorBoardLogger(save_dir=f\"../models/{experiment_name}/tlogs\", name=experiment_name)\n",
    "\n",
    "max_epochs = 1\n",
    "checkpoint_callback = pl.callbacks.ModelCheckpoint(dirpath=checkpoint_dir / 'best_results',\n",
    "                                                   filename='{epoch}-{val_loss:.2f}-{train_loss:.2f}',\n",
    "                                                   monitor='val_loss', save_last=True)\n",
    "\n",
    "trainer = pl.Trainer(max_epochs=max_epochs, fast_dev_run=False,\n",
    "                     default_root_dir=checkpoint_dir, callbacks=[checkpoint_callback], logger=logger)\n",
    "\n",
    "trainer.fit(model, train_loader, val_loader)"
   ],
   "id": "2e40d35fc85c0491",
   "outputs": [
    {
     "name": "stderr",
     "output_type": "stream",
     "text": [
      "GPU available: True (cuda), used: True\n",
      "TPU available: False, using: 0 TPU cores\n",
      "HPU available: False, using: 0 HPUs\n"
     ]
    },
    {
     "ename": "NameError",
     "evalue": "name 'model' is not defined",
     "output_type": "error",
     "traceback": [
      "\u001B[1;31m---------------------------------------------------------------------------\u001B[0m",
      "\u001B[1;31mNameError\u001B[0m                                 Traceback (most recent call last)",
      "Cell \u001B[1;32mIn[15], line 13\u001B[0m\n\u001B[0;32m      6\u001B[0m checkpoint_callback \u001B[38;5;241m=\u001B[39m pl\u001B[38;5;241m.\u001B[39mcallbacks\u001B[38;5;241m.\u001B[39mModelCheckpoint(dirpath\u001B[38;5;241m=\u001B[39mcheckpoint_dir \u001B[38;5;241m/\u001B[39m \u001B[38;5;124m'\u001B[39m\u001B[38;5;124mbest_results\u001B[39m\u001B[38;5;124m'\u001B[39m,\n\u001B[0;32m      7\u001B[0m                                                    filename\u001B[38;5;241m=\u001B[39m\u001B[38;5;124m'\u001B[39m\u001B[38;5;132;01m{epoch}\u001B[39;00m\u001B[38;5;124m-\u001B[39m\u001B[38;5;132;01m{val_loss:.2f}\u001B[39;00m\u001B[38;5;124m-\u001B[39m\u001B[38;5;132;01m{train_loss:.2f}\u001B[39;00m\u001B[38;5;124m'\u001B[39m,\n\u001B[0;32m      8\u001B[0m                                                    monitor\u001B[38;5;241m=\u001B[39m\u001B[38;5;124m'\u001B[39m\u001B[38;5;124mval_loss\u001B[39m\u001B[38;5;124m'\u001B[39m, save_last\u001B[38;5;241m=\u001B[39m\u001B[38;5;28;01mTrue\u001B[39;00m)\n\u001B[0;32m     10\u001B[0m trainer \u001B[38;5;241m=\u001B[39m pl\u001B[38;5;241m.\u001B[39mTrainer(max_epochs\u001B[38;5;241m=\u001B[39mmax_epochs, fast_dev_run\u001B[38;5;241m=\u001B[39m\u001B[38;5;28;01mFalse\u001B[39;00m,\n\u001B[0;32m     11\u001B[0m                      default_root_dir\u001B[38;5;241m=\u001B[39mcheckpoint_dir, callbacks\u001B[38;5;241m=\u001B[39m[checkpoint_callback], logger\u001B[38;5;241m=\u001B[39mlogger)\n\u001B[1;32m---> 13\u001B[0m trainer\u001B[38;5;241m.\u001B[39mfit(\u001B[43mmodel\u001B[49m, train_loader, val_loader)\n",
      "\u001B[1;31mNameError\u001B[0m: name 'model' is not defined"
     ]
    }
   ],
   "execution_count": 15
  },
  {
   "metadata": {
    "ExecuteTime": {
     "end_time": "2024-11-26T12:06:33.845696Z",
     "start_time": "2024-11-26T12:06:33.077475Z"
    }
   },
   "cell_type": "code",
   "source": "",
   "id": "29ade612c655e3a9",
   "outputs": [
    {
     "ename": "NameError",
     "evalue": "name 'PointNetSetAbstraction' is not defined",
     "output_type": "error",
     "traceback": [
      "\u001B[1;31m---------------------------------------------------------------------------\u001B[0m",
      "\u001B[1;31mNameError\u001B[0m                                 Traceback (most recent call last)",
      "Cell \u001B[1;32mIn[1], line 1\u001B[0m\n\u001B[1;32m----> 1\u001B[0m sa_test \u001B[38;5;241m=\u001B[39m \u001B[43mPointNetSetAbstraction\u001B[49m(\u001B[38;5;241m1024\u001B[39m, \u001B[38;5;241m0.1\u001B[39m, \u001B[38;5;241m32\u001B[39m, \u001B[38;5;241m9\u001B[39m \u001B[38;5;241m+\u001B[39m \u001B[38;5;241m3\u001B[39m, [\u001B[38;5;241m32\u001B[39m, \u001B[38;5;241m32\u001B[39m, \u001B[38;5;241m64\u001B[39m], \u001B[38;5;28;01mFalse\u001B[39;00m)\n",
      "\u001B[1;31mNameError\u001B[0m: name 'PointNetSetAbstraction' is not defined"
     ]
    }
   ],
   "execution_count": 1
  },
  {
   "metadata": {},
   "cell_type": "code",
   "outputs": [],
   "execution_count": null,
   "source": "",
   "id": "a91dc42c9741e3d7"
  }
 ],
 "metadata": {
  "kernelspec": {
   "display_name": "Python 3",
   "language": "python",
   "name": "python3"
  },
  "language_info": {
   "codemirror_mode": {
    "name": "ipython",
    "version": 2
   },
   "file_extension": ".py",
   "mimetype": "text/x-python",
   "name": "python",
   "nbconvert_exporter": "python",
   "pygments_lexer": "ipython2",
   "version": "2.7.6"
  }
 },
 "nbformat": 4,
 "nbformat_minor": 5
}
