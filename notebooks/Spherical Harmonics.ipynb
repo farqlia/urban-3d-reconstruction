{
 "cells": [
  {
   "cell_type": "code",
   "id": "initial_id",
   "metadata": {
    "collapsed": true,
    "ExecuteTime": {
     "end_time": "2024-10-21T16:32:01.079975Z",
     "start_time": "2024-10-21T16:31:59.361229Z"
    }
   },
   "source": [
    "import torch\n",
    "import matplotlib.pyplot as plt\n",
    "import numpy as np \n",
    "import pycolmap\n",
    "from pathlib import Path\n",
    "from matplotlib import image as mpimg\n",
    "from src.geometry.point_transformation import *\n",
    "import open3d as o3d"
   ],
   "outputs": [
    {
     "name": "stdout",
     "output_type": "stream",
     "text": [
      "Jupyter environment detected. Enabling Open3D WebVisualizer.\n",
      "[Open3D INFO] WebRTC GUI backend enabled.\n",
      "[Open3D INFO] WebRTCWindowSystem: HTTP handshake server disabled.\n"
     ]
    }
   ],
   "execution_count": 9
  },
  {
   "metadata": {
    "ExecuteTime": {
     "end_time": "2024-10-21T16:26:58.371385Z",
     "start_time": "2024-10-21T16:26:58.272012Z"
    }
   },
   "cell_type": "code",
   "source": "south_building_model = torch.load(\"../results/south-building/ckpts/ckpt_29999_rank0.pt\", map_location=\"cpu\", weights_only=True)",
   "id": "e1ddc0506a3fb638",
   "outputs": [],
   "execution_count": 2
  },
  {
   "metadata": {
    "ExecuteTime": {
     "end_time": "2024-10-21T16:30:39.688901Z",
     "start_time": "2024-10-21T16:30:39.671171Z"
    }
   },
   "cell_type": "code",
   "source": [
    "recon_path = Path(\"../data/south-building/0\")\n",
    "images_folder = Path(\"../data/south-building/images\")"
   ],
   "id": "3c2f6ac339d91da2",
   "outputs": [],
   "execution_count": 7
  },
  {
   "metadata": {
    "ExecuteTime": {
     "end_time": "2024-10-21T16:30:38.986839Z",
     "start_time": "2024-10-21T16:30:38.967702Z"
    }
   },
   "cell_type": "code",
   "source": "device=torch.device(\"cpu\")",
   "id": "16e00e5bb43f0438",
   "outputs": [],
   "execution_count": 6
  },
  {
   "metadata": {
    "ExecuteTime": {
     "end_time": "2024-10-21T16:32:37.751798Z",
     "start_time": "2024-10-21T16:32:37.401967Z"
    }
   },
   "cell_type": "code",
   "source": [
    "reconstruction = pycolmap.Reconstruction(recon_path)\n",
    "pcd = o3d.io.read_point_cloud(\"../data/south-building/sparse.ply\")\n",
    "recon_points = torch.tensor(np.asarray(pcd.points), device=device)\n",
    "\n",
    "img_id = 1\n",
    "img = reconstruction.images[img_id]\n",
    "cam_id = 1\n",
    "image = mpimg.imread(images_folder / f'{img.name}')\n",
    "\n",
    "extrinsic_matrix = get_extrinsic_params(img.cam_from_world)\n",
    "f, cx, cy = reconstruction.cameras[cam_id].params\n",
    "f_pt = torch.scalar_tensor(f, device=device, dtype=torch.float32)\n",
    "width, height = reconstruction.cameras[cam_id].width, reconstruction.cameras[cam_id].height\n",
    "znear, zfar = 1, 5\n",
    "intrinsic_matrix = get_intrinsic_opengl_params(f, f, height, width, zfar=zfar, znear=znear)\n",
    "W = torch.tensor(extrinsic_matrix[:3, :3].T, device=device, dtype=torch.float32) # viewing transformation\n",
    "\n",
    "extrinsic_matrix_pt = torch.tensor(extrinsic_matrix, device=device, dtype=torch.float32)\n",
    "intrinsic_matrix_pt = torch.tensor(intrinsic_matrix, device=device, dtype=torch.float32)\n",
    "\n",
    "image_pt = torch.tensor(image / 255.0, device=device)"
   ],
   "id": "f1dbb727cc7c525c",
   "outputs": [],
   "execution_count": 13
  },
  {
   "metadata": {
    "ExecuteTime": {
     "end_time": "2024-10-21T16:32:38.952160Z",
     "start_time": "2024-10-21T16:32:38.924148Z"
    }
   },
   "cell_type": "code",
   "source": [
    "homogeneous_points = convert_to_homogenous(recon_points)\n",
    "camera_coordinates = homogeneous_points @ extrinsic_matrix_pt.T\n",
    "clip_coordinates = camera_coordinates @ intrinsic_matrix_pt.T\n",
    "point_ids = cull_coordinates_ids(clip_coordinates, camera_coordinates, zfar=zfar, znear=znear)\n",
    "ndc_coordinates = to_ndc_coordinates(clip_coordinates[point_ids])\n",
    "screen_coordinates = to_screen_coordinates(ndc_coordinates, width, height, zfar, znear)"
   ],
   "id": "2569284a6186a051",
   "outputs": [
    {
     "ename": "TypeError",
     "evalue": "unsupported operand type(s) for @: 'numpy.ndarray' and 'Tensor'",
     "output_type": "error",
     "traceback": [
      "\u001B[1;31m---------------------------------------------------------------------------\u001B[0m",
      "\u001B[1;31mTypeError\u001B[0m                                 Traceback (most recent call last)",
      "Cell \u001B[1;32mIn[14], line 2\u001B[0m\n\u001B[0;32m      1\u001B[0m homogeneous_points \u001B[38;5;241m=\u001B[39m convert_to_homogenous(recon_points)\n\u001B[1;32m----> 2\u001B[0m camera_coordinates \u001B[38;5;241m=\u001B[39m \u001B[43mhomogeneous_points\u001B[49m\u001B[43m \u001B[49m\u001B[38;5;241;43m@\u001B[39;49m\u001B[43m \u001B[49m\u001B[43mextrinsic_matrix_pt\u001B[49m\u001B[38;5;241;43m.\u001B[39;49m\u001B[43mT\u001B[49m\n\u001B[0;32m      3\u001B[0m clip_coordinates \u001B[38;5;241m=\u001B[39m camera_coordinates \u001B[38;5;241m@\u001B[39m intrinsic_matrix_pt\u001B[38;5;241m.\u001B[39mT\n\u001B[0;32m      4\u001B[0m point_ids \u001B[38;5;241m=\u001B[39m cull_coordinates_ids(clip_coordinates, camera_coordinates, zfar\u001B[38;5;241m=\u001B[39mzfar, znear\u001B[38;5;241m=\u001B[39mznear)\n",
      "\u001B[1;31mTypeError\u001B[0m: unsupported operand type(s) for @: 'numpy.ndarray' and 'Tensor'"
     ]
    }
   ],
   "execution_count": 14
  },
  {
   "metadata": {},
   "cell_type": "code",
   "outputs": [],
   "execution_count": null,
   "source": "",
   "id": "201923d219816990"
  }
 ],
 "metadata": {
  "kernelspec": {
   "display_name": "Python 3",
   "language": "python",
   "name": "python3"
  },
  "language_info": {
   "codemirror_mode": {
    "name": "ipython",
    "version": 2
   },
   "file_extension": ".py",
   "mimetype": "text/x-python",
   "name": "python",
   "nbconvert_exporter": "python",
   "pygments_lexer": "ipython2",
   "version": "2.7.6"
  }
 },
 "nbformat": 4,
 "nbformat_minor": 5
}
