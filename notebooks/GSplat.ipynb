{
 "cells": [
  {
   "cell_type": "code",
   "id": "initial_id",
   "metadata": {
    "collapsed": true,
    "ExecuteTime": {
     "end_time": "2024-10-19T09:55:39.282045Z",
     "start_time": "2024-10-19T09:55:39.266988Z"
    }
   },
   "source": "import torch ",
   "outputs": [],
   "execution_count": 13
  },
  {
   "metadata": {
    "ExecuteTime": {
     "end_time": "2024-10-19T09:55:39.923299Z",
     "start_time": "2024-10-19T09:55:39.834011Z"
    }
   },
   "cell_type": "code",
   "source": "g_model = torch.load(\"../results/south-building/ckpts/ckpt_6999_rank0.pt\", map_location=\"cuda:0\", weights_only=True)",
   "id": "5ed33e5b3d028f19",
   "outputs": [],
   "execution_count": 14
  },
  {
   "metadata": {
    "ExecuteTime": {
     "end_time": "2024-10-19T09:55:40.440337Z",
     "start_time": "2024-10-19T09:55:40.420619Z"
    }
   },
   "cell_type": "code",
   "source": "g_model.keys()",
   "id": "c0a27a4d80c466ce",
   "outputs": [
    {
     "data": {
      "text/plain": [
       "dict_keys(['step', 'splats'])"
      ]
     },
     "execution_count": 15,
     "metadata": {},
     "output_type": "execute_result"
    }
   ],
   "execution_count": 15
  },
  {
   "metadata": {
    "ExecuteTime": {
     "end_time": "2024-10-19T09:55:41.175868Z",
     "start_time": "2024-10-19T09:55:41.132355Z"
    }
   },
   "cell_type": "code",
   "source": "g_model['splats']",
   "id": "97e95baf684f93f6",
   "outputs": [
    {
     "data": {
      "text/plain": [
       "OrderedDict([('means',\n",
       "              tensor([[-0.0473, -0.1534,  0.3896],\n",
       "                      [ 0.2236, -0.1885,  0.1588],\n",
       "                      [-0.1035, -0.0982,  0.3136],\n",
       "                      ...,\n",
       "                      [-0.1242,  1.0988, -0.0550],\n",
       "                      [ 0.5121,  0.8483, -0.2970],\n",
       "                      [ 1.6732,  1.6350,  0.3415]], device='cuda:0')),\n",
       "             ('opacities',\n",
       "              tensor([ 0.5801,  0.4425, -0.3294,  ...,  6.6305,  4.0122, 12.1850],\n",
       "                     device='cuda:0')),\n",
       "             ('quats',\n",
       "              tensor([[ 0.9700,  1.0641,  0.4940,  0.7112],\n",
       "                      [ 0.6004,  0.5498,  0.4192,  0.6352],\n",
       "                      [ 1.0225, -0.3401,  1.0428,  0.2486],\n",
       "                      ...,\n",
       "                      [ 0.1863,  0.3159,  0.8543,  0.6108],\n",
       "                      [ 0.5599,  0.1666,  0.3180,  0.7947],\n",
       "                      [ 0.7756,  0.6165,  0.3271,  0.2327]], device='cuda:0')),\n",
       "             ('scales',\n",
       "              tensor([[-3.6856, -4.5007, -4.1013],\n",
       "                      [-6.2502, -5.2591, -5.4123],\n",
       "                      [-4.5813, -5.6028, -5.9347],\n",
       "                      ...,\n",
       "                      [-9.2765, -4.0383, -4.6604],\n",
       "                      [-4.2997, -6.9169, -5.8656],\n",
       "                      [-5.6182, -4.5578, -2.3529]], device='cuda:0')),\n",
       "             ('sh0',\n",
       "              tensor([[[ 1.6426,  1.6522,  1.6482]],\n",
       "              \n",
       "                      [[ 0.2084, -0.0294, -0.1009]],\n",
       "              \n",
       "                      [[-0.0896, -0.4920, -0.5634]],\n",
       "              \n",
       "                      ...,\n",
       "              \n",
       "                      [[ 0.9499,  0.9503,  0.8705]],\n",
       "              \n",
       "                      [[ 0.4267,  0.2004,  0.3533]],\n",
       "              \n",
       "                      [[ 1.9492,  1.9513,  2.1186]]], device='cuda:0')),\n",
       "             ('shN',\n",
       "              tensor([[[-0.0231, -0.0215, -0.0229],\n",
       "                       [ 0.0326,  0.0303,  0.0305],\n",
       "                       [-0.0047, -0.0074, -0.0052],\n",
       "                       ...,\n",
       "                       [-0.0149, -0.0102, -0.0110],\n",
       "                       [ 0.0030,  0.0031,  0.0022],\n",
       "                       [-0.0053, -0.0049, -0.0020]],\n",
       "              \n",
       "                      [[ 0.0004,  0.0079,  0.0142],\n",
       "                       [-0.0096, -0.0170, -0.0149],\n",
       "                       [-0.0189, -0.0210, -0.0277],\n",
       "                       ...,\n",
       "                       [ 0.0411,  0.0372,  0.0400],\n",
       "                       [-0.0071, -0.0009,  0.0030],\n",
       "                       [ 0.0461,  0.0272,  0.0279]],\n",
       "              \n",
       "                      [[-0.0055,  0.0042,  0.0028],\n",
       "                       [ 0.0080,  0.0062,  0.0061],\n",
       "                       [-0.0142, -0.0150, -0.0124],\n",
       "                       ...,\n",
       "                       [-0.0235, -0.0351, -0.0320],\n",
       "                       [ 0.0081,  0.0154,  0.0125],\n",
       "                       [ 0.0049,  0.0078,  0.0034]],\n",
       "              \n",
       "                      ...,\n",
       "              \n",
       "                      [[-0.0992, -0.0955, -0.1141],\n",
       "                       [-0.1552, -0.1414, -0.1613],\n",
       "                       [ 0.1448,  0.1441,  0.1509],\n",
       "                       ...,\n",
       "                       [-0.1356, -0.1300, -0.1503],\n",
       "                       [ 0.1182,  0.1010,  0.1213],\n",
       "                       [-0.1374, -0.1292, -0.1501]],\n",
       "              \n",
       "                      [[ 0.0160,  0.0197,  0.0210],\n",
       "                       [ 0.0123,  0.0167,  0.0168],\n",
       "                       [-0.0394, -0.0566, -0.0593],\n",
       "                       ...,\n",
       "                       [ 0.0600,  0.0733,  0.0684],\n",
       "                       [-0.0631, -0.0763, -0.0900],\n",
       "                       [-0.0311, -0.0324, -0.0349]],\n",
       "              \n",
       "                      [[-0.1161, -0.1083, -0.1203],\n",
       "                       [ 0.1196,  0.1116,  0.1248],\n",
       "                       [-0.1185, -0.1105, -0.1237],\n",
       "                       ...,\n",
       "                       [ 0.0962,  0.0887,  0.1008],\n",
       "                       [ 0.0719,  0.0659,  0.0733],\n",
       "                       [-0.0700, -0.0620, -0.0786]]], device='cuda:0'))])"
      ]
     },
     "execution_count": 16,
     "metadata": {},
     "output_type": "execute_result"
    }
   ],
   "execution_count": 16
  },
  {
   "metadata": {
    "ExecuteTime": {
     "end_time": "2024-10-19T09:55:42.622687Z",
     "start_time": "2024-10-19T09:55:42.610698Z"
    }
   },
   "cell_type": "code",
   "source": "g_model['splats'].keys()",
   "id": "c71af418c7661a53",
   "outputs": [
    {
     "data": {
      "text/plain": [
       "odict_keys(['means', 'opacities', 'quats', 'scales', 'sh0', 'shN'])"
      ]
     },
     "execution_count": 17,
     "metadata": {},
     "output_type": "execute_result"
    }
   ],
   "execution_count": 17
  },
  {
   "metadata": {
    "ExecuteTime": {
     "end_time": "2024-10-19T09:55:43.299153Z",
     "start_time": "2024-10-19T09:55:43.281140Z"
    }
   },
   "cell_type": "code",
   "source": "g_model['splats']['means']",
   "id": "84585a0835683a91",
   "outputs": [
    {
     "data": {
      "text/plain": [
       "tensor([[-0.0473, -0.1534,  0.3896],\n",
       "        [ 0.2236, -0.1885,  0.1588],\n",
       "        [-0.1035, -0.0982,  0.3136],\n",
       "        ...,\n",
       "        [-0.1242,  1.0988, -0.0550],\n",
       "        [ 0.5121,  0.8483, -0.2970],\n",
       "        [ 1.6732,  1.6350,  0.3415]], device='cuda:0')"
      ]
     },
     "execution_count": 18,
     "metadata": {},
     "output_type": "execute_result"
    }
   ],
   "execution_count": 18
  },
  {
   "metadata": {
    "ExecuteTime": {
     "end_time": "2024-10-19T09:55:44.580016Z",
     "start_time": "2024-10-19T09:55:44.560015Z"
    }
   },
   "cell_type": "code",
   "source": "g_model['splats']['opacities']",
   "id": "ec2c730583b8e710",
   "outputs": [
    {
     "data": {
      "text/plain": [
       "tensor([ 0.5801,  0.4425, -0.3294,  ...,  6.6305,  4.0122, 12.1850],\n",
       "       device='cuda:0')"
      ]
     },
     "execution_count": 19,
     "metadata": {},
     "output_type": "execute_result"
    }
   ],
   "execution_count": 19
  },
  {
   "metadata": {
    "ExecuteTime": {
     "end_time": "2024-10-19T09:55:45.147717Z",
     "start_time": "2024-10-19T09:55:45.126485Z"
    }
   },
   "cell_type": "code",
   "source": "g_model['splats']['quats']",
   "id": "3e82f70370a10f8",
   "outputs": [
    {
     "data": {
      "text/plain": [
       "tensor([[ 0.9700,  1.0641,  0.4940,  0.7112],\n",
       "        [ 0.6004,  0.5498,  0.4192,  0.6352],\n",
       "        [ 1.0225, -0.3401,  1.0428,  0.2486],\n",
       "        ...,\n",
       "        [ 0.1863,  0.3159,  0.8543,  0.6108],\n",
       "        [ 0.5599,  0.1666,  0.3180,  0.7947],\n",
       "        [ 0.7756,  0.6165,  0.3271,  0.2327]], device='cuda:0')"
      ]
     },
     "execution_count": 20,
     "metadata": {},
     "output_type": "execute_result"
    }
   ],
   "execution_count": 20
  },
  {
   "metadata": {
    "ExecuteTime": {
     "end_time": "2024-10-19T09:55:46.434744Z",
     "start_time": "2024-10-19T09:55:46.409766Z"
    }
   },
   "cell_type": "code",
   "source": "g_model['splats']['scales']",
   "id": "5145dc546c84b8e5",
   "outputs": [
    {
     "data": {
      "text/plain": [
       "tensor([[-3.6856, -4.5007, -4.1013],\n",
       "        [-6.2502, -5.2591, -5.4123],\n",
       "        [-4.5813, -5.6028, -5.9347],\n",
       "        ...,\n",
       "        [-9.2765, -4.0383, -4.6604],\n",
       "        [-4.2997, -6.9169, -5.8656],\n",
       "        [-5.6182, -4.5578, -2.3529]], device='cuda:0')"
      ]
     },
     "execution_count": 21,
     "metadata": {},
     "output_type": "execute_result"
    }
   ],
   "execution_count": 21
  },
  {
   "metadata": {
    "ExecuteTime": {
     "end_time": "2024-10-19T09:55:47.157997Z",
     "start_time": "2024-10-19T09:55:47.138475Z"
    }
   },
   "cell_type": "code",
   "source": "g_model['splats']['sh0']",
   "id": "2c6ba93ec16bb495",
   "outputs": [
    {
     "data": {
      "text/plain": [
       "tensor([[[ 1.6426,  1.6522,  1.6482]],\n",
       "\n",
       "        [[ 0.2084, -0.0294, -0.1009]],\n",
       "\n",
       "        [[-0.0896, -0.4920, -0.5634]],\n",
       "\n",
       "        ...,\n",
       "\n",
       "        [[ 0.9499,  0.9503,  0.8705]],\n",
       "\n",
       "        [[ 0.4267,  0.2004,  0.3533]],\n",
       "\n",
       "        [[ 1.9492,  1.9513,  2.1186]]], device='cuda:0')"
      ]
     },
     "execution_count": 22,
     "metadata": {},
     "output_type": "execute_result"
    }
   ],
   "execution_count": 22
  },
  {
   "metadata": {
    "ExecuteTime": {
     "end_time": "2024-10-19T09:58:53.676780Z",
     "start_time": "2024-10-19T09:58:53.642935Z"
    }
   },
   "cell_type": "code",
   "source": "viewmats = torch.eye(4, device=\"cuda:0\")[None, :, :]",
   "id": "e4ec739ea73e8ee",
   "outputs": [],
   "execution_count": 23
  },
  {
   "metadata": {
    "ExecuteTime": {
     "end_time": "2024-10-19T09:59:05.837084Z",
     "start_time": "2024-10-19T09:59:05.819085Z"
    }
   },
   "cell_type": "code",
   "source": [
    "Ks = torch.tensor([\n",
    "   [300., 0., 150.], [0., 300., 100.], [0., 0., 1.]], device=\"cuda:0\")[None, :, :]"
   ],
   "id": "3f1dfb834350fc23",
   "outputs": [],
   "execution_count": 24
  },
  {
   "metadata": {
    "ExecuteTime": {
     "end_time": "2024-10-19T10:02:24.565920Z",
     "start_time": "2024-10-19T10:02:24.553903Z"
    }
   },
   "cell_type": "code",
   "source": "width, height = 768, 576",
   "id": "301cd1fe0e97762d",
   "outputs": [],
   "execution_count": 33
  },
  {
   "metadata": {
    "ExecuteTime": {
     "start_time": "2024-10-19T10:02:25.439088Z"
    }
   },
   "cell_type": "code",
   "source": [
    "from gsplat import rasterization\n",
    "\n",
    "colors, alphas, meta = rasterization(\n",
    "   g_model['splats']['means'], g_model['splats']['quats'], g_model['splats']['scales'], g_model['splats']['opacities'], g_model['splats']['sh0'], viewmats, Ks, width, height, sh_degree=0\n",
    ")"
   ],
   "id": "4ab78820e53d64ec",
   "outputs": [
    {
     "ename": "KeyboardInterrupt",
     "evalue": "",
     "output_type": "error",
     "traceback": [
      "\u001B[1;31m---------------------------------------------------------------------------\u001B[0m",
      "\u001B[1;31mRuntimeError\u001B[0m                              Traceback (most recent call last)",
      "    \u001B[1;31m[... skipping hidden 1 frame]\u001B[0m\n",
      "Cell \u001B[1;32mIn[34], line 3\u001B[0m\n\u001B[0;32m      1\u001B[0m \u001B[38;5;28;01mfrom\u001B[39;00m \u001B[38;5;21;01mgsplat\u001B[39;00m \u001B[38;5;28;01mimport\u001B[39;00m rasterization\n\u001B[1;32m----> 3\u001B[0m colors, alphas, meta \u001B[38;5;241m=\u001B[39m \u001B[43mrasterization\u001B[49m\u001B[43m(\u001B[49m\n\u001B[0;32m      4\u001B[0m \u001B[43m   \u001B[49m\u001B[43mg_model\u001B[49m\u001B[43m[\u001B[49m\u001B[38;5;124;43m'\u001B[39;49m\u001B[38;5;124;43msplats\u001B[39;49m\u001B[38;5;124;43m'\u001B[39;49m\u001B[43m]\u001B[49m\u001B[43m[\u001B[49m\u001B[38;5;124;43m'\u001B[39;49m\u001B[38;5;124;43mmeans\u001B[39;49m\u001B[38;5;124;43m'\u001B[39;49m\u001B[43m]\u001B[49m\u001B[43m,\u001B[49m\u001B[43m \u001B[49m\u001B[43mg_model\u001B[49m\u001B[43m[\u001B[49m\u001B[38;5;124;43m'\u001B[39;49m\u001B[38;5;124;43msplats\u001B[39;49m\u001B[38;5;124;43m'\u001B[39;49m\u001B[43m]\u001B[49m\u001B[43m[\u001B[49m\u001B[38;5;124;43m'\u001B[39;49m\u001B[38;5;124;43mquats\u001B[39;49m\u001B[38;5;124;43m'\u001B[39;49m\u001B[43m]\u001B[49m\u001B[43m,\u001B[49m\u001B[43m \u001B[49m\u001B[43mg_model\u001B[49m\u001B[43m[\u001B[49m\u001B[38;5;124;43m'\u001B[39;49m\u001B[38;5;124;43msplats\u001B[39;49m\u001B[38;5;124;43m'\u001B[39;49m\u001B[43m]\u001B[49m\u001B[43m[\u001B[49m\u001B[38;5;124;43m'\u001B[39;49m\u001B[38;5;124;43mscales\u001B[39;49m\u001B[38;5;124;43m'\u001B[39;49m\u001B[43m]\u001B[49m\u001B[43m,\u001B[49m\u001B[43m \u001B[49m\u001B[43mg_model\u001B[49m\u001B[43m[\u001B[49m\u001B[38;5;124;43m'\u001B[39;49m\u001B[38;5;124;43msplats\u001B[39;49m\u001B[38;5;124;43m'\u001B[39;49m\u001B[43m]\u001B[49m\u001B[43m[\u001B[49m\u001B[38;5;124;43m'\u001B[39;49m\u001B[38;5;124;43mopacities\u001B[39;49m\u001B[38;5;124;43m'\u001B[39;49m\u001B[43m]\u001B[49m\u001B[43m,\u001B[49m\u001B[43m \u001B[49m\u001B[43mg_model\u001B[49m\u001B[43m[\u001B[49m\u001B[38;5;124;43m'\u001B[39;49m\u001B[38;5;124;43msplats\u001B[39;49m\u001B[38;5;124;43m'\u001B[39;49m\u001B[43m]\u001B[49m\u001B[43m[\u001B[49m\u001B[38;5;124;43m'\u001B[39;49m\u001B[38;5;124;43msh0\u001B[39;49m\u001B[38;5;124;43m'\u001B[39;49m\u001B[43m]\u001B[49m\u001B[43m,\u001B[49m\u001B[43m \u001B[49m\u001B[43mviewmats\u001B[49m\u001B[43m,\u001B[49m\u001B[43m \u001B[49m\u001B[43mKs\u001B[49m\u001B[43m,\u001B[49m\u001B[43m \u001B[49m\u001B[43mwidth\u001B[49m\u001B[43m,\u001B[49m\u001B[43m \u001B[49m\u001B[43mheight\u001B[49m\u001B[43m,\u001B[49m\u001B[43m \u001B[49m\u001B[43msh_degree\u001B[49m\u001B[38;5;241;43m=\u001B[39;49m\u001B[38;5;241;43m0\u001B[39;49m\n\u001B[0;32m      5\u001B[0m \u001B[43m)\u001B[49m\n",
      "File \u001B[1;32m~\\anaconda3\\envs\\scene-recon\\lib\\site-packages\\gsplat\\rendering.py:497\u001B[0m, in \u001B[0;36mrasterization\u001B[1;34m(means, quats, scales, opacities, colors, viewmats, Ks, width, height, near_plane, far_plane, radius_clip, eps2d, sh_degree, packed, tile_size, backgrounds, render_mode, sparse_grad, absgrad, rasterize_mode, channel_chunk, distributed, camera_model, covars)\u001B[0m\n\u001B[0;32m    496\u001B[0m tile_height \u001B[38;5;241m=\u001B[39m math\u001B[38;5;241m.\u001B[39mceil(height \u001B[38;5;241m/\u001B[39m \u001B[38;5;28mfloat\u001B[39m(tile_size))\n\u001B[1;32m--> 497\u001B[0m tiles_per_gauss, isect_ids, flatten_ids \u001B[38;5;241m=\u001B[39m \u001B[43misect_tiles\u001B[49m\u001B[43m(\u001B[49m\n\u001B[0;32m    498\u001B[0m \u001B[43m    \u001B[49m\u001B[43mmeans2d\u001B[49m\u001B[43m,\u001B[49m\n\u001B[0;32m    499\u001B[0m \u001B[43m    \u001B[49m\u001B[43mradii\u001B[49m\u001B[43m,\u001B[49m\n\u001B[0;32m    500\u001B[0m \u001B[43m    \u001B[49m\u001B[43mdepths\u001B[49m\u001B[43m,\u001B[49m\n\u001B[0;32m    501\u001B[0m \u001B[43m    \u001B[49m\u001B[43mtile_size\u001B[49m\u001B[43m,\u001B[49m\n\u001B[0;32m    502\u001B[0m \u001B[43m    \u001B[49m\u001B[43mtile_width\u001B[49m\u001B[43m,\u001B[49m\n\u001B[0;32m    503\u001B[0m \u001B[43m    \u001B[49m\u001B[43mtile_height\u001B[49m\u001B[43m,\u001B[49m\n\u001B[0;32m    504\u001B[0m \u001B[43m    \u001B[49m\u001B[43mpacked\u001B[49m\u001B[38;5;241;43m=\u001B[39;49m\u001B[43mpacked\u001B[49m\u001B[43m,\u001B[49m\n\u001B[0;32m    505\u001B[0m \u001B[43m    \u001B[49m\u001B[43mn_cameras\u001B[49m\u001B[38;5;241;43m=\u001B[39;49m\u001B[43mC\u001B[49m\u001B[43m,\u001B[49m\n\u001B[0;32m    506\u001B[0m \u001B[43m    \u001B[49m\u001B[43mcamera_ids\u001B[49m\u001B[38;5;241;43m=\u001B[39;49m\u001B[43mcamera_ids\u001B[49m\u001B[43m,\u001B[49m\n\u001B[0;32m    507\u001B[0m \u001B[43m    \u001B[49m\u001B[43mgaussian_ids\u001B[49m\u001B[38;5;241;43m=\u001B[39;49m\u001B[43mgaussian_ids\u001B[49m\u001B[43m,\u001B[49m\n\u001B[0;32m    508\u001B[0m \u001B[43m\u001B[49m\u001B[43m)\u001B[49m\n\u001B[0;32m    509\u001B[0m \u001B[38;5;66;03m# print(\"rank\", world_rank, \"Before isect_offset_encode\")\u001B[39;00m\n",
      "File \u001B[1;32m~\\anaconda3\\envs\\scene-recon\\lib\\site-packages\\torch\\utils\\_contextlib.py:116\u001B[0m, in \u001B[0;36mcontext_decorator.<locals>.decorate_context\u001B[1;34m(*args, **kwargs)\u001B[0m\n\u001B[0;32m    115\u001B[0m \u001B[38;5;28;01mwith\u001B[39;00m ctx_factory():\n\u001B[1;32m--> 116\u001B[0m     \u001B[38;5;28;01mreturn\u001B[39;00m func(\u001B[38;5;241m*\u001B[39margs, \u001B[38;5;241m*\u001B[39m\u001B[38;5;241m*\u001B[39mkwargs)\n",
      "File \u001B[1;32m~\\anaconda3\\envs\\scene-recon\\lib\\site-packages\\gsplat\\cuda\\_wrapper.py:400\u001B[0m, in \u001B[0;36misect_tiles\u001B[1;34m(means2d, radii, depths, tile_size, tile_width, tile_height, sort, packed, n_cameras, camera_ids, gaussian_ids)\u001B[0m\n\u001B[0;32m    398\u001B[0m     \u001B[38;5;28;01massert\u001B[39;00m depths\u001B[38;5;241m.\u001B[39mshape \u001B[38;5;241m==\u001B[39m (C, N), depths\u001B[38;5;241m.\u001B[39msize()\n\u001B[1;32m--> 400\u001B[0m tiles_per_gauss, isect_ids, flatten_ids \u001B[38;5;241m=\u001B[39m \u001B[43m_make_lazy_cuda_func\u001B[49m\u001B[43m(\u001B[49m\u001B[38;5;124;43m\"\u001B[39;49m\u001B[38;5;124;43misect_tiles\u001B[39;49m\u001B[38;5;124;43m\"\u001B[39;49m\u001B[43m)\u001B[49m\u001B[43m(\u001B[49m\n\u001B[0;32m    401\u001B[0m \u001B[43m    \u001B[49m\u001B[43mmeans2d\u001B[49m\u001B[38;5;241;43m.\u001B[39;49m\u001B[43mcontiguous\u001B[49m\u001B[43m(\u001B[49m\u001B[43m)\u001B[49m\u001B[43m,\u001B[49m\n\u001B[0;32m    402\u001B[0m \u001B[43m    \u001B[49m\u001B[43mradii\u001B[49m\u001B[38;5;241;43m.\u001B[39;49m\u001B[43mcontiguous\u001B[49m\u001B[43m(\u001B[49m\u001B[43m)\u001B[49m\u001B[43m,\u001B[49m\n\u001B[0;32m    403\u001B[0m \u001B[43m    \u001B[49m\u001B[43mdepths\u001B[49m\u001B[38;5;241;43m.\u001B[39;49m\u001B[43mcontiguous\u001B[49m\u001B[43m(\u001B[49m\u001B[43m)\u001B[49m\u001B[43m,\u001B[49m\n\u001B[0;32m    404\u001B[0m \u001B[43m    \u001B[49m\u001B[43mcamera_ids\u001B[49m\u001B[43m,\u001B[49m\n\u001B[0;32m    405\u001B[0m \u001B[43m    \u001B[49m\u001B[43mgaussian_ids\u001B[49m\u001B[43m,\u001B[49m\n\u001B[0;32m    406\u001B[0m \u001B[43m    \u001B[49m\u001B[43mC\u001B[49m\u001B[43m,\u001B[49m\n\u001B[0;32m    407\u001B[0m \u001B[43m    \u001B[49m\u001B[43mtile_size\u001B[49m\u001B[43m,\u001B[49m\n\u001B[0;32m    408\u001B[0m \u001B[43m    \u001B[49m\u001B[43mtile_width\u001B[49m\u001B[43m,\u001B[49m\n\u001B[0;32m    409\u001B[0m \u001B[43m    \u001B[49m\u001B[43mtile_height\u001B[49m\u001B[43m,\u001B[49m\n\u001B[0;32m    410\u001B[0m \u001B[43m    \u001B[49m\u001B[43msort\u001B[49m\u001B[43m,\u001B[49m\n\u001B[0;32m    411\u001B[0m \u001B[43m    \u001B[49m\u001B[38;5;28;43;01mTrue\u001B[39;49;00m\u001B[43m,\u001B[49m\u001B[43m  \u001B[49m\u001B[38;5;66;43;03m# DoubleBuffer: memory efficient radixsort\u001B[39;49;00m\n\u001B[0;32m    412\u001B[0m \u001B[43m\u001B[49m\u001B[43m)\u001B[49m\n\u001B[0;32m    413\u001B[0m \u001B[38;5;28;01mreturn\u001B[39;00m tiles_per_gauss, isect_ids, flatten_ids\n",
      "File \u001B[1;32m~\\anaconda3\\envs\\scene-recon\\lib\\site-packages\\gsplat\\cuda\\_wrapper.py:14\u001B[0m, in \u001B[0;36m_make_lazy_cuda_func.<locals>.call_cuda\u001B[1;34m(*args, **kwargs)\u001B[0m\n\u001B[0;32m     12\u001B[0m \u001B[38;5;28;01mfrom\u001B[39;00m \u001B[38;5;21;01m.\u001B[39;00m\u001B[38;5;21;01m_backend\u001B[39;00m \u001B[38;5;28;01mimport\u001B[39;00m _C\n\u001B[1;32m---> 14\u001B[0m \u001B[38;5;28;01mreturn\u001B[39;00m \u001B[38;5;28mgetattr\u001B[39m(_C, name)(\u001B[38;5;241m*\u001B[39margs, \u001B[38;5;241m*\u001B[39m\u001B[38;5;241m*\u001B[39mkwargs)\n",
      "\u001B[1;31mRuntimeError\u001B[0m: CUDA out of memory. Tried to allocate 1.96 GiB. GPU 0 has a total capacity of 6.00 GiB of which 0 bytes is free. Of the allocated memory 10.82 GiB is allocated by PyTorch, and 7.67 MiB is reserved by PyTorch but unallocated. If reserved but unallocated memory is large try setting PYTORCH_CUDA_ALLOC_CONF=expandable_segments:True to avoid fragmentation.  See documentation for Memory Management  (https://pytorch.org/docs/stable/notes/cuda.html#environment-variables)\nException raised from malloc at C:\\cb\\pytorch_1000000000000\\work\\c10\\cuda\\CUDACachingAllocator.cpp:1191 (most recent call first):\n00007FFEC22E462900007FFEC22E4580 c10.dll!c10::Error::Error [<unknown file> @ <unknown line number>]\n00007FFEC2295F3500007FFEC2295EC0 c10.dll!c10::OutOfMemoryError::OutOfMemoryError [<unknown file> @ <unknown line number>]\n00007FFECA3B693500007FFECA3AD650 c10_cuda.dll!c10::cuda::CUDAKernelLaunchRegistry::get_uvm_assertions_ptr_for_current_device [<unknown file> @ <unknown line number>]\n00007FFECA3B69C000007FFECA3AD650 c10_cuda.dll!c10::cuda::CUDAKernelLaunchRegistry::get_uvm_assertions_ptr_for_current_device [<unknown file> @ <unknown line number>]\n00007FFECA3AF9EA00007FFECA3AD650 c10_cuda.dll!c10::cuda::CUDAKernelLaunchRegistry::get_uvm_assertions_ptr_for_current_device [<unknown file> @ <unknown line number>]\n00007FFEC22AA1C300007FFEC22AA160 c10.dll!c10::StorageImpl::StorageImpl [<unknown file> @ <unknown line number>]\n00007FFDFDBEFEF200007FFDFDBEF1B0 torch_cpu.dll!at::DynamicLibrary::sym [<unknown file> @ <unknown line number>]\n00007FFDFDBF21B200007FFDFDBF2170 torch_cpu.dll!at::detail::empty_strided_generic [<unknown file> @ <unknown line number>]\n00007FFE05E41F6B00007FFE05E41E80 torch_cuda.dll!at::detail::empty_strided_cuda [<unknown file> @ <unknown line number>]\n00007FFE05E41E5E00007FFE05E41DA0 torch_cuda.dll!at::detail::empty_strided_cuda [<unknown file> @ <unknown line number>]\n00007FFE05F3163500007FFE05F315C0 torch_cuda.dll!at::native::empty_strided_cuda [<unknown file> @ <unknown line number>]\n00007FFE07B3543500007FFE07B15EE0 torch_cuda.dll!at::cuda::where_outf [<unknown file> @ <unknown line number>]\n00007FFE07A5F77A00007FFE079F0830 torch_cuda.dll!at::cuda::bucketize_outf [<unknown file> @ <unknown line number>]\n00007FFDFE7736A000007FFDFE75CE00 torch_cpu.dll!at::_ops::xlogy__Tensor::redispatch [<unknown file> @ <unknown line number>]\n00007FFDFE7E03DE00007FFDFE75CE00 torch_cpu.dll!at::_ops::xlogy__Tensor::redispatch [<unknown file> @ <unknown line number>]\n00007FFDFE8B7AEB00007FFDFE8B7A00 torch_cpu.dll!at::_ops::empty_strided::redispatch [<unknown file> @ <unknown line number>]\n00007FFDFEB29BAF00007FFDFEB05C00 torch_cpu.dll!at::_ops::view_as_real::redispatch [<unknown file> @ <unknown line number>]\n00007FFDFEB26A0A00007FFDFEB05C00 torch_cpu.dll!at::_ops::view_as_real::redispatch [<unknown file> @ <unknown line number>]\n00007FFDFE7736A000007FFDFE75CE00 torch_cpu.dll!at::_ops::xlogy__Tensor::redispatch [<unknown file> @ <unknown line number>]\n00007FFDFE8274E200007FFDFE8272C0 torch_cpu.dll!at::_ops::empty_strided::call [<unknown file> @ <unknown line number>]\n00007FFDFE12709000007FFDFE126EB0 torch_cpu.dll!at::native::empty_strided_cpu [<unknown file> @ <unknown line number>]\n00007FFDFE125D2300007FFDFE125AE0 torch_cpu.dll!at::native::empty_like [<unknown file> @ <unknown line number>]\n00007FFDFED94ECA00007FFDFED90A00 torch_cpu.dll!at::compositeexplicitautograd::view_copy_symint_outf [<unknown file> @ <unknown line number>]\n00007FFDFED6410000007FFDFED1D3F0 torch_cpu.dll!at::compositeexplicitautograd::bucketize_outf [<unknown file> @ <unknown line number>]\n00007FFDFE97069700007FFDFE9704A0 torch_cpu.dll!at::_ops::empty_like::call [<unknown file> @ <unknown line number>]\n00007FFECDFE15B200007FFECDFC4170 csrc.pyd!PyInit_csrc [<unknown file> @ <unknown line number>]\n00007FFECDFFC7BD00007FFECDFC4170 csrc.pyd!PyInit_csrc [<unknown file> @ <unknown line number>]\n00007FFECDFD58CE00007FFECDFC4170 csrc.pyd!PyInit_csrc [<unknown file> @ <unknown line number>]\n00007FFECDFD598400007FFECDFC4170 csrc.pyd!PyInit_csrc [<unknown file> @ <unknown line number>]\n00007FFECDFBF24B00007FFECDFB56C0 csrc.pyd!c10::ivalue::Object::operator= [<unknown file> @ <unknown line number>]\n00007FFEC2C324ED00007FFEC2C31720 python310.dll!PyCFunction_GetFlags [<unknown file> @ <unknown line number>]\n00007FFEC2BEE19700007FFEC2BEE0A0 python310.dll!PyObject_Call [<unknown file> @ <unknown line number>]\n00007FFEC2CF6DEC00007FFEC2CF6720 python310.dll!PyEval_GetFuncDesc [<unknown file> @ <unknown line number>]\n00007FFEC2CF1E0400007FFEC2CF00E0 python310.dll!PyEval_EvalFrameDefault [<unknown file> @ <unknown line number>]\n00007FFEC2CF521400007FFEC2CF00E0 python310.dll!PyEval_EvalFrameDefault [<unknown file> @ <unknown line number>]\n00007FFEC2BEE29E00007FFEC2BEE260 python310.dll!PyFunction_Vectorcall [<unknown file> @ <unknown line number>]\n00007FFEC2CEE54100007FFEC2CEE3F0 python310.dll!PyOS_URandomNonblock [<unknown file> @ <unknown line number>]\n00007FFEC2CF6B1200007FFEC2CF6720 python310.dll!PyEval_GetFuncDesc [<unknown file> @ <unknown line number>]\n00007FFEC2CF2A1800007FFEC2CF00E0 python310.dll!PyEval_EvalFrameDefault [<unknown file> @ <unknown line number>]\n00007FFEC2CF521400007FFEC2CF00E0 python310.dll!PyEval_EvalFrameDefault [<unknown file> @ <unknown line number>]\n00007FFEC2BEE29E00007FFEC2BEE260 python310.dll!PyFunction_Vectorcall [<unknown file> @ <unknown line number>]\n00007FFEC2BEE00100007FFEC2BEDF40 python310.dll!PyVectorcall_Call [<unknown file> @ <unknown line number>]\n00007FFEC2CF6D1200007FFEC2CF6720 python310.dll!PyEval_GetFuncDesc [<unknown file> @ <unknown line number>]\n00007FFEC2CF1E0400007FFEC2CF00E0 python310.dll!PyEval_EvalFrameDefault [<unknown file> @ <unknown line number>]\n00007FFEC2CF521400007FFEC2CF00E0 python310.dll!PyEval_EvalFrameDefault [<unknown file> @ <unknown line number>]\n00007FFEC2BEE29E00007FFEC2BEE260 python310.dll!PyFunction_Vectorcall [<unknown file> @ <unknown line number>]\n00007FFEC2CEE54100007FFEC2CEE3F0 python310.dll!PyOS_URandomNonblock [<unknown file> @ <unknown line number>]\n00007FFEC2CF6B1200007FFEC2CF6720 python310.dll!PyEval_GetFuncDesc [<unknown file> @ <unknown line number>]\n00007FFEC2CF303C00007FFEC2CF00E0 python310.dll!PyEval_EvalFrameDefault [<unknown file> @ <unknown line number>]\n00007FFEC2CF521400007FFEC2CF00E0 python310.dll!PyEval_EvalFrameDefault [<unknown file> @ <unknown line number>]\n00007FFEC2BEE29E00007FFEC2BEE260 python310.dll!PyFunction_Vectorcall [<unknown file> @ <unknown line number>]\n00007FFEC2CEE54100007FFEC2CEE3F0 python310.dll!PyOS_URandomNonblock [<unknown file> @ <unknown line number>]\n00007FFEC2CF6B1200007FFEC2CF6720 python310.dll!PyEval_GetFuncDesc [<unknown file> @ <unknown line number>]\n00007FFEC2CF303C00007FFEC2CF00E0 python310.dll!PyEval_EvalFrameDefault [<unknown file> @ <unknown line number>]\n00007FFEC2CF521400007FFEC2CF00E0 python310.dll!PyEval_EvalFrameDefault [<unknown file> @ <unknown line number>]\n00007FFEC2CEFEE200007FFEC2CEFE60 python310.dll!PyEval_EvalCode [<unknown file> @ <unknown line number>]\n00007FFEC2CEAEBE00007FFEC2CE0CC0 python310.dll!PyWarnings_Init [<unknown file> @ <unknown line number>]\n00007FFEC2CE888800007FFEC2CE0CC0 python310.dll!PyWarnings_Init [<unknown file> @ <unknown line number>]\n00007FFEC2C320F900007FFEC2C31720 python310.dll!PyCFunction_GetFlags [<unknown file> @ <unknown line number>]\n00007FFEC2CEE54100007FFEC2CEE3F0 python310.dll!PyOS_URandomNonblock [<unknown file> @ <unknown line number>]\n00007FFEC2CF6B1200007FFEC2CF6720 python310.dll!PyEval_GetFuncDesc [<unknown file> @ <unknown line number>]\n00007FFEC2CF2A1800007FFEC2CF00E0 python310.dll!PyEval_EvalFrameDefault [<unknown file> @ <unknown line number>]\n00007FFEC2C1669800007FFEC2C16150 python310.dll!PyGen_Finalize [<unknown file> @ <unknown line number>]\n00007FFEC2C168B400007FFEC2C16150 python310.dll!PyGen_Finalize [<unknown file> @ <unknown line number>]\n",
      "\nDuring handling of the above exception, another exception occurred:\n",
      "\u001B[1;31mKeyboardInterrupt\u001B[0m                         Traceback (most recent call last)",
      "File \u001B[1;32m~\\anaconda3\\envs\\scene-recon\\lib\\site-packages\\IPython\\core\\interactiveshell.py:3529\u001B[0m, in \u001B[0;36mInteractiveShell.run_code\u001B[1;34m(self, code_obj, result, async_)\u001B[0m\n\u001B[0;32m   3527\u001B[0m \u001B[38;5;28;01mexcept\u001B[39;00m:\n\u001B[0;32m   3528\u001B[0m     \u001B[38;5;28;01mif\u001B[39;00m result \u001B[38;5;129;01mis\u001B[39;00m \u001B[38;5;129;01mnot\u001B[39;00m \u001B[38;5;28;01mNone\u001B[39;00m:\n\u001B[1;32m-> 3529\u001B[0m         result\u001B[38;5;241m.\u001B[39merror_in_exec \u001B[38;5;241m=\u001B[39m \u001B[43msys\u001B[49m\u001B[38;5;241;43m.\u001B[39;49m\u001B[43mexc_info\u001B[49m\u001B[43m(\u001B[49m\u001B[43m)\u001B[49m[\u001B[38;5;241m1\u001B[39m]\n\u001B[0;32m   3530\u001B[0m     \u001B[38;5;28mself\u001B[39m\u001B[38;5;241m.\u001B[39mshowtraceback(running_compiled_code\u001B[38;5;241m=\u001B[39m\u001B[38;5;28;01mTrue\u001B[39;00m)\n\u001B[0;32m   3531\u001B[0m \u001B[38;5;28;01melse\u001B[39;00m:\n",
      "\u001B[1;31mKeyboardInterrupt\u001B[0m: "
     ]
    }
   ],
   "execution_count": 34
  },
  {
   "metadata": {
    "ExecuteTime": {
     "end_time": "2024-10-19T10:03:18.290338300Z",
     "start_time": "2024-10-19T10:01:48.669003Z"
    }
   },
   "cell_type": "code",
   "source": [
    "from matplotlib import pyplot as plt\n",
    "\n",
    "plt.imshow(colors.cpu().detach().numpy())"
   ],
   "id": "5cfd6490aaa5aa71",
   "outputs": [
    {
     "ename": "TypeError",
     "evalue": "can't convert cuda:0 device type tensor to numpy. Use Tensor.cpu() to copy the tensor to host memory first.",
     "output_type": "error",
     "traceback": [
      "\u001B[1;31m---------------------------------------------------------------------------\u001B[0m",
      "\u001B[1;31mTypeError\u001B[0m                                 Traceback (most recent call last)",
      "Cell \u001B[1;32mIn[32], line 3\u001B[0m\n\u001B[0;32m      1\u001B[0m \u001B[38;5;28;01mfrom\u001B[39;00m \u001B[38;5;21;01mmatplotlib\u001B[39;00m \u001B[38;5;28;01mimport\u001B[39;00m pyplot \u001B[38;5;28;01mas\u001B[39;00m plt\n\u001B[1;32m----> 3\u001B[0m \u001B[43mplt\u001B[49m\u001B[38;5;241;43m.\u001B[39;49m\u001B[43mimshow\u001B[49m\u001B[43m(\u001B[49m\u001B[43mcolors\u001B[49m\u001B[43m)\u001B[49m\n",
      "File \u001B[1;32m~\\anaconda3\\envs\\scene-recon\\lib\\site-packages\\matplotlib\\pyplot.py:3562\u001B[0m, in \u001B[0;36mimshow\u001B[1;34m(X, cmap, norm, aspect, interpolation, alpha, vmin, vmax, origin, extent, interpolation_stage, filternorm, filterrad, resample, url, data, **kwargs)\u001B[0m\n\u001B[0;32m   3541\u001B[0m \u001B[38;5;129m@_copy_docstring_and_deprecators\u001B[39m(Axes\u001B[38;5;241m.\u001B[39mimshow)\n\u001B[0;32m   3542\u001B[0m \u001B[38;5;28;01mdef\u001B[39;00m \u001B[38;5;21mimshow\u001B[39m(\n\u001B[0;32m   3543\u001B[0m     X: ArrayLike \u001B[38;5;241m|\u001B[39m PIL\u001B[38;5;241m.\u001B[39mImage\u001B[38;5;241m.\u001B[39mImage,\n\u001B[1;32m   (...)\u001B[0m\n\u001B[0;32m   3560\u001B[0m     \u001B[38;5;241m*\u001B[39m\u001B[38;5;241m*\u001B[39mkwargs,\n\u001B[0;32m   3561\u001B[0m ) \u001B[38;5;241m-\u001B[39m\u001B[38;5;241m>\u001B[39m AxesImage:\n\u001B[1;32m-> 3562\u001B[0m     __ret \u001B[38;5;241m=\u001B[39m gca()\u001B[38;5;241m.\u001B[39mimshow(\n\u001B[0;32m   3563\u001B[0m         X,\n\u001B[0;32m   3564\u001B[0m         cmap\u001B[38;5;241m=\u001B[39mcmap,\n\u001B[0;32m   3565\u001B[0m         norm\u001B[38;5;241m=\u001B[39mnorm,\n\u001B[0;32m   3566\u001B[0m         aspect\u001B[38;5;241m=\u001B[39maspect,\n\u001B[0;32m   3567\u001B[0m         interpolation\u001B[38;5;241m=\u001B[39minterpolation,\n\u001B[0;32m   3568\u001B[0m         alpha\u001B[38;5;241m=\u001B[39malpha,\n\u001B[0;32m   3569\u001B[0m         vmin\u001B[38;5;241m=\u001B[39mvmin,\n\u001B[0;32m   3570\u001B[0m         vmax\u001B[38;5;241m=\u001B[39mvmax,\n\u001B[0;32m   3571\u001B[0m         origin\u001B[38;5;241m=\u001B[39morigin,\n\u001B[0;32m   3572\u001B[0m         extent\u001B[38;5;241m=\u001B[39mextent,\n\u001B[0;32m   3573\u001B[0m         interpolation_stage\u001B[38;5;241m=\u001B[39minterpolation_stage,\n\u001B[0;32m   3574\u001B[0m         filternorm\u001B[38;5;241m=\u001B[39mfilternorm,\n\u001B[0;32m   3575\u001B[0m         filterrad\u001B[38;5;241m=\u001B[39mfilterrad,\n\u001B[0;32m   3576\u001B[0m         resample\u001B[38;5;241m=\u001B[39mresample,\n\u001B[0;32m   3577\u001B[0m         url\u001B[38;5;241m=\u001B[39murl,\n\u001B[0;32m   3578\u001B[0m         \u001B[38;5;241m*\u001B[39m\u001B[38;5;241m*\u001B[39m({\u001B[38;5;124m\"\u001B[39m\u001B[38;5;124mdata\u001B[39m\u001B[38;5;124m\"\u001B[39m: data} \u001B[38;5;28;01mif\u001B[39;00m data \u001B[38;5;129;01mis\u001B[39;00m \u001B[38;5;129;01mnot\u001B[39;00m \u001B[38;5;28;01mNone\u001B[39;00m \u001B[38;5;28;01melse\u001B[39;00m {}),\n\u001B[0;32m   3579\u001B[0m         \u001B[38;5;241m*\u001B[39m\u001B[38;5;241m*\u001B[39mkwargs,\n\u001B[0;32m   3580\u001B[0m     )\n\u001B[0;32m   3581\u001B[0m     sci(__ret)\n\u001B[0;32m   3582\u001B[0m     \u001B[38;5;28;01mreturn\u001B[39;00m __ret\n",
      "File \u001B[1;32m~\\anaconda3\\envs\\scene-recon\\lib\\site-packages\\matplotlib\\__init__.py:1473\u001B[0m, in \u001B[0;36m_preprocess_data.<locals>.inner\u001B[1;34m(ax, data, *args, **kwargs)\u001B[0m\n\u001B[0;32m   1470\u001B[0m \u001B[38;5;129m@functools\u001B[39m\u001B[38;5;241m.\u001B[39mwraps(func)\n\u001B[0;32m   1471\u001B[0m \u001B[38;5;28;01mdef\u001B[39;00m \u001B[38;5;21minner\u001B[39m(ax, \u001B[38;5;241m*\u001B[39margs, data\u001B[38;5;241m=\u001B[39m\u001B[38;5;28;01mNone\u001B[39;00m, \u001B[38;5;241m*\u001B[39m\u001B[38;5;241m*\u001B[39mkwargs):\n\u001B[0;32m   1472\u001B[0m     \u001B[38;5;28;01mif\u001B[39;00m data \u001B[38;5;129;01mis\u001B[39;00m \u001B[38;5;28;01mNone\u001B[39;00m:\n\u001B[1;32m-> 1473\u001B[0m         \u001B[38;5;28;01mreturn\u001B[39;00m func(\n\u001B[0;32m   1474\u001B[0m             ax,\n\u001B[0;32m   1475\u001B[0m             \u001B[38;5;241m*\u001B[39m\u001B[38;5;28mmap\u001B[39m(sanitize_sequence, args),\n\u001B[0;32m   1476\u001B[0m             \u001B[38;5;241m*\u001B[39m\u001B[38;5;241m*\u001B[39m{k: sanitize_sequence(v) \u001B[38;5;28;01mfor\u001B[39;00m k, v \u001B[38;5;129;01min\u001B[39;00m kwargs\u001B[38;5;241m.\u001B[39mitems()})\n\u001B[0;32m   1478\u001B[0m     bound \u001B[38;5;241m=\u001B[39m new_sig\u001B[38;5;241m.\u001B[39mbind(ax, \u001B[38;5;241m*\u001B[39margs, \u001B[38;5;241m*\u001B[39m\u001B[38;5;241m*\u001B[39mkwargs)\n\u001B[0;32m   1479\u001B[0m     auto_label \u001B[38;5;241m=\u001B[39m (bound\u001B[38;5;241m.\u001B[39marguments\u001B[38;5;241m.\u001B[39mget(label_namer)\n\u001B[0;32m   1480\u001B[0m                   \u001B[38;5;129;01mor\u001B[39;00m bound\u001B[38;5;241m.\u001B[39mkwargs\u001B[38;5;241m.\u001B[39mget(label_namer))\n",
      "File \u001B[1;32m~\\anaconda3\\envs\\scene-recon\\lib\\site-packages\\matplotlib\\axes\\_axes.py:5895\u001B[0m, in \u001B[0;36mAxes.imshow\u001B[1;34m(self, X, cmap, norm, aspect, interpolation, alpha, vmin, vmax, origin, extent, interpolation_stage, filternorm, filterrad, resample, url, **kwargs)\u001B[0m\n\u001B[0;32m   5892\u001B[0m \u001B[38;5;28;01mif\u001B[39;00m aspect \u001B[38;5;129;01mis\u001B[39;00m \u001B[38;5;129;01mnot\u001B[39;00m \u001B[38;5;28;01mNone\u001B[39;00m:\n\u001B[0;32m   5893\u001B[0m     \u001B[38;5;28mself\u001B[39m\u001B[38;5;241m.\u001B[39mset_aspect(aspect)\n\u001B[1;32m-> 5895\u001B[0m \u001B[43mim\u001B[49m\u001B[38;5;241;43m.\u001B[39;49m\u001B[43mset_data\u001B[49m\u001B[43m(\u001B[49m\u001B[43mX\u001B[49m\u001B[43m)\u001B[49m\n\u001B[0;32m   5896\u001B[0m im\u001B[38;5;241m.\u001B[39mset_alpha(alpha)\n\u001B[0;32m   5897\u001B[0m \u001B[38;5;28;01mif\u001B[39;00m im\u001B[38;5;241m.\u001B[39mget_clip_path() \u001B[38;5;129;01mis\u001B[39;00m \u001B[38;5;28;01mNone\u001B[39;00m:\n\u001B[0;32m   5898\u001B[0m     \u001B[38;5;66;03m# image does not already have clipping set, clip to Axes patch\u001B[39;00m\n",
      "File \u001B[1;32m~\\anaconda3\\envs\\scene-recon\\lib\\site-packages\\matplotlib\\image.py:729\u001B[0m, in \u001B[0;36m_ImageBase.set_data\u001B[1;34m(self, A)\u001B[0m\n\u001B[0;32m    727\u001B[0m \u001B[38;5;28;01mif\u001B[39;00m \u001B[38;5;28misinstance\u001B[39m(A, PIL\u001B[38;5;241m.\u001B[39mImage\u001B[38;5;241m.\u001B[39mImage):\n\u001B[0;32m    728\u001B[0m     A \u001B[38;5;241m=\u001B[39m pil_to_array(A)  \u001B[38;5;66;03m# Needed e.g. to apply png palette.\u001B[39;00m\n\u001B[1;32m--> 729\u001B[0m \u001B[38;5;28mself\u001B[39m\u001B[38;5;241m.\u001B[39m_A \u001B[38;5;241m=\u001B[39m \u001B[38;5;28;43mself\u001B[39;49m\u001B[38;5;241;43m.\u001B[39;49m\u001B[43m_normalize_image_array\u001B[49m\u001B[43m(\u001B[49m\u001B[43mA\u001B[49m\u001B[43m)\u001B[49m\n\u001B[0;32m    730\u001B[0m \u001B[38;5;28mself\u001B[39m\u001B[38;5;241m.\u001B[39m_imcache \u001B[38;5;241m=\u001B[39m \u001B[38;5;28;01mNone\u001B[39;00m\n\u001B[0;32m    731\u001B[0m \u001B[38;5;28mself\u001B[39m\u001B[38;5;241m.\u001B[39mstale \u001B[38;5;241m=\u001B[39m \u001B[38;5;28;01mTrue\u001B[39;00m\n",
      "File \u001B[1;32m~\\anaconda3\\envs\\scene-recon\\lib\\site-packages\\matplotlib\\image.py:690\u001B[0m, in \u001B[0;36m_ImageBase._normalize_image_array\u001B[1;34m(A)\u001B[0m\n\u001B[0;32m    684\u001B[0m \u001B[38;5;129m@staticmethod\u001B[39m\n\u001B[0;32m    685\u001B[0m \u001B[38;5;28;01mdef\u001B[39;00m \u001B[38;5;21m_normalize_image_array\u001B[39m(A):\n\u001B[0;32m    686\u001B[0m \u001B[38;5;250m    \u001B[39m\u001B[38;5;124;03m\"\"\"\u001B[39;00m\n\u001B[0;32m    687\u001B[0m \u001B[38;5;124;03m    Check validity of image-like input *A* and normalize it to a format suitable for\u001B[39;00m\n\u001B[0;32m    688\u001B[0m \u001B[38;5;124;03m    Image subclasses.\u001B[39;00m\n\u001B[0;32m    689\u001B[0m \u001B[38;5;124;03m    \"\"\"\u001B[39;00m\n\u001B[1;32m--> 690\u001B[0m     A \u001B[38;5;241m=\u001B[39m \u001B[43mcbook\u001B[49m\u001B[38;5;241;43m.\u001B[39;49m\u001B[43msafe_masked_invalid\u001B[49m\u001B[43m(\u001B[49m\u001B[43mA\u001B[49m\u001B[43m,\u001B[49m\u001B[43m \u001B[49m\u001B[43mcopy\u001B[49m\u001B[38;5;241;43m=\u001B[39;49m\u001B[38;5;28;43;01mTrue\u001B[39;49;00m\u001B[43m)\u001B[49m\n\u001B[0;32m    691\u001B[0m     \u001B[38;5;28;01mif\u001B[39;00m A\u001B[38;5;241m.\u001B[39mdtype \u001B[38;5;241m!=\u001B[39m np\u001B[38;5;241m.\u001B[39muint8 \u001B[38;5;129;01mand\u001B[39;00m \u001B[38;5;129;01mnot\u001B[39;00m np\u001B[38;5;241m.\u001B[39mcan_cast(A\u001B[38;5;241m.\u001B[39mdtype, \u001B[38;5;28mfloat\u001B[39m, \u001B[38;5;124m\"\u001B[39m\u001B[38;5;124msame_kind\u001B[39m\u001B[38;5;124m\"\u001B[39m):\n\u001B[0;32m    692\u001B[0m         \u001B[38;5;28;01mraise\u001B[39;00m \u001B[38;5;167;01mTypeError\u001B[39;00m(\u001B[38;5;124mf\u001B[39m\u001B[38;5;124m\"\u001B[39m\u001B[38;5;124mImage data of dtype \u001B[39m\u001B[38;5;132;01m{\u001B[39;00mA\u001B[38;5;241m.\u001B[39mdtype\u001B[38;5;132;01m}\u001B[39;00m\u001B[38;5;124m cannot be \u001B[39m\u001B[38;5;124m\"\u001B[39m\n\u001B[0;32m    693\u001B[0m                         \u001B[38;5;124mf\u001B[39m\u001B[38;5;124m\"\u001B[39m\u001B[38;5;124mconverted to float\u001B[39m\u001B[38;5;124m\"\u001B[39m)\n",
      "File \u001B[1;32m~\\anaconda3\\envs\\scene-recon\\lib\\site-packages\\matplotlib\\cbook.py:733\u001B[0m, in \u001B[0;36msafe_masked_invalid\u001B[1;34m(x, copy)\u001B[0m\n\u001B[0;32m    732\u001B[0m \u001B[38;5;28;01mdef\u001B[39;00m \u001B[38;5;21msafe_masked_invalid\u001B[39m(x, copy\u001B[38;5;241m=\u001B[39m\u001B[38;5;28;01mFalse\u001B[39;00m):\n\u001B[1;32m--> 733\u001B[0m     x \u001B[38;5;241m=\u001B[39m \u001B[43mnp\u001B[49m\u001B[38;5;241;43m.\u001B[39;49m\u001B[43marray\u001B[49m\u001B[43m(\u001B[49m\u001B[43mx\u001B[49m\u001B[43m,\u001B[49m\u001B[43m \u001B[49m\u001B[43msubok\u001B[49m\u001B[38;5;241;43m=\u001B[39;49m\u001B[38;5;28;43;01mTrue\u001B[39;49;00m\u001B[43m,\u001B[49m\u001B[43m \u001B[49m\u001B[43mcopy\u001B[49m\u001B[38;5;241;43m=\u001B[39;49m\u001B[43mcopy\u001B[49m\u001B[43m)\u001B[49m\n\u001B[0;32m    734\u001B[0m     \u001B[38;5;28;01mif\u001B[39;00m \u001B[38;5;129;01mnot\u001B[39;00m x\u001B[38;5;241m.\u001B[39mdtype\u001B[38;5;241m.\u001B[39misnative:\n\u001B[0;32m    735\u001B[0m         \u001B[38;5;66;03m# If we have already made a copy, do the byteswap in place, else make a\u001B[39;00m\n\u001B[0;32m    736\u001B[0m         \u001B[38;5;66;03m# copy with the byte order swapped.\u001B[39;00m\n\u001B[0;32m    737\u001B[0m         \u001B[38;5;66;03m# Swap to native order.\u001B[39;00m\n\u001B[0;32m    738\u001B[0m         x \u001B[38;5;241m=\u001B[39m x\u001B[38;5;241m.\u001B[39mbyteswap(inplace\u001B[38;5;241m=\u001B[39mcopy)\u001B[38;5;241m.\u001B[39mview(x\u001B[38;5;241m.\u001B[39mdtype\u001B[38;5;241m.\u001B[39mnewbyteorder(\u001B[38;5;124m'\u001B[39m\u001B[38;5;124mN\u001B[39m\u001B[38;5;124m'\u001B[39m))\n",
      "File \u001B[1;32m~\\anaconda3\\envs\\scene-recon\\lib\\site-packages\\torch\\_tensor.py:1083\u001B[0m, in \u001B[0;36mTensor.__array__\u001B[1;34m(self, dtype)\u001B[0m\n\u001B[0;32m   1081\u001B[0m     \u001B[38;5;28;01mreturn\u001B[39;00m handle_torch_function(Tensor\u001B[38;5;241m.\u001B[39m__array__, (\u001B[38;5;28mself\u001B[39m,), \u001B[38;5;28mself\u001B[39m, dtype\u001B[38;5;241m=\u001B[39mdtype)\n\u001B[0;32m   1082\u001B[0m \u001B[38;5;28;01mif\u001B[39;00m dtype \u001B[38;5;129;01mis\u001B[39;00m \u001B[38;5;28;01mNone\u001B[39;00m:\n\u001B[1;32m-> 1083\u001B[0m     \u001B[38;5;28;01mreturn\u001B[39;00m \u001B[38;5;28;43mself\u001B[39;49m\u001B[38;5;241;43m.\u001B[39;49m\u001B[43mnumpy\u001B[49m\u001B[43m(\u001B[49m\u001B[43m)\u001B[49m\n\u001B[0;32m   1084\u001B[0m \u001B[38;5;28;01melse\u001B[39;00m:\n\u001B[0;32m   1085\u001B[0m     \u001B[38;5;28;01mreturn\u001B[39;00m \u001B[38;5;28mself\u001B[39m\u001B[38;5;241m.\u001B[39mnumpy()\u001B[38;5;241m.\u001B[39mastype(dtype, copy\u001B[38;5;241m=\u001B[39m\u001B[38;5;28;01mFalse\u001B[39;00m)\n",
      "\u001B[1;31mTypeError\u001B[0m: can't convert cuda:0 device type tensor to numpy. Use Tensor.cpu() to copy the tensor to host memory first."
     ]
    },
    {
     "data": {
      "text/plain": [
       "<Figure size 640x480 with 1 Axes>"
      ],
      "image/png": "[encoded data removed]"
     },
     "metadata": {},
     "output_type": "display_data"
    }
   ],
   "execution_count": 32
  }
 ],
 "metadata": {
  "kernelspec": {
   "display_name": "Python 3",
   "language": "python",
   "name": "python3"
  },
  "language_info": {
   "codemirror_mode": {
    "name": "ipython",
    "version": 2
   },
   "file_extension": ".py",
   "mimetype": "text/x-python",
   "name": "python",
   "nbconvert_exporter": "python",
   "pygments_lexer": "ipython2",
   "version": "2.7.6"
  }
 },
 "nbformat": 4,
 "nbformat_minor": 5
}
