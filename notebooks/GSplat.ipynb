{
 "cells": [
  {
   "cell_type": "code",
   "id": "initial_id",
   "metadata": {
    "collapsed": true,
    "ExecuteTime": {
     "end_time": "2024-10-18T17:34:45.842707Z",
     "start_time": "2024-10-18T17:34:04.956857Z"
    }
   },
   "source": [
    "import json\n",
    "import math\n",
    "import os\n",
    "import time\n",
    "from dataclasses import dataclass, field\n",
    "from collections import defaultdict\n",
    "from typing import Dict, List, Optional, Tuple, Union\n",
    "\n",
    "import imageio\n",
    "import nerfview\n",
    "import numpy as np\n",
    "import torch\n",
    "import torch.nn.functional as F\n",
    "import tqdm\n",
    "import tyro\n",
    "import viser\n",
    "import yaml\n",
    "from src.datasets.colmap import Dataset, Parser\n",
    "from src.datasets.traj import (\n",
    "    generate_interpolated_path,\n",
    "    generate_ellipse_path_z,\n",
    "    generate_spiral_path,\n",
    ")\n",
    "from torch import Tensor\n",
    "from torch.nn.parallel import DistributedDataParallel as DDP\n",
    "from torch.utils.tensorboard import SummaryWriter\n",
    "from torchmetrics.image import PeakSignalNoiseRatio, StructuralSimilarityIndexMeasure\n",
    "from fused_ssim import fused_ssim\n",
    "from torchmetrics.image.lpip import LearnedPerceptualImagePatchSimilarity\n",
    "from typing_extensions import Literal, assert_never\n",
    "from src.splats.utils import AppearanceOptModule, CameraOptModule, knn, rgb_to_sh, set_random_seed\n",
    "\n",
    "from gsplat.compression import PngCompression\n",
    "from gsplat.distributed import cli\n",
    "from gsplat.rendering import rasterization\n",
    "from gsplat.strategy import DefaultStrategy, MCMCStrategy\n"
   ],
   "outputs": [],
   "execution_count": 1
  },
  {
   "metadata": {
    "ExecuteTime": {
     "end_time": "2024-10-18T17:35:21.534347Z",
     "start_time": "2024-10-18T17:35:21.507432Z"
    }
   },
   "cell_type": "code",
   "source": "from src.splats.simple_trainer import *",
   "id": "33f348e2d2202664",
   "outputs": [],
   "execution_count": 2
  },
  {
   "metadata": {},
   "cell_type": "code",
   "outputs": [],
   "execution_count": null,
   "source": [
    "# Config objects we can choose between.\n",
    "# Each is a tuple of (CLI description, config object).\n",
    "configs = {\n",
    "    \"default\": (\n",
    "        \"Gaussian splatting training using densification heuristics from the original paper.\",\n",
    "        Config(\n",
    "            strategy=DefaultStrategy(verbose=True),\n",
    "        ),\n",
    "    ),\n",
    "    \"mcmc\": (\n",
    "        \"Gaussian splatting training using densification from the paper '3D Gaussian Splatting as Markov Chain Monte Carlo'.\",\n",
    "        Config(\n",
    "            init_opa=0.5,\n",
    "            init_scale=0.1,\n",
    "            opacity_reg=0.01,\n",
    "            scale_reg=0.01,\n",
    "            strategy=MCMCStrategy(verbose=True),\n",
    "        ),\n",
    "    ),\n",
    "}\n",
    "cfg = tyro.extras.overridable_config_cli(configs)\n",
    "cfg.adjust_steps(cfg.steps_scaler)\n",
    "\n",
    "# try import extra dependencies\n",
    "if cfg.compression == \"png\":\n",
    "    try:\n",
    "        import plas\n",
    "        import torchpq\n",
    "    except:\n",
    "        raise ImportError(\n",
    "            \"To use PNG compression, you need to install \"\n",
    "            \"torchpq (instruction at https://github.com/DeMoriarty/TorchPQ?tab=readme-ov-file#install) \"\n",
    "            \"and plas (via 'pip install git+https://github.com/fraunhoferhhi/PLAS.git') \"\n",
    "        )\n",
    "\n",
    "cli(main, cfg, verbose=True)"
   ],
   "id": "b0754d6ea7f9e3e"
  }
 ],
 "metadata": {
  "kernelspec": {
   "display_name": "Python 3",
   "language": "python",
   "name": "python3"
  },
  "language_info": {
   "codemirror_mode": {
    "name": "ipython",
    "version": 2
   },
   "file_extension": ".py",
   "mimetype": "text/x-python",
   "name": "python",
   "nbconvert_exporter": "python",
   "pygments_lexer": "ipython2",
   "version": "2.7.6"
  }
 },
 "nbformat": 4,
 "nbformat_minor": 5
}
