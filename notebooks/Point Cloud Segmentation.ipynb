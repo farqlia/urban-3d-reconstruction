{
 "cells": [
  {
   "metadata": {},
   "cell_type": "markdown",
   "source": [
    "#### Setup\n",
    "\n",
    "\"birmingham_block_7_subsampled_test.ply\" and \"birmingham_block_7_subsampled_train.ply\" are on disk https://drive.google.com/drive/folders/1NcyotKFRzjLah6urkxNzLXmX8rMpkjkZ\n",
    "\n",
    "\"birmingham_block_6.ply\" you need to download it here https://drive.google.com/drive/folders/1xd6oc0yJFQ74r54zVJCTGypohvv7ajXG\n",
    "\n",
    "btw I subsample points in CloudCompare with minimal distance of 0.2"
   ],
   "id": "c213c3361152c8d9"
  },
  {
   "cell_type": "code",
   "id": "d8517b8155df2a7",
   "metadata": {
    "ExecuteTime": {
     "end_time": "2024-11-26T19:56:17.851057Z",
     "start_time": "2024-11-26T19:56:14.169118Z"
    }
   },
   "source": [
    "import pandas as pd\n",
    "from pyntcloud import PyntCloud\n",
    "import torch\n",
    "import torch.nn as nn\n",
    "from torch.utils.data import Dataset, DataLoader\n",
    "from pathlib import Path\n",
    "import seaborn as sns \n",
    "import numpy as np\n",
    "import pyvista as pv\n",
    "import torch.nn.functional as F\n",
    "import pytorch_lightning as pl\n",
    "import matplotlib.pyplot as plt\n",
    "from lightning.pytorch.loggers import TensorBoardLogger\n",
    "from torchmetrics import Precision, Accuracy, Recall"
   ],
   "outputs": [],
   "execution_count": 1
  },
  {
   "cell_type": "code",
   "id": "f7fae848ec7e029",
   "metadata": {
    "ExecuteTime": {
     "end_time": "2024-11-26T19:56:18.264983Z",
     "start_time": "2024-11-26T19:56:17.855083Z"
    }
   },
   "source": "pt = PyntCloud.from_file('../data/birmingham_blocks/birmingham_block_6.ply')",
   "outputs": [],
   "execution_count": 2
  },
  {
   "cell_type": "code",
   "id": "c56c85ffe8e2770",
   "metadata": {
    "ExecuteTime": {
     "end_time": "2024-11-26T19:56:18.552811Z",
     "start_time": "2024-11-26T19:56:18.505189Z"
    }
   },
   "source": [
    "device = torch.device('cuda' if torch.cuda.is_available() else 'cpu')\n",
    "device"
   ],
   "outputs": [
    {
     "data": {
      "text/plain": [
       "device(type='cuda')"
      ]
     },
     "execution_count": 3,
     "metadata": {},
     "output_type": "execute_result"
    }
   ],
   "execution_count": 3
  },
  {
   "cell_type": "code",
   "id": "ce28bc47ba2c0388",
   "metadata": {
    "ExecuteTime": {
     "end_time": "2024-11-25T18:33:47.638259Z",
     "start_time": "2024-11-25T18:33:47.622286Z"
    }
   },
   "source": [
    "pt.points"
   ],
   "outputs": [
    {
     "data": {
      "text/plain": [
       "                  x           y          z  red  green  blue  class\n",
       "0         437.12500  1255.12500   9.480003  118    155    96      1\n",
       "1         435.84375  1254.18750   9.349998   88    116    76      1\n",
       "2         447.34375  1261.78125  10.750000   48     83    33      1\n",
       "3         447.03125  1260.50000  11.950005  118    155    58      1\n",
       "4         443.56250  1257.87500  10.480003   88    122    43      1\n",
       "...             ...         ...        ...  ...    ...   ...    ...\n",
       "17058908  579.68750  1234.12500  16.610001  191    180   159      2\n",
       "17058909  582.06250  1234.96875  16.770004  190    192   172      2\n",
       "17058910  580.62500  1234.62500  16.900002  208    203   179      2\n",
       "17058911  578.68750  1234.06250  16.880005  104     98    86      2\n",
       "17058912  578.71875  1233.75000  16.300003  132    132   127      2\n",
       "\n",
       "[17058913 rows x 7 columns]"
      ],
      "text/html": [
       "<div>\n",
       "<style scoped>\n",
       "    .dataframe tbody tr th:only-of-type {\n",
       "        vertical-align: middle;\n",
       "    }\n",
       "\n",
       "    .dataframe tbody tr th {\n",
       "        vertical-align: top;\n",
       "    }\n",
       "\n",
       "    .dataframe thead th {\n",
       "        text-align: right;\n",
       "    }\n",
       "</style>\n",
       "<table border=\"1\" class=\"dataframe\">\n",
       "  <thead>\n",
       "    <tr style=\"text-align: right;\">\n",
       "      <th></th>\n",
       "      <th>x</th>\n",
       "      <th>y</th>\n",
       "      <th>z</th>\n",
       "      <th>red</th>\n",
       "      <th>green</th>\n",
       "      <th>blue</th>\n",
       "      <th>class</th>\n",
       "    </tr>\n",
       "  </thead>\n",
       "  <tbody>\n",
       "    <tr>\n",
       "      <th>0</th>\n",
       "      <td>437.12500</td>\n",
       "      <td>1255.12500</td>\n",
       "      <td>9.480003</td>\n",
       "      <td>118</td>\n",
       "      <td>155</td>\n",
       "      <td>96</td>\n",
       "      <td>1</td>\n",
       "    </tr>\n",
       "    <tr>\n",
       "      <th>1</th>\n",
       "      <td>435.84375</td>\n",
       "      <td>1254.18750</td>\n",
       "      <td>9.349998</td>\n",
       "      <td>88</td>\n",
       "      <td>116</td>\n",
       "      <td>76</td>\n",
       "      <td>1</td>\n",
       "    </tr>\n",
       "    <tr>\n",
       "      <th>2</th>\n",
       "      <td>447.34375</td>\n",
       "      <td>1261.78125</td>\n",
       "      <td>10.750000</td>\n",
       "      <td>48</td>\n",
       "      <td>83</td>\n",
       "      <td>33</td>\n",
       "      <td>1</td>\n",
       "    </tr>\n",
       "    <tr>\n",
       "      <th>3</th>\n",
       "      <td>447.03125</td>\n",
       "      <td>1260.50000</td>\n",
       "      <td>11.950005</td>\n",
       "      <td>118</td>\n",
       "      <td>155</td>\n",
       "      <td>58</td>\n",
       "      <td>1</td>\n",
       "    </tr>\n",
       "    <tr>\n",
       "      <th>4</th>\n",
       "      <td>443.56250</td>\n",
       "      <td>1257.87500</td>\n",
       "      <td>10.480003</td>\n",
       "      <td>88</td>\n",
       "      <td>122</td>\n",
       "      <td>43</td>\n",
       "      <td>1</td>\n",
       "    </tr>\n",
       "    <tr>\n",
       "      <th>...</th>\n",
       "      <td>...</td>\n",
       "      <td>...</td>\n",
       "      <td>...</td>\n",
       "      <td>...</td>\n",
       "      <td>...</td>\n",
       "      <td>...</td>\n",
       "      <td>...</td>\n",
       "    </tr>\n",
       "    <tr>\n",
       "      <th>17058908</th>\n",
       "      <td>579.68750</td>\n",
       "      <td>1234.12500</td>\n",
       "      <td>16.610001</td>\n",
       "      <td>191</td>\n",
       "      <td>180</td>\n",
       "      <td>159</td>\n",
       "      <td>2</td>\n",
       "    </tr>\n",
       "    <tr>\n",
       "      <th>17058909</th>\n",
       "      <td>582.06250</td>\n",
       "      <td>1234.96875</td>\n",
       "      <td>16.770004</td>\n",
       "      <td>190</td>\n",
       "      <td>192</td>\n",
       "      <td>172</td>\n",
       "      <td>2</td>\n",
       "    </tr>\n",
       "    <tr>\n",
       "      <th>17058910</th>\n",
       "      <td>580.62500</td>\n",
       "      <td>1234.62500</td>\n",
       "      <td>16.900002</td>\n",
       "      <td>208</td>\n",
       "      <td>203</td>\n",
       "      <td>179</td>\n",
       "      <td>2</td>\n",
       "    </tr>\n",
       "    <tr>\n",
       "      <th>17058911</th>\n",
       "      <td>578.68750</td>\n",
       "      <td>1234.06250</td>\n",
       "      <td>16.880005</td>\n",
       "      <td>104</td>\n",
       "      <td>98</td>\n",
       "      <td>86</td>\n",
       "      <td>2</td>\n",
       "    </tr>\n",
       "    <tr>\n",
       "      <th>17058912</th>\n",
       "      <td>578.71875</td>\n",
       "      <td>1233.75000</td>\n",
       "      <td>16.300003</td>\n",
       "      <td>132</td>\n",
       "      <td>132</td>\n",
       "      <td>127</td>\n",
       "      <td>2</td>\n",
       "    </tr>\n",
       "  </tbody>\n",
       "</table>\n",
       "<p>17058913 rows × 7 columns</p>\n",
       "</div>"
      ]
     },
     "execution_count": 5,
     "metadata": {},
     "output_type": "execute_result"
    }
   ],
   "execution_count": 5
  },
  {
   "cell_type": "markdown",
   "id": "b93afa6e9f19b6d7",
   "metadata": {},
   "source": [
    "#### Points normalization\n",
    "\n",
    "*Min-max*: this would require outliers removal but leaves the original distribution in the same shape\n",
    "\n",
    "*Z-score*: the output range is not limited \n",
    "\n",
    "I think that *min-max* is more appropriate "
   ]
  },
  {
   "cell_type": "code",
   "id": "20331fcc8be8758d",
   "metadata": {
    "ExecuteTime": {
     "end_time": "2024-11-26T19:56:25.921035Z",
     "start_time": "2024-11-26T19:56:25.686565Z"
    }
   },
   "source": [
    "coords = pt.points[['x', 'y', 'z']].values\n",
    "\n",
    "\"\"\"x = (coords[:, 0] - np.mean(coords[:, 0])) / np.std(coords[:, 0])\n",
    "y = (coords[:, 1] - np.mean(coords[:, 1])) / np.std(coords[:, 1])\n",
    "z = (coords[:, 2] - np.mean(coords[:, 2])) / np.std(coords[:, 2])\n",
    "\"\"\"\n",
    "\n",
    "x = (coords[:, 0] - np.min(coords[:, 0])) / (np.max(coords[:, 0]) - np.min(coords[:, 0]))\n",
    "y = (coords[:, 1] - np.min(coords[:, 1])) / (np.max(coords[:, 1]) - np.min(coords[:, 1]))\n",
    "z = (coords[:, 2] - np.min(coords[:, 2])) / (np.max(coords[:, 2]) - np.min(coords[:, 2]))\n",
    "\n",
    "normalized_cloud = np.column_stack([x, y, z])"
   ],
   "outputs": [],
   "execution_count": 4
  },
  {
   "metadata": {
    "ExecuteTime": {
     "end_time": "2024-11-25T18:30:22.548286Z",
     "start_time": "2024-11-25T18:30:22.026080Z"
    }
   },
   "cell_type": "code",
   "source": [
    "point_cloud = pv.PolyData(normalized_cloud)\n",
    "point_cloud.cell_data['colors'] = pt.points[['red', 'green', 'blue']].values"
   ],
   "id": "1ac76ed3c67cb7e6",
   "outputs": [],
   "execution_count": 15
  },
  {
   "metadata": {
    "ExecuteTime": {
     "end_time": "2024-11-25T19:03:25.724659Z",
     "start_time": "2024-11-25T19:03:23.945539Z"
    }
   },
   "cell_type": "code",
   "source": [
    "# Viz works better outside of notebook environment\n",
    "plotter = pv.Plotter(notebook=True)\n",
    "plotter.add_mesh(point_cloud, point_size=3, render_points_as_spheres=True,\n",
    "                 scalars='colors', lighting=False, rgb=True, preference='cell')\n",
    "plotter.show()"
   ],
   "id": "eb6ae8a2d2a57956",
   "outputs": [
    {
     "ename": "NameError",
     "evalue": "name 'point_cloud' is not defined",
     "output_type": "error",
     "traceback": [
      "\u001B[1;31m---------------------------------------------------------------------------\u001B[0m",
      "\u001B[1;31mNameError\u001B[0m                                 Traceback (most recent call last)",
      "Cell \u001B[1;32mIn[19], line 3\u001B[0m\n\u001B[0;32m      1\u001B[0m \u001B[38;5;66;03m# Viz works better outside of notebook environment\u001B[39;00m\n\u001B[0;32m      2\u001B[0m plotter \u001B[38;5;241m=\u001B[39m pv\u001B[38;5;241m.\u001B[39mPlotter(notebook\u001B[38;5;241m=\u001B[39m\u001B[38;5;28;01mTrue\u001B[39;00m)\n\u001B[1;32m----> 3\u001B[0m plotter\u001B[38;5;241m.\u001B[39madd_mesh(\u001B[43mpoint_cloud\u001B[49m, point_size\u001B[38;5;241m=\u001B[39m\u001B[38;5;241m3\u001B[39m, render_points_as_spheres\u001B[38;5;241m=\u001B[39m\u001B[38;5;28;01mTrue\u001B[39;00m,\n\u001B[0;32m      4\u001B[0m                  scalars\u001B[38;5;241m=\u001B[39m\u001B[38;5;124m'\u001B[39m\u001B[38;5;124mcolors\u001B[39m\u001B[38;5;124m'\u001B[39m, lighting\u001B[38;5;241m=\u001B[39m\u001B[38;5;28;01mFalse\u001B[39;00m, rgb\u001B[38;5;241m=\u001B[39m\u001B[38;5;28;01mTrue\u001B[39;00m, preference\u001B[38;5;241m=\u001B[39m\u001B[38;5;124m'\u001B[39m\u001B[38;5;124mcell\u001B[39m\u001B[38;5;124m'\u001B[39m)\n\u001B[0;32m      5\u001B[0m plotter\u001B[38;5;241m.\u001B[39mshow()\n",
      "\u001B[1;31mNameError\u001B[0m: name 'point_cloud' is not defined"
     ]
    }
   ],
   "execution_count": 19
  },
  {
   "cell_type": "code",
   "id": "513e497900f99470",
   "metadata": {
    "ExecuteTime": {
     "end_time": "2024-11-26T19:56:28.618292Z",
     "start_time": "2024-11-26T19:56:28.345625Z"
    }
   },
   "source": "classes_count = pd.DataFrame(pt.points['class']).value_counts().reset_index().set_index('class')",
   "outputs": [],
   "execution_count": 5
  },
  {
   "metadata": {
    "ExecuteTime": {
     "end_time": "2024-11-26T19:56:30.269639Z",
     "start_time": "2024-11-26T19:56:30.254015Z"
    }
   },
   "cell_type": "code",
   "source": "classes_count",
   "id": "e898a4dc93491f57",
   "outputs": [
    {
     "data": {
      "text/plain": [
       "         count\n",
       "class         \n",
       "2      5450877\n",
       "1      5238617\n",
       "0      3648426\n",
       "7      1349248\n",
       "9       327182\n",
       "3       295100\n",
       "8       274296\n",
       "5       255924\n",
       "10      153411\n",
       "12       65832"
      ],
      "text/html": [
       "<div>\n",
       "<style scoped>\n",
       "    .dataframe tbody tr th:only-of-type {\n",
       "        vertical-align: middle;\n",
       "    }\n",
       "\n",
       "    .dataframe tbody tr th {\n",
       "        vertical-align: top;\n",
       "    }\n",
       "\n",
       "    .dataframe thead th {\n",
       "        text-align: right;\n",
       "    }\n",
       "</style>\n",
       "<table border=\"1\" class=\"dataframe\">\n",
       "  <thead>\n",
       "    <tr style=\"text-align: right;\">\n",
       "      <th></th>\n",
       "      <th>count</th>\n",
       "    </tr>\n",
       "    <tr>\n",
       "      <th>class</th>\n",
       "      <th></th>\n",
       "    </tr>\n",
       "  </thead>\n",
       "  <tbody>\n",
       "    <tr>\n",
       "      <th>2</th>\n",
       "      <td>5450877</td>\n",
       "    </tr>\n",
       "    <tr>\n",
       "      <th>1</th>\n",
       "      <td>5238617</td>\n",
       "    </tr>\n",
       "    <tr>\n",
       "      <th>0</th>\n",
       "      <td>3648426</td>\n",
       "    </tr>\n",
       "    <tr>\n",
       "      <th>7</th>\n",
       "      <td>1349248</td>\n",
       "    </tr>\n",
       "    <tr>\n",
       "      <th>9</th>\n",
       "      <td>327182</td>\n",
       "    </tr>\n",
       "    <tr>\n",
       "      <th>3</th>\n",
       "      <td>295100</td>\n",
       "    </tr>\n",
       "    <tr>\n",
       "      <th>8</th>\n",
       "      <td>274296</td>\n",
       "    </tr>\n",
       "    <tr>\n",
       "      <th>5</th>\n",
       "      <td>255924</td>\n",
       "    </tr>\n",
       "    <tr>\n",
       "      <th>10</th>\n",
       "      <td>153411</td>\n",
       "    </tr>\n",
       "    <tr>\n",
       "      <th>12</th>\n",
       "      <td>65832</td>\n",
       "    </tr>\n",
       "  </tbody>\n",
       "</table>\n",
       "</div>"
      ]
     },
     "execution_count": 6,
     "metadata": {},
     "output_type": "execute_result"
    }
   ],
   "execution_count": 6
  },
  {
   "cell_type": "code",
   "id": "569e11782f6e1aba",
   "metadata": {
    "ExecuteTime": {
     "end_time": "2024-11-25T18:30:28.629459Z",
     "start_time": "2024-11-25T18:30:28.603830Z"
    }
   },
   "source": [
    "classes_df = pd.DataFrame.from_dict({'class': np.arange(13), 'name': ['ground', 'vegetation', 'building', 'wall', 'bridge', \n",
    "    'parking', 'rail', 'traffic road', 'street furniture', 'car', 'footpath', 'bike', 'water']}).set_index('class')\n",
    "classes_df"
   ],
   "outputs": [
    {
     "data": {
      "text/plain": [
       "                   name\n",
       "class                  \n",
       "0                ground\n",
       "1            vegetation\n",
       "2              building\n",
       "3                  wall\n",
       "4                bridge\n",
       "5               parking\n",
       "6                  rail\n",
       "7          traffic road\n",
       "8      street furniture\n",
       "9                   car\n",
       "10             footpath\n",
       "11                 bike\n",
       "12                water"
      ],
      "text/html": [
       "<div>\n",
       "<style scoped>\n",
       "    .dataframe tbody tr th:only-of-type {\n",
       "        vertical-align: middle;\n",
       "    }\n",
       "\n",
       "    .dataframe tbody tr th {\n",
       "        vertical-align: top;\n",
       "    }\n",
       "\n",
       "    .dataframe thead th {\n",
       "        text-align: right;\n",
       "    }\n",
       "</style>\n",
       "<table border=\"1\" class=\"dataframe\">\n",
       "  <thead>\n",
       "    <tr style=\"text-align: right;\">\n",
       "      <th></th>\n",
       "      <th>name</th>\n",
       "    </tr>\n",
       "    <tr>\n",
       "      <th>class</th>\n",
       "      <th></th>\n",
       "    </tr>\n",
       "  </thead>\n",
       "  <tbody>\n",
       "    <tr>\n",
       "      <th>0</th>\n",
       "      <td>ground</td>\n",
       "    </tr>\n",
       "    <tr>\n",
       "      <th>1</th>\n",
       "      <td>vegetation</td>\n",
       "    </tr>\n",
       "    <tr>\n",
       "      <th>2</th>\n",
       "      <td>building</td>\n",
       "    </tr>\n",
       "    <tr>\n",
       "      <th>3</th>\n",
       "      <td>wall</td>\n",
       "    </tr>\n",
       "    <tr>\n",
       "      <th>4</th>\n",
       "      <td>bridge</td>\n",
       "    </tr>\n",
       "    <tr>\n",
       "      <th>5</th>\n",
       "      <td>parking</td>\n",
       "    </tr>\n",
       "    <tr>\n",
       "      <th>6</th>\n",
       "      <td>rail</td>\n",
       "    </tr>\n",
       "    <tr>\n",
       "      <th>7</th>\n",
       "      <td>traffic road</td>\n",
       "    </tr>\n",
       "    <tr>\n",
       "      <th>8</th>\n",
       "      <td>street furniture</td>\n",
       "    </tr>\n",
       "    <tr>\n",
       "      <th>9</th>\n",
       "      <td>car</td>\n",
       "    </tr>\n",
       "    <tr>\n",
       "      <th>10</th>\n",
       "      <td>footpath</td>\n",
       "    </tr>\n",
       "    <tr>\n",
       "      <th>11</th>\n",
       "      <td>bike</td>\n",
       "    </tr>\n",
       "    <tr>\n",
       "      <th>12</th>\n",
       "      <td>water</td>\n",
       "    </tr>\n",
       "  </tbody>\n",
       "</table>\n",
       "</div>"
      ]
     },
     "execution_count": 19,
     "metadata": {},
     "output_type": "execute_result"
    }
   ],
   "execution_count": 19
  },
  {
   "cell_type": "code",
   "id": "6d1390b353e1980e",
   "metadata": {
    "ExecuteTime": {
     "end_time": "2024-11-25T18:30:29.645564Z",
     "start_time": "2024-11-25T18:30:29.629472Z"
    }
   },
   "source": "counts = classes_df.join(classes_count).fillna(0)",
   "outputs": [],
   "execution_count": 20
  },
  {
   "metadata": {},
   "cell_type": "markdown",
   "source": [
    "Observations:\n",
    "- some classes are not present at all\n",
    "- classes are imbalanced\n",
    "\n",
    "Idea: \n",
    "- Examine different clouds and compare counts of classes between them "
   ],
   "id": "dac3ca175c90363c"
  },
  {
   "metadata": {
    "ExecuteTime": {
     "end_time": "2024-11-25T18:30:31.295405Z",
     "start_time": "2024-11-25T18:30:31.059903Z"
    }
   },
   "cell_type": "code",
   "source": "sns.barplot(counts, y='name', x='count')",
   "id": "af5334d95281a2bd",
   "outputs": [
    {
     "data": {
      "text/plain": [
       "<Axes: xlabel='count', ylabel='name'>"
      ]
     },
     "execution_count": 21,
     "metadata": {},
     "output_type": "execute_result"
    },
    {
     "data": {
      "text/plain": [
       "<Figure size 640x480 with 1 Axes>"
      ],
      "image/png": "[encoded data removed]"
     },
     "metadata": {},
     "output_type": "display_data"
    }
   ],
   "execution_count": 21
  },
  {
   "metadata": {},
   "cell_type": "markdown",
   "source": "#### Point Net Implementation",
   "id": "bba24a6e460b3705"
  },
  {
   "metadata": {
    "ExecuteTime": {
     "end_time": "2024-10-26T19:24:34.333883Z",
     "start_time": "2024-10-26T19:24:34.088128Z"
    }
   },
   "cell_type": "code",
   "source": [
    "class Tnet(nn.Module):\n",
    "    \n",
    "   def __init__(self, k=3):\n",
    "      super().__init__()\n",
    "      self.k=k\n",
    "      self.conv1 = nn.Conv1d(k,64,1)\n",
    "      self.conv2 = nn.Conv1d(64,128,1)\n",
    "      self.conv3 = nn.Conv1d(128,1024,1)\n",
    "      self.fc1 = nn.Linear(1024,512)\n",
    "      self.fc2 = nn.Linear(512,256)\n",
    "      self.fc3 = nn.Linear(256,k*k)\n",
    "\n",
    "      self.bn1 = nn.BatchNorm1d(64)\n",
    "      self.bn2 = nn.BatchNorm1d(128)\n",
    "      self.bn3 = nn.BatchNorm1d(1024)\n",
    "      self.bn4 = nn.BatchNorm1d(512)\n",
    "      self.bn5 = nn.BatchNorm1d(256)\n",
    "       \n",
    "   def forward(self, input):\n",
    "        # input.shape == (bs, n, 3)\n",
    "        bs = input.size(0)\n",
    "        xb = F.relu(self.bn1(self.conv1(input)))\n",
    "        xb = F.relu(self.bn2(self.conv2(xb)))\n",
    "        xb = F.relu(self.bn3(self.conv3(xb)))\n",
    "        pool = nn.MaxPool1d(xb.size(-1))(xb)\n",
    "        flat = nn.Flatten()(pool) # (bs, 1024)\n",
    "        xb = F.relu(self.bn4(self.fc1(flat))) # (bs, 512)\n",
    "        xb = F.relu(self.bn5(self.fc2(xb))) # (bs, 256)\n",
    "        \n",
    "        #initialize as identity\n",
    "        init = torch.eye(self.k, requires_grad=True).repeat(bs, 1, 1)\n",
    "        if xb.is_cuda:\n",
    "            init=init.cuda()\n",
    "        matrix = self.fc3(xb).view(-1, self.k, self.k) + init\n",
    "        return matrix\n",
    "      \n",
    "      \n",
    "t_net = Tnet(k=3)\n",
    "matrix_3x3 = t_net.forward(torch.randn(10, 1024, 3).transpose(2, 1))\n",
    "matrix_3x3.shape"
   ],
   "id": "2a08ee96dcc860e3",
   "outputs": [
    {
     "data": {
      "text/plain": [
       "torch.Size([10, 3, 3])"
      ]
     },
     "execution_count": 14,
     "metadata": {},
     "output_type": "execute_result"
    }
   ],
   "execution_count": 14
  },
  {
   "metadata": {
    "ExecuteTime": {
     "end_time": "2024-10-26T19:24:34.833775Z",
     "start_time": "2024-10-26T19:24:34.365905Z"
    }
   },
   "cell_type": "code",
   "source": [
    "class Transform(nn.Module):\n",
    "   def __init__(self):\n",
    "        super().__init__()\n",
    "        self.input_transform = Tnet(k=3)\n",
    "        self.feature_transform = Tnet(k=64)\n",
    "        self.conv1 = nn.Conv1d(3,64,1)\n",
    "        self.conv2 = nn.Conv1d(64,128,1)\n",
    "        self.conv3 = nn.Conv1d(128,1024,1)\n",
    "       \n",
    "\n",
    "        self.bn1 = nn.BatchNorm1d(64)\n",
    "        self.bn2 = nn.BatchNorm1d(128)\n",
    "        self.bn3 = nn.BatchNorm1d(1024)\n",
    "       \n",
    "   def forward(self, input):\n",
    "        matrix3x3 = self.input_transform(input)\n",
    "        # batch matrix multiplication\n",
    "        xb = torch.bmm(torch.transpose(input,1,2), matrix3x3).transpose(1,2) # why transpose?\n",
    "\n",
    "        xb = F.relu(self.bn1(self.conv1(xb)))\n",
    "\n",
    "        matrix64x64 = self.feature_transform(xb)\n",
    "        xb = torch.bmm(torch.transpose(xb,1,2), matrix64x64).transpose(1,2)\n",
    "\n",
    "        xb = F.relu(self.bn2(self.conv2(xb)))\n",
    "        xb = self.bn3(self.conv3(xb))\n",
    "        xb = nn.MaxPool1d(xb.size(-1))(xb) # global feature (bs, 1024, 1?)\n",
    "        output = nn.Flatten()(xb)\n",
    "        return output, matrix3x3, matrix64x64\n",
    "   \n",
    "transform_net = Transform()\n",
    "out, m3x3, m64x64 = transform_net.forward(torch.randn(10, 1024, 3).transpose(2, 1))\n",
    "print(out.shape)"
   ],
   "id": "f5c187b20321cbe2",
   "outputs": [
    {
     "name": "stdout",
     "output_type": "stream",
     "text": [
      "torch.Size([10, 1024])\n"
     ]
    }
   ],
   "execution_count": 15
  },
  {
   "metadata": {
    "ExecuteTime": {
     "end_time": "2024-10-26T19:24:34.912032Z",
     "start_time": "2024-10-26T19:24:34.898465Z"
    }
   },
   "cell_type": "code",
   "source": [
    "mat = torch.randn(10, 1024, 3)\n",
    "print(mat[0, 0])\n",
    "pooling_result = nn.MaxPool1d(3)(mat)\n",
    "print(pooling_result.shape)"
   ],
   "id": "bc5c03a890e9b2c3",
   "outputs": [
    {
     "name": "stdout",
     "output_type": "stream",
     "text": [
      "tensor([-0.2934,  1.4479, -0.4822])\n",
      "torch.Size([10, 1024, 1])\n"
     ]
    }
   ],
   "execution_count": 16
  },
  {
   "metadata": {
    "ExecuteTime": {
     "end_time": "2024-10-26T19:24:34.989559Z",
     "start_time": "2024-10-26T19:24:34.975556Z"
    }
   },
   "cell_type": "code",
   "source": "nn.Flatten()(pooling_result).shape",
   "id": "a3cec9939c5ee9a8",
   "outputs": [
    {
     "data": {
      "text/plain": [
       "torch.Size([10, 1024])"
      ]
     },
     "execution_count": 17,
     "metadata": {},
     "output_type": "execute_result"
    }
   ],
   "execution_count": 17
  },
  {
   "cell_type": "code",
   "id": "29c7ecb2c433a42e",
   "metadata": {
    "ExecuteTime": {
     "end_time": "2024-10-26T19:24:35.082853Z",
     "start_time": "2024-10-26T19:24:35.054852Z"
    }
   },
   "source": [
    "class PointNetClassifier(pl.LightningModule):\n",
    "    def __init__(self, classes = 10):\n",
    "        super().__init__()\n",
    "        self.transform = Transform()\n",
    "        self.fc1 = nn.Linear(1024, 512)\n",
    "        self.fc2 = nn.Linear(512, 256)\n",
    "        self.fc3 = nn.Linear(256, classes)\n",
    "        \n",
    "        self.bn1 = nn.BatchNorm1d(512)\n",
    "        self.bn2 = nn.BatchNorm1d(256)\n",
    "        self.dropout = nn.Dropout(p=0.3)\n",
    "\n",
    "    def forward(self, input):\n",
    "        xb, matrix3x3, matrix64x64 = self.transform(input)\n",
    "        xb = F.relu(self.bn1(self.fc1(xb)))\n",
    "        xb = F.relu(self.bn2(self.dropout(self.fc2(xb))))\n",
    "        output = self.fc3(xb)\n",
    "        return output, matrix3x3, matrix64x64\n",
    "    \n",
    "    def training_step(self, batch, batch_idx):\n",
    "        x, y = batch\n",
    "        predictions, matrix3x3, matrix64x64 = self(x)\n",
    "        loss = F.cross_entropy(predictions, y)\n",
    "        self.log('train_loss', loss, prog_bar=True, sync_dist=True, on_epoch=True)\n",
    "        return {'loss': loss}\n",
    "\n",
    "    def validation_step(self, batch, batch_idx):\n",
    "        x, y = batch\n",
    "        predictions, matrix3x3, matrix64x64 = self(x)\n",
    "        loss = F.cross_entropy(predictions, y)\n",
    "        self.log('val_loss', loss, prog_bar=True, sync_dist=True, on_epoch=True)\n",
    "        return {'val_loss': loss}\n",
    "\n",
    "    def predict_step(self, batch, batch_idx, dataloader_idx=0):\n",
    "        x, y = batch\n",
    "        predictions, matrix3x3, matrix64x64 = self(x)\n",
    "        predicted_labels = torch.argmax(predictions, dim=-1)\n",
    "        return predicted_labels\n",
    "\n",
    "    def configure_optimizers(self):\n",
    "        optimizer = torch.optim.Adam(self.parameters(), lr=1e-3)\n",
    "        return optimizer"
   ],
   "outputs": [],
   "execution_count": 18
  },
  {
   "cell_type": "markdown",
   "id": "609cb11fa2084881",
   "metadata": {},
   "source": [
    "#### Steps\n",
    "\n",
    "1. Dataset that reads a points cloud(s)\n",
    "2. Transformations: normalization, rotation?, ... \n",
    "3. Subsampling point cloud to create 'batch-cloud' "
   ]
  },
  {
   "metadata": {
    "ExecuteTime": {
     "end_time": "2024-10-26T19:24:35.581270Z",
     "start_time": "2024-10-26T19:24:35.148096Z"
    }
   },
   "cell_type": "code",
   "source": [
    "point_net = PointNetClassifier()\n",
    "logits, m3x3, m64x64 = point_net.forward(torch.randn(10, 1024, 3).transpose(2, 1))\n",
    "logits.shape"
   ],
   "id": "3c8f52f779be7c33",
   "outputs": [
    {
     "data": {
      "text/plain": [
       "torch.Size([10, 10])"
      ]
     },
     "execution_count": 19,
     "metadata": {},
     "output_type": "execute_result"
    }
   ],
   "execution_count": 19
  },
  {
   "metadata": {
    "ExecuteTime": {
     "end_time": "2024-10-26T19:24:35.659445Z",
     "start_time": "2024-10-26T19:24:35.646320Z"
    }
   },
   "cell_type": "code",
   "source": [
    "def min_max_standardize(coords):\n",
    "    x = (coords.loc[:, 'x'] - np.min(coords.loc[:, 'x'])) / (np.max(coords.loc[:, 'x']) - np.min(coords.loc[:, 'x']))\n",
    "    y = (coords.loc[:, 'y'] - np.min(coords.loc[:, 'y'])) / (np.max(coords.loc[:, 'y']) - np.min(coords.loc[:, 'y']))\n",
    "    z = (coords.loc[:, 'z'] - np.min(coords.loc[:, 'z'])) / (np.max(coords.loc[:, 'z']) - np.min(coords.loc[:, 'z']))\n",
    "    \n",
    "    return x, y, z"
   ],
   "id": "20e87df41aecb699",
   "outputs": [],
   "execution_count": 20
  },
  {
   "metadata": {
    "ExecuteTime": {
     "end_time": "2024-10-26T19:24:35.768114Z",
     "start_time": "2024-10-26T19:24:35.743504Z"
    }
   },
   "cell_type": "code",
   "source": [
    "class PointSampler: # Smarter way to sample point cloud?\n",
    "    \n",
    "    def __init__(self, subsample_size):\n",
    "        self.subsample_size = subsample_size\n",
    "    \n",
    "    def __call__(self, point_cloud):\n",
    "        indices = np.random.choice(point_cloud.index.values, size=self.subsample_size, replace=False)\n",
    "        sampled_points = point_cloud.loc[indices]\n",
    "        return sampled_points\n",
    "    \n",
    "\n",
    "class MockPointSampler:\n",
    "    \n",
    "    def __call__(self, point_cloud):\n",
    "        return point_cloud"
   ],
   "id": "f1aac469c7fafac9",
   "outputs": [],
   "execution_count": 21
  },
  {
   "cell_type": "code",
   "id": "9345ec9f7b02ebf6",
   "metadata": {
    "ExecuteTime": {
     "end_time": "2024-10-26T19:24:35.876918Z",
     "start_time": "2024-10-26T19:24:35.850119Z"
    }
   },
   "source": [
    "# this is broken a bit\n",
    "class PointCloudClassificationDataset(Dataset):\n",
    "    \n",
    "    def __init__(self, point_cloud_path, subsample_size, point_sampler, classes_df):\n",
    "        self.subsample_size = subsample_size\n",
    "        self.point_sampler = point_sampler\n",
    "        self.pt = PyntCloud.from_file(point_cloud_path)\n",
    "        x, y, z = min_max_standardize(self.pt.points[['x', 'y', 'z']])\n",
    "        \n",
    "        self.pt.points['x_norm'] = x \n",
    "        self.pt.points['y_norm'] = y\n",
    "        self.pt.points['z_norm'] = z\n",
    "\n",
    "        # select classes with non-zero count\n",
    "        counts = classes_df.join(classes_count).fillna(0)\n",
    "        self.classes = counts[counts['count'] > 0].reset_index(drop=True)\n",
    "        \n",
    "    def __len__(self):\n",
    "        return self.subsample_size\n",
    "    \n",
    "    def __getitem__(self, idx):\n",
    "        chosen_class = idx % len(self.classes)\n",
    "        sampled_cloud = self.point_sampler(self.pt.points.loc[self.pt.points['class'] == chosen_class, \n",
    "                ['x_norm', 'y_norm', 'z_norm']])\n",
    "        sampled_points = torch.tensor(sampled_cloud[['x_norm', 'y_norm', 'z_norm']].values, device=device)\n",
    "        label = torch.scalar_tensor(chosen_class, device=device, dtype=torch.long)\n",
    "        return sampled_points.T, label "
   ],
   "outputs": [],
   "execution_count": 22
  },
  {
   "metadata": {},
   "cell_type": "markdown",
   "source": "### Segmentation network",
   "id": "958db8af15264812"
  },
  {
   "metadata": {
    "ExecuteTime": {
     "end_time": "2024-10-26T19:24:36.454371Z",
     "start_time": "2024-10-26T19:24:36.033785Z"
    }
   },
   "cell_type": "code",
   "source": [
    "class Transform_2(nn.Module):\n",
    "   def __init__(self):\n",
    "        super().__init__()\n",
    "        self.input_transform = Tnet(k=3)\n",
    "        self.feature_transform = Tnet(k=64)\n",
    "        self.conv1 = nn.Conv1d(3,64,1)\n",
    "        self.conv2 = nn.Conv1d(64,128,1)\n",
    "        self.conv3 = nn.Conv1d(128,1024,1)\n",
    "       \n",
    "        self.bn1 = nn.BatchNorm1d(64)\n",
    "        self.bn2 = nn.BatchNorm1d(128)\n",
    "        self.bn3 = nn.BatchNorm1d(1024)\n",
    "       \n",
    "   def forward(self, input):\n",
    "        matrix3x3 = self.input_transform(input)\n",
    "        # batch matrix multiplication\n",
    "        xb = torch.bmm(torch.transpose(input, 1, 2), matrix3x3).transpose(1, 2) \n",
    "\n",
    "        xb = F.relu(self.bn1(self.conv1(xb)))\n",
    "\n",
    "        matrix64x64 = self.feature_transform(xb)\n",
    "        xb = torch.bmm(torch.transpose(xb, 1, 2), matrix64x64).transpose(1, 2) \n",
    "        \n",
    "        # compute global features\n",
    "        global_xb = F.relu(self.bn2(self.conv2(xb)))\n",
    "        global_xb = self.bn3(self.conv3(global_xb))\n",
    "        global_xb = nn.MaxPool1d(global_xb.size(-1))(global_xb).transpose(2, 1) # global feature (bs, 1024, 1?)\n",
    "        \n",
    "        return xb, global_xb, matrix3x3, matrix64x64\n",
    "   \n",
    "transform_net_2 = Transform_2()\n",
    "x, g_x, _, _ = transform_net_2.forward(torch.randn(10, 1024, 3).transpose(2, 1))\n",
    "x.shape, g_x.shape"
   ],
   "id": "733cb196575b227",
   "outputs": [
    {
     "data": {
      "text/plain": [
       "(torch.Size([10, 64, 1024]), torch.Size([10, 1, 1024]))"
      ]
     },
     "execution_count": 23,
     "metadata": {},
     "output_type": "execute_result"
    }
   ],
   "execution_count": 23
  },
  {
   "metadata": {
    "ExecuteTime": {
     "end_time": "2024-10-26T19:24:36.565861Z",
     "start_time": "2024-10-26T19:24:36.501355Z"
    }
   },
   "cell_type": "code",
   "source": [
    "g = torch.repeat_interleave(g_x, 1024, dim=1)\n",
    "g.shape"
   ],
   "id": "b920c3d0ad75d18b",
   "outputs": [
    {
     "data": {
      "text/plain": [
       "torch.Size([10, 1024, 1024])"
      ]
     },
     "execution_count": 24,
     "metadata": {},
     "output_type": "execute_result"
    }
   ],
   "execution_count": 24
  },
  {
   "metadata": {
    "ExecuteTime": {
     "end_time": "2024-10-26T19:24:36.659327Z",
     "start_time": "2024-10-26T19:24:36.642160Z"
    }
   },
   "cell_type": "code",
   "source": "x.transpose(1, 2).shape",
   "id": "148e3c7e791801ba",
   "outputs": [
    {
     "data": {
      "text/plain": [
       "torch.Size([10, 1024, 64])"
      ]
     },
     "execution_count": 25,
     "metadata": {},
     "output_type": "execute_result"
    }
   ],
   "execution_count": 25
  },
  {
   "metadata": {
    "ExecuteTime": {
     "end_time": "2024-10-26T19:24:36.796399Z",
     "start_time": "2024-10-26T19:24:36.722631Z"
    }
   },
   "cell_type": "code",
   "source": [
    "# this is how global and local features are concatenated\n",
    "torch.concat([x.transpose(1, 2), g], dim=2).shape"
   ],
   "id": "5d31e7654acab852",
   "outputs": [
    {
     "data": {
      "text/plain": [
       "torch.Size([10, 1024, 1088])"
      ]
     },
     "execution_count": 26,
     "metadata": {},
     "output_type": "execute_result"
    }
   ],
   "execution_count": 26
  },
  {
   "metadata": {
    "ExecuteTime": {
     "end_time": "2024-10-26T20:09:32.755280Z",
     "start_time": "2024-10-26T20:09:32.740863Z"
    }
   },
   "cell_type": "code",
   "source": [
    "def segmentation_loss(outputs, labels, m3x3, m64x64, alpha=0.001):\n",
    "    '''\n",
    "    Cross entropy loss plus regularization for transformation matrices\n",
    "    '''\n",
    "    criterion = torch.nn.CrossEntropyLoss()\n",
    "    bs=outputs.size(0)\n",
    "    id3x3 = torch.eye(3, requires_grad=True).repeat(bs,1,1)\n",
    "    id64x64 = torch.eye(64, requires_grad=True).repeat(bs,1,1)\n",
    "    if outputs.is_cuda:\n",
    "        id3x3=id3x3.cuda()\n",
    "        id64x64=id64x64.cuda()\n",
    "    diff3x3 = id3x3-torch.bmm(m3x3,m3x3.transpose(1,2))\n",
    "    diff64x64 = id64x64-torch.bmm(m64x64,m64x64.transpose(1,2))\n",
    "    return criterion(outputs, labels) + alpha * (torch.norm(diff3x3)+torch.norm(diff64x64)) / float(bs)\n",
    "    "
   ],
   "id": "59919373e62c9572",
   "outputs": [],
   "execution_count": 50
  },
  {
   "metadata": {
    "ExecuteTime": {
     "end_time": "2024-10-26T20:10:50.036119Z",
     "start_time": "2024-10-26T20:10:50.004899Z"
    }
   },
   "cell_type": "code",
   "source": [
    "class PointNetSegmentor(pl.LightningModule):\n",
    "    def __init__(self, classes = 10):\n",
    "        super().__init__()\n",
    "        self.precision = Precision(task=\"multiclass\", average='macro', num_classes=classes)\n",
    "        self.recall = Recall(task=\"multiclass\", average='macro', num_classes=classes)\n",
    "        self.accuracy = Accuracy(task=\"multiclass\", num_classes=classes)\n",
    "        self.transform = Transform_2()\n",
    "        self.conv1 = nn.Conv1d(1088, 512, 1)\n",
    "        self.conv2 = nn.Conv1d(512, 256, 1)\n",
    "        self.conv3 = nn.Conv1d(256, 128, 1)\n",
    "        self.conv4 = nn.Conv1d(128, classes, 1)\n",
    "        \n",
    "        self.bn1 = nn.BatchNorm1d(512)\n",
    "        self.bn2 = nn.BatchNorm1d(256)\n",
    "        self.bn3 = nn.BatchNorm1d(128)\n",
    "        self.bn4 = nn.BatchNorm1d(classes)\n",
    "        \n",
    "        self.dropout = nn.Dropout(p=0.3)\n",
    "\n",
    "    def forward(self, input):\n",
    "        xb, g_x, matrix3x3, matrix64x64 = self.transform(input)  # xb is of shape (bs, 63, cld_s)\n",
    "        cld_s = xb.shape[-1]\n",
    "        \n",
    "        g = torch.repeat_interleave(g_x, cld_s, dim=1)\n",
    "        x = torch.concat([xb.transpose(1, 2), g], dim=2).transpose(1, 2) # concatenate global and per-point features\n",
    "        \n",
    "        x = F.relu(self.bn1(self.conv1(x)))\n",
    "        x = F.relu(self.bn2(self.conv2(x)))\n",
    "        x = F.relu(self.bn3(self.conv3(x)))\n",
    "        x = F.relu(self.dropout(self.bn4(self.conv4(x))))\n",
    "        \n",
    "        return x, matrix3x3, matrix64x64\n",
    "    \n",
    "    def training_step(self, batch, batch_idx):\n",
    "        x, y = batch\n",
    "        predictions, matrix3x3, matrix64x64 = self(x)\n",
    "        loss = segmentation_loss(predictions, y, matrix3x3, matrix64x64)\n",
    "        self.log('train_loss', loss, prog_bar=True, sync_dist=True, on_epoch=True)\n",
    "        self.log('train_accuracy', self.accuracy(predictions, y), prog_bar=True, sync_dist=True, on_epoch=True)\n",
    "        self.log('train_precision', self.precision(predictions, y), prog_bar=True, sync_dist=True, on_epoch=True)\n",
    "        self.log('train_recall', self.recall(predictions, y), prog_bar=True, sync_dist=True, on_epoch=True)\n",
    "        return {'loss': loss}\n",
    "\n",
    "    def validation_step(self, batch, batch_idx):\n",
    "        x, y = batch\n",
    "        predictions, matrix3x3, matrix64x64 = self(x)\n",
    "        loss = segmentation_loss(predictions, y, matrix3x3, matrix64x64)\n",
    "        self.log('val_loss', loss, prog_bar=True, sync_dist=True, on_epoch=True)\n",
    "        self.log('val_accuracy', self.accuracy(predictions, y), prog_bar=True, sync_dist=True, on_epoch=True)\n",
    "        self.log('val_precision', self.precision(predictions, y), prog_bar=True, sync_dist=True, on_epoch=True)\n",
    "        self.log('val_recall', self.recall(predictions, y), prog_bar=True, sync_dist=True, on_epoch=True)\n",
    "        return {'val_loss': loss}\n",
    "\n",
    "    def predict_step(self, batch, batch_idx, dataloader_idx=0):\n",
    "        x, y = batch\n",
    "        predictions, _, _ = self(x)\n",
    "        return torch.argmax(predictions, dim=1)\n",
    "\n",
    "    def configure_optimizers(self):\n",
    "        optimizer = torch.optim.Adam(self.parameters(), lr=1e-3)\n",
    "        return optimizer"
   ],
   "id": "e69bc1363835c412",
   "outputs": [],
   "execution_count": 57
  },
  {
   "metadata": {
    "ExecuteTime": {
     "end_time": "2024-10-26T20:09:39.341714Z",
     "start_time": "2024-10-26T20:09:38.801494Z"
    }
   },
   "cell_type": "code",
   "source": [
    "segmentor = PointNetSegmentor(6)\n",
    "logits, m3x3, m64x64 = segmentor.forward(torch.randn(10, 1024, 3).transpose(2, 1))"
   ],
   "id": "2541d7b29836423c",
   "outputs": [],
   "execution_count": 52
  },
  {
   "metadata": {
    "ExecuteTime": {
     "end_time": "2024-10-26T20:09:39.807962Z",
     "start_time": "2024-10-26T20:09:39.784484Z"
    }
   },
   "cell_type": "code",
   "source": "logits.shape # (bs, # of classes, cld_s)",
   "id": "2923f2ec83edc643",
   "outputs": [
    {
     "data": {
      "text/plain": [
       "torch.Size([10, 6, 1024])"
      ]
     },
     "execution_count": 53,
     "metadata": {},
     "output_type": "execute_result"
    }
   ],
   "execution_count": 53
  },
  {
   "metadata": {
    "ExecuteTime": {
     "end_time": "2024-10-26T19:24:38.242074Z",
     "start_time": "2024-10-26T19:24:38.214768Z"
    }
   },
   "cell_type": "code",
   "source": "torch.argmax(logits, dim=1).shape",
   "id": "98190c8e25124d92",
   "outputs": [
    {
     "data": {
      "text/plain": [
       "torch.Size([10, 1024])"
      ]
     },
     "execution_count": 30,
     "metadata": {},
     "output_type": "execute_result"
    }
   ],
   "execution_count": 30
  },
  {
   "metadata": {
    "ExecuteTime": {
     "end_time": "2024-10-26T19:24:38.334945Z",
     "start_time": "2024-10-26T19:24:38.321343Z"
    }
   },
   "cell_type": "code",
   "source": "F.cross_entropy(logits, torch.randint(low=0, high=6, size=(10, 1024)))",
   "id": "d4a18eb394da3085",
   "outputs": [
    {
     "data": {
      "text/plain": [
       "tensor(2.0245, grad_fn=<NllLoss2DBackward0>)"
      ]
     },
     "execution_count": 31,
     "metadata": {},
     "output_type": "execute_result"
    }
   ],
   "execution_count": 31
  },
  {
   "metadata": {
    "ExecuteTime": {
     "end_time": "2024-10-26T20:10:07.649839Z",
     "start_time": "2024-10-26T20:10:07.585595Z"
    }
   },
   "cell_type": "code",
   "source": "segmentation_loss(logits, torch.randint(low=0, high=6, size=(10, 1024)), m3x3, m64x64)",
   "id": "7287c39720b51ba5",
   "outputs": [
    {
     "data": {
      "text/plain": [
       "tensor(2.0964, grad_fn=<AddBackward0>)"
      ]
     },
     "execution_count": 54,
     "metadata": {},
     "output_type": "execute_result"
    }
   ],
   "execution_count": 54
  },
  {
   "metadata": {},
   "cell_type": "markdown",
   "source": [
    "#### Dataset Challenges\n",
    "- how should we preprocess original clouds? ex. subsampling, cutting ...\n",
    "- what method to use to normalize point cloud?\n",
    "- how to subsample point clouds for batches?\n",
    "- how to handle multiple point clouds that can be used?\n",
    "- how to handle class imbalance? "
   ],
   "id": "a7afb9546361cdc8"
  },
  {
   "metadata": {
    "ExecuteTime": {
     "end_time": "2024-10-26T20:10:53.370750Z",
     "start_time": "2024-10-26T20:10:53.355116Z"
    }
   },
   "cell_type": "code",
   "source": [
    "class PointCloudSegmentationDataset(Dataset):\n",
    "    \n",
    "    def __init__(self, point_cloud_path, subsample_size=None, point_sampler=None, ds_size=None):\n",
    "        self.point_sampler = point_sampler if point_sampler else MockPointSampler()\n",
    "        self.pt = PyntCloud.from_file(point_cloud_path)\n",
    "        self.ds_size = ds_size\n",
    "        self.subsample_size = subsample_size if subsample_size else len(self.pt.points)\n",
    "        x, y, z = min_max_standardize(self.pt.points[['x', 'y', 'z']])\n",
    "        \n",
    "        self.pt.points['x_norm'] = x \n",
    "        self.pt.points['y_norm'] = y\n",
    "        self.pt.points['z_norm'] = z \n",
    "        \n",
    "        self.label = 'class' if 'class' in self.pt.points.columns else 'scalar_class'\n",
    "        \n",
    "    def __len__(self):\n",
    "        # How to set the number of batches?\n",
    "        return len(self.pt.points) // self.subsample_size if self.ds_size is None else self.ds_size\n",
    "    \n",
    "    def __getitem__(self, idx):\n",
    "        # For now, a point cloud is sampled each time this function is called (it doesn't depend on idx)\n",
    "        sampled_cloud = self.point_sampler(self.pt.points[['x_norm', 'y_norm', 'z_norm', self.label]])\n",
    "        sampled_points = torch.tensor(sampled_cloud[['x_norm', 'y_norm', 'z_norm']].values, device=device)\n",
    "        labels = torch.tensor(sampled_cloud[[self.label]].values, device=device, dtype=torch.long).flatten()\n",
    "        return sampled_points.T, labels\n",
    "    "
   ],
   "id": "f1f256ff534e7b22",
   "outputs": [],
   "execution_count": 58
  },
  {
   "cell_type": "code",
   "id": "47b71b1713d5609",
   "metadata": {
    "ExecuteTime": {
     "end_time": "2024-10-26T20:11:05.881612Z",
     "start_time": "2024-10-26T20:10:55.568562Z"
    }
   },
   "source": [
    "subsample_size = 1024 # as in original paper but ofc can be different\n",
    "batch_size = 16\n",
    "\n",
    "training_dataset = PointCloudSegmentationDataset('../data/birmingham_blocks/birmingham_block_7_subsampled.ply', \n",
    "                                     subsample_size=subsample_size, point_sampler=PointSampler(subsample_size=subsample_size))\n",
    "train_loader = DataLoader(training_dataset, batch_size=batch_size, shuffle=True)\n",
    "\n",
    "validation_dataset = PointCloudSegmentationDataset('../data/birmingham_blocks/birmingham_block_6_subsampled_test.ply', \n",
    "                                     subsample_size=subsample_size, point_sampler=PointSampler(subsample_size=subsample_size))\n",
    "val_loader = DataLoader(validation_dataset, batch_size=batch_size)\n",
    "\n",
    "model = PointNetSegmentor(classes=len(classes_df))\n"
   ],
   "outputs": [],
   "execution_count": 59
  },
  {
   "cell_type": "markdown",
   "id": "84943de3986a2a8c",
   "metadata": {},
   "source": [
    "Each batch is a sampled point cloud"
   ]
  },
  {
   "metadata": {},
   "cell_type": "markdown",
   "source": "This is minimal training set up, we lack validation and some regularizations",
   "id": "2870d3eef08eb807"
  },
  {
   "metadata": {
    "ExecuteTime": {
     "end_time": "2024-10-26T20:11:10.202846Z",
     "start_time": "2024-10-26T20:11:10.188071Z"
    }
   },
   "cell_type": "code",
   "source": [
    "experiment_name = \"banana_2\"\n",
    "checkpoint_dir = Path(f\"../models/{experiment_name}\")\n",
    "logger = TensorBoardLogger(save_dir=f\"../models/{experiment_name}/tlogs\", name=experiment_name)\n",
    "\n",
    "max_epochs = 50"
   ],
   "id": "b63e12cea7c279bd",
   "outputs": [],
   "execution_count": 61
  },
  {
   "metadata": {},
   "cell_type": "markdown",
   "source": "",
   "id": "ce497ad559ff6167"
  },
  {
   "cell_type": "code",
   "id": "267090194e95e06e",
   "metadata": {
    "ExecuteTime": {
     "start_time": "2024-10-26T20:11:12.698904Z"
    }
   },
   "source": [
    "checkpoint_callback = pl.callbacks.ModelCheckpoint(dirpath=checkpoint_dir / 'best_results', filename='{epoch}-{val_loss:.2f}-{train_loss:.2f}', \n",
    "                                      monitor='val_loss', save_last=True) \n",
    "# early_stopping = pl.callbacks.EarlyStopping(monitor='val_loss', verbose=True)\n",
    "\n",
    "trainer = pl.Trainer(max_epochs=max_epochs, fast_dev_run=False, \n",
    "                     default_root_dir=checkpoint_dir, callbacks=[checkpoint_callback], logger=logger)\n",
    "\n",
    "trainer.fit(model, train_loader, val_loader)"
   ],
   "outputs": [
    {
     "name": "stderr",
     "output_type": "stream",
     "text": [
      "GPU available: True (cuda), used: True\n",
      "TPU available: False, using: 0 TPU cores\n",
      "HPU available: False, using: 0 HPUs\n",
      "LOCAL_RANK: 0 - CUDA_VISIBLE_DEVICES: [0]\n",
      "\n",
      "   | Name      | Type                | Params | Mode \n",
      "-----------------------------------------------------------\n",
      "0  | precision | MulticlassPrecision | 0      | train\n",
      "1  | recall    | MulticlassRecall    | 0      | train\n",
      "2  | accuracy  | MulticlassAccuracy  | 0      | train\n",
      "3  | transform | Transform_2         | 2.8 M  | train\n",
      "4  | conv1     | Conv1d              | 557 K  | train\n",
      "5  | conv2     | Conv1d              | 131 K  | train\n",
      "6  | conv3     | Conv1d              | 32.9 K | train\n",
      "7  | conv4     | Conv1d              | 1.7 K  | train\n",
      "8  | bn1       | BatchNorm1d         | 1.0 K  | train\n",
      "9  | bn2       | BatchNorm1d         | 512    | train\n",
      "10 | bn3       | BatchNorm1d         | 256    | train\n",
      "11 | bn4       | BatchNorm1d         | 26     | train\n",
      "12 | dropout   | Dropout             | 0      | train\n",
      "-----------------------------------------------------------\n",
      "3.5 M     Trainable params\n",
      "0         Non-trainable params\n",
      "3.5 M     Total params\n",
      "14.115    Total estimated model params size (MB)\n",
      "43        Modules in train mode\n",
      "0         Modules in eval mode\n"
     ]
    },
    {
     "data": {
      "text/plain": [
       "Sanity Checking: |          | 0/? [00:00<?, ?it/s]"
      ],
      "application/vnd.jupyter.widget-view+json": {
       "version_major": 2,
       "version_minor": 0,
       "model_id": "c5c42e768a0f4a91a586f72455ba8761"
      }
     },
     "metadata": {},
     "output_type": "display_data"
    },
    {
     "name": "stderr",
     "output_type": "stream",
     "text": [
      "C:\\Users\\julia\\anaconda3\\envs\\geo\\lib\\site-packages\\pytorch_lightning\\trainer\\connectors\\data_connector.py:424: The 'val_dataloader' does not have many workers which may be a bottleneck. Consider increasing the value of the `num_workers` argument` to `num_workers=15` in the `DataLoader` to improve performance.\n",
      "C:\\Users\\julia\\anaconda3\\envs\\geo\\lib\\site-packages\\pytorch_lightning\\trainer\\connectors\\data_connector.py:424: The 'train_dataloader' does not have many workers which may be a bottleneck. Consider increasing the value of the `num_workers` argument` to `num_workers=15` in the `DataLoader` to improve performance.\n",
      "C:\\Users\\julia\\anaconda3\\envs\\geo\\lib\\site-packages\\pytorch_lightning\\loops\\fit_loop.py:298: The number of training batches (26) is smaller than the logging interval Trainer(log_every_n_steps=50). Set a lower value for log_every_n_steps if you want to see logs for the training epoch.\n"
     ]
    },
    {
     "data": {
      "text/plain": [
       "Training: |          | 0/? [00:00<?, ?it/s]"
      ],
      "application/vnd.jupyter.widget-view+json": {
       "version_major": 2,
       "version_minor": 0,
       "model_id": "0a879f25519544039a4c44168fd5f6ff"
      }
     },
     "metadata": {},
     "output_type": "display_data"
    }
   ],
   "execution_count": null
  },
  {
   "metadata": {
    "ExecuteTime": {
     "end_time": "2024-11-25T22:04:55.776451Z",
     "start_time": "2024-11-25T22:04:55.760830Z"
    }
   },
   "cell_type": "code",
   "source": "%load_ext tensorboard",
   "id": "4a35479c5afb54ca",
   "outputs": [],
   "execution_count": 2
  },
  {
   "metadata": {
    "ExecuteTime": {
     "end_time": "2024-10-26T19:24:55.432964500Z",
     "start_time": "2024-10-26T18:17:08.442574Z"
    }
   },
   "cell_type": "code",
   "source": [
    "testing_dataset = PointCloudSegmentationDataset('../data/birmingham_blocks/birmingham_block_7_subsampled_test.ply')\n",
    "test_loader = DataLoader(testing_dataset)\n",
    "preds = trainer.predict(model, test_loader)[0]"
   ],
   "id": "9139ccbc77f508de",
   "outputs": [
    {
     "name": "stderr",
     "output_type": "stream",
     "text": [
      "LOCAL_RANK: 0 - CUDA_VISIBLE_DEVICES: [0]\n",
      "C:\\Users\\julia\\anaconda3\\envs\\geo\\lib\\site-packages\\pytorch_lightning\\trainer\\connectors\\data_connector.py:424: The 'predict_dataloader' does not have many workers which may be a bottleneck. Consider increasing the value of the `num_workers` argument` to `num_workers=15` in the `DataLoader` to improve performance.\n"
     ]
    },
    {
     "data": {
      "text/plain": [
       "Predicting: |          | 0/? [00:00<?, ?it/s]"
      ],
      "application/vnd.jupyter.widget-view+json": {
       "version_major": 2,
       "version_minor": 0,
       "model_id": "0918cee1a0354b9eb89fc9dba84a4edc"
      }
     },
     "metadata": {},
     "output_type": "display_data"
    }
   ],
   "execution_count": 48
  },
  {
   "metadata": {
    "ExecuteTime": {
     "end_time": "2024-10-26T19:24:55.432964500Z",
     "start_time": "2024-10-26T18:17:12.737202Z"
    }
   },
   "cell_type": "code",
   "source": "preds",
   "id": "848677ba7186e179",
   "outputs": [
    {
     "data": {
      "text/plain": [
       "tensor([[5, 5, 5,  ..., 5, 5, 5]])"
      ]
     },
     "execution_count": 49,
     "metadata": {},
     "output_type": "execute_result"
    }
   ],
   "execution_count": 49
  },
  {
   "metadata": {
    "ExecuteTime": {
     "end_time": "2024-10-26T19:24:55.432964500Z",
     "start_time": "2024-10-26T18:17:52.603075Z"
    }
   },
   "cell_type": "code",
   "source": "predictions = preds[0].numpy()",
   "id": "eb225679fef6937",
   "outputs": [],
   "execution_count": 50
  },
  {
   "metadata": {
    "ExecuteTime": {
     "end_time": "2024-10-26T19:24:55.432964500Z",
     "start_time": "2024-10-26T18:17:52.623171Z"
    }
   },
   "cell_type": "code",
   "source": "predictions",
   "id": "ec80baa09e419358",
   "outputs": [
    {
     "data": {
      "text/plain": [
       "array([5, 5, 5, ..., 5, 5, 5], dtype=int64)"
      ]
     },
     "execution_count": 51,
     "metadata": {},
     "output_type": "execute_result"
    }
   ],
   "execution_count": 51
  },
  {
   "metadata": {
    "ExecuteTime": {
     "end_time": "2024-10-26T19:24:55.433964100Z",
     "start_time": "2024-10-26T18:17:52.674172Z"
    }
   },
   "cell_type": "code",
   "source": [
    "for batch in test_loader:\n",
    "    _, labels = batch"
   ],
   "id": "dc3112a6503af474",
   "outputs": [],
   "execution_count": 52
  },
  {
   "metadata": {
    "ExecuteTime": {
     "end_time": "2024-10-26T19:24:55.433964100Z",
     "start_time": "2024-10-26T18:17:52.791927Z"
    }
   },
   "cell_type": "code",
   "source": "labels = labels.cpu().numpy()[0]",
   "id": "b9b95b6737f7bc1",
   "outputs": [],
   "execution_count": 53
  },
  {
   "metadata": {},
   "cell_type": "code",
   "outputs": [],
   "execution_count": null,
   "source": "",
   "id": "77287fa7e31af610"
  }
 ],
 "metadata": {
  "kernelspec": {
   "display_name": "Python 3 (ipykernel)",
   "language": "python",
   "name": "python3"
  },
  "language_info": {
   "codemirror_mode": {
    "name": "ipython",
    "version": 3
   },
   "file_extension": ".py",
   "mimetype": "text/x-python",
   "name": "python",
   "nbconvert_exporter": "python",
   "pygments_lexer": "ipython3",
   "version": "3.10.14"
  }
 },
 "nbformat": 4,
 "nbformat_minor": 5
}
