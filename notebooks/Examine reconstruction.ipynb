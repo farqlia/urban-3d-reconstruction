{
 "cells": [
  {
   "metadata": {
    "ExecuteTime": {
     "end_time": "2024-11-22T15:45:55.081084Z",
     "start_time": "2024-11-22T15:45:53.595460Z"
    }
   },
   "cell_type": "code",
   "source": [
    "import numpy as np\n",
    "import open3d as o3d"
   ],
   "id": "afcc6065a4109006",
   "outputs": [
    {
     "name": "stdout",
     "output_type": "stream",
     "text": [
      "Jupyter environment detected. Enabling Open3D WebVisualizer.\n",
      "[Open3D INFO] WebRTC GUI backend enabled.\n",
      "[Open3D INFO] WebRTCWindowSystem: HTTP handshake server disabled.\n"
     ]
    }
   ],
   "execution_count": 1
  },
  {
   "metadata": {
    "ExecuteTime": {
     "end_time": "2024-11-22T15:45:56.664768Z",
     "start_time": "2024-11-22T15:45:56.469380Z"
    }
   },
   "cell_type": "code",
   "source": "pcd = o3d.io.read_point_cloud(\"../data/truck/model.ply\")",
   "id": "e7c5dae6d6c4f927",
   "outputs": [],
   "execution_count": 2
  },
  {
   "metadata": {
    "ExecuteTime": {
     "end_time": "2024-11-22T15:45:58.122560Z",
     "start_time": "2024-11-22T15:45:58.091112Z"
    }
   },
   "cell_type": "code",
   "source": "pcd",
   "id": "89372133928b560a",
   "outputs": [
    {
     "data": {
      "text/plain": [
       "PointCloud with 136029 points."
      ]
     },
     "execution_count": 3,
     "metadata": {},
     "output_type": "execute_result"
    }
   ],
   "execution_count": 3
  },
  {
   "metadata": {
    "ExecuteTime": {
     "end_time": "2024-11-22T15:46:11.817099Z",
     "start_time": "2024-11-22T15:46:11.801473Z"
    }
   },
   "cell_type": "code",
   "source": "np.asarray(pcd.colors)",
   "id": "326443c101f23742",
   "outputs": [
    {
     "data": {
      "text/plain": [
       "array([[0.00000000e+00, 4.41124517e-05, 3.65788738e-04],\n",
       "       [6.86584559e-04, 9.38655115e-04, 1.41200388e-03],\n",
       "       [0.00000000e+00, 0.00000000e+00, 1.30521521e-04],\n",
       "       ...,\n",
       "       [0.00000000e+00, 7.17168754e-04, 1.28622452e-03],\n",
       "       [1.83394931e-04, 4.72356847e-04, 8.04081209e-04],\n",
       "       [0.00000000e+00, 0.00000000e+00, 0.00000000e+00]])"
      ]
     },
     "execution_count": 5,
     "metadata": {},
     "output_type": "execute_result"
    }
   ],
   "execution_count": 5
  },
  {
   "metadata": {
    "ExecuteTime": {
     "end_time": "2024-10-27T11:17:00.967421Z",
     "start_time": "2024-10-27T11:17:00.867903Z"
    }
   },
   "cell_type": "code",
   "source": "# pcd_ww_outliers_indx = (pcd.remove_statistical_outlier(nb_neighbors=50, std_ratio=0.5))",
   "id": "d4cf1d93e216ddde",
   "outputs": [],
   "execution_count": 70
  },
  {
   "metadata": {
    "ExecuteTime": {
     "end_time": "2024-10-27T11:18:48.446489Z",
     "start_time": "2024-10-27T11:18:48.386489Z"
    }
   },
   "cell_type": "code",
   "source": "pcd_ww_outliers_indx = pcd.remove_radius_outlier(nb_points=2, radius=0.2)",
   "id": "b6d70a7a9794ccae",
   "outputs": [],
   "execution_count": 87
  },
  {
   "metadata": {
    "ExecuteTime": {
     "end_time": "2024-10-27T11:18:49.062548Z",
     "start_time": "2024-10-27T11:18:49.039038Z"
    }
   },
   "cell_type": "code",
   "source": "pcd_ww_outliers = pcd.select_by_index(pcd_ww_outliers_indx[1])",
   "id": "7e08131ef5b12461",
   "outputs": [],
   "execution_count": 88
  },
  {
   "metadata": {
    "ExecuteTime": {
     "end_time": "2024-10-27T11:18:49.598994Z",
     "start_time": "2024-10-27T11:18:49.580954Z"
    }
   },
   "cell_type": "code",
   "source": "pcd_ww_outliers",
   "id": "8f5345461e038028",
   "outputs": [
    {
     "data": {
      "text/plain": [
       "PointCloud with 125677 points."
      ]
     },
     "execution_count": 89,
     "metadata": {},
     "output_type": "execute_result"
    }
   ],
   "execution_count": 89
  },
  {
   "metadata": {
    "ExecuteTime": {
     "end_time": "2024-10-27T11:18:50.287194Z",
     "start_time": "2024-10-27T11:18:50.282195Z"
    }
   },
   "cell_type": "code",
   "source": "points = np.asarray(pcd_ww_outliers.points)",
   "id": "17fd6d3393e7c61",
   "outputs": [],
   "execution_count": 90
  },
  {
   "metadata": {
    "ExecuteTime": {
     "end_time": "2024-10-27T11:18:50.988226Z",
     "start_time": "2024-10-27T11:18:50.971198Z"
    }
   },
   "cell_type": "code",
   "source": "np.max(points, axis=0), np.min(points, axis=0)",
   "id": "31ef950772d44bb9",
   "outputs": [
    {
     "data": {
      "text/plain": [
       "(array([0.16006318, 0.19330901, 0.37243918]),\n",
       " array([-0.22374588, -0.18138918, -0.00429772]))"
      ]
     },
     "execution_count": 91,
     "metadata": {},
     "output_type": "execute_result"
    }
   ],
   "execution_count": 91
  },
  {
   "metadata": {
    "ExecuteTime": {
     "end_time": "2024-10-27T11:19:02.537369Z",
     "start_time": "2024-10-27T11:18:54.342504Z"
    }
   },
   "cell_type": "code",
   "source": "o3d.visualization.draw_geometries([pcd_ww_outliers])",
   "id": "8d7870af37ec5a8a",
   "outputs": [],
   "execution_count": 92
  },
  {
   "metadata": {
    "ExecuteTime": {
     "end_time": "2024-10-27T11:19:32.004303Z",
     "start_time": "2024-10-27T11:19:31.974308Z"
    }
   },
   "cell_type": "code",
   "source": "o3d.io.write_point_cloud(\"../data/small_city_road_outside-d2x/sparse/filtered_sparse.ply\", pcd_ww_outliers)",
   "id": "14e3861a19cd1312",
   "outputs": [
    {
     "data": {
      "text/plain": [
       "True"
      ]
     },
     "execution_count": 93,
     "metadata": {},
     "output_type": "execute_result"
    }
   ],
   "execution_count": 93
  }
 ],
 "metadata": {
  "kernelspec": {
   "display_name": "Python 3",
   "language": "python",
   "name": "python3"
  },
  "language_info": {
   "codemirror_mode": {
    "name": "ipython",
    "version": 2
   },
   "file_extension": ".py",
   "mimetype": "text/x-python",
   "name": "python",
   "nbconvert_exporter": "python",
   "pygments_lexer": "ipython2",
   "version": "2.7.6"
  }
 },
 "nbformat": 4,
 "nbformat_minor": 5
}
