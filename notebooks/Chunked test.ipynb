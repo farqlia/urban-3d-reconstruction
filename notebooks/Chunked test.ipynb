{
 "cells": [
  {
   "cell_type": "code",
   "execution_count": 1,
   "id": "initial_id",
   "metadata": {
    "collapsed": true,
    "ExecuteTime": {
     "end_time": "2024-12-09T14:55:09.805754700Z",
     "start_time": "2024-12-09T14:55:08.195926600Z"
    }
   },
   "outputs": [
    {
     "name": "stdout",
     "output_type": "stream",
     "text": [
      "Jupyter environment detected. Enabling Open3D WebVisualizer.\n",
      "[Open3D INFO] WebRTC GUI backend enabled.\n",
      "[Open3D INFO] WebRTCWindowSystem: HTTP handshake server disabled.\n"
     ]
    }
   ],
   "source": [
    "import numpy as np\n",
    "import open3d as o3d\n",
    "from pyntcloud import PyntCloud"
   ]
  },
  {
   "cell_type": "code",
   "outputs": [],
   "source": [
    "import pandas as pd"
   ],
   "metadata": {
    "collapsed": false,
    "ExecuteTime": {
     "end_time": "2024-12-09T14:56:37.264552200Z",
     "start_time": "2024-12-09T14:56:36.723608600Z"
    }
   },
   "id": "1a872c676dc3654",
   "execution_count": 3
  },
  {
   "cell_type": "code",
   "outputs": [],
   "source": [
    "cloud = pd.read_csv('../data/birmingham_blocks/7_test/chunk_0.txt')"
   ],
   "metadata": {
    "collapsed": false,
    "ExecuteTime": {
     "end_time": "2024-12-09T14:59:48.325001600Z",
     "start_time": "2024-12-09T14:59:48.158790100Z"
    }
   },
   "id": "6847336d5e88737f",
   "execution_count": 13
  },
  {
   "cell_type": "code",
   "outputs": [
    {
     "name": "stdout",
     "output_type": "stream",
     "text": [
      "[Open3D WARNING] Read geometry::PointCloud failed: unknown file extension for ../data/birmingham_blocks/7_test/chunk_0.txt (format: xyzi).\n"
     ]
    },
    {
     "data": {
      "text/plain": "PointCloud with 0 points."
     },
     "execution_count": 14,
     "metadata": {},
     "output_type": "execute_result"
    }
   ],
   "source": [
    "o3d.io.read_point_cloud('../data/birmingham_blocks/7_test/chunk_0.txt', format='xyzi')"
   ],
   "metadata": {
    "collapsed": false,
    "ExecuteTime": {
     "end_time": "2024-12-09T14:59:49.756157300Z",
     "start_time": "2024-12-09T14:59:49.739293700Z"
    }
   },
   "id": "ca857fa22f1dab67",
   "execution_count": 14
  },
  {
   "cell_type": "code",
   "outputs": [],
   "source": [
    "import pandas as pd\n",
    "\n",
    "def csv_to_ply(df, output_ply):\n",
    "    \"\"\"\n",
    "    Convert a CSV file (with x, y, z, red, green, blue, class columns) to a PLY file.\n",
    "\n",
    "    Args:\n",
    "        input_csv (str): Path to the input CSV file.\n",
    "        output_ply (str): Path to the output PLY file.\n",
    "    \"\"\"\n",
    "\n",
    "    # Ensure the correct columns are present\n",
    "    required_columns = ['x', 'y', 'z', 'red', 'green', 'blue', 'class']\n",
    "    if not all(col in df.columns for col in required_columns):\n",
    "        raise ValueError(f\"CSV must contain the following columns: {required_columns}\")\n",
    "\n",
    "    # Get vertex count\n",
    "    vertex_count = len(df)\n",
    "\n",
    "    # Write PLY header\n",
    "    header = f\"\"\"ply\n",
    "format ascii 1.0\n",
    "comment Created by Python Script\n",
    "element vertex {vertex_count}\n",
    "property float x\n",
    "property float y\n",
    "property float z\n",
    "property uchar red\n",
    "property uchar green\n",
    "property uchar blue\n",
    "property float class\n",
    "end_header\n",
    "\"\"\"\n",
    "\n",
    "    # Write PLY file\n",
    "    with open(output_ply, 'w') as ply_file:\n",
    "        ply_file.write(header)\n",
    "        for _, row in df.iterrows():\n",
    "            # Format the row to match the PLY requirements\n",
    "            ply_file.write(f\"{row['x']} {row['y']} {row['z']} \"\n",
    "                           f\"{int(row['red'])} {int(row['green'])} {int(row['blue'])} \"\n",
    "                           f\"{row['class']}\\n\")\n",
    "\n",
    "    print(f\"PLY file successfully created: {output_ply}\")"
   ],
   "metadata": {
    "collapsed": false,
    "ExecuteTime": {
     "end_time": "2024-12-09T15:04:26.380720800Z",
     "start_time": "2024-12-09T15:04:26.371436400Z"
    }
   },
   "id": "36403cfa32e3963",
   "execution_count": 16
  },
  {
   "cell_type": "code",
   "outputs": [
    {
     "name": "stdout",
     "output_type": "stream",
     "text": [
      "PLY file successfully created: ../data/birmingham_blocks/7_test/test.ply\n"
     ]
    }
   ],
   "source": [
    "csv_to_ply(cloud, output_ply='../data/birmingham_blocks/7_test/test.ply')"
   ],
   "metadata": {
    "collapsed": false,
    "ExecuteTime": {
     "end_time": "2024-12-09T15:04:55.492053900Z",
     "start_time": "2024-12-09T15:04:43.929367500Z"
    }
   },
   "id": "ecfbbce50805f912",
   "execution_count": 17
  },
  {
   "cell_type": "code",
   "outputs": [],
   "source": [
    "from urb3d.segmentation.dataset import ChunkedPointCloudDataset"
   ],
   "metadata": {
    "collapsed": false,
    "ExecuteTime": {
     "end_time": "2024-12-09T15:08:45.475004700Z",
     "start_time": "2024-12-09T15:08:39.717761100Z"
    }
   },
   "id": "b6263a40601fff92",
   "execution_count": 18
  },
  {
   "cell_type": "code",
   "outputs": [],
   "source": [
    "dataset = ChunkedPointCloudDataset('../data/birmingham_blocks/7_test')"
   ],
   "metadata": {
    "collapsed": false,
    "ExecuteTime": {
     "end_time": "2024-12-09T15:13:38.784727400Z",
     "start_time": "2024-12-09T15:13:38.779020300Z"
    }
   },
   "id": "5c8696560e1efb46",
   "execution_count": 23
  },
  {
   "cell_type": "code",
   "outputs": [
    {
     "data": {
      "text/plain": "1"
     },
     "execution_count": 26,
     "metadata": {},
     "output_type": "execute_result"
    }
   ],
   "source": [
    "dataset.__getitem__(0)"
   ],
   "metadata": {
    "collapsed": false,
    "ExecuteTime": {
     "end_time": "2024-12-09T15:13:46.664374200Z",
     "start_time": "2024-12-09T15:13:46.647852400Z"
    }
   },
   "id": "92dfa8ecba7453c0",
   "execution_count": 26
  },
  {
   "cell_type": "code",
   "outputs": [],
   "source": [
    "import os\n",
    "\n",
    "merged_cloud = None\n",
    "predictions = np.array([])\n",
    "\n",
    "for idx in range(len(os.listdir(input_chunks_dir))):\n",
    "    chunk_preds = preds[idx][0].cpu().numpy()\n",
    "    predictions = np.concatenate([predictions, chunk_preds])\n",
    "    chunk_cloud = PyntCloud.from_file(f\"{input_chunks_dir}/chunk_{idx}.csv\").points[\n",
    "        ['x', 'y', 'z']]  # chunk[0][0].cpu().numpy().transpose()\n",
    "    merged_cloud = chunk_cloud if merged_cloud is None else np.concatenate([merged_cloud, chunk_cloud])\n",
    "\n",
    "# combine cloud and predictions\n",
    "new_cloud = pd.DataFrame(np.concatenate([merged_cloud, predictions[..., np.newaxis]], axis=1),\n",
    "                         columns=['x', 'y', 'z', 'class'])\n",
    "cloud = PyntCloud(new_cloud)"
   ],
   "metadata": {
    "collapsed": false
   },
   "id": "a201b431ff13c05c"
  }
 ],
 "metadata": {
  "kernelspec": {
   "display_name": "Python 3",
   "language": "python",
   "name": "python3"
  },
  "language_info": {
   "codemirror_mode": {
    "name": "ipython",
    "version": 2
   },
   "file_extension": ".py",
   "mimetype": "text/x-python",
   "name": "python",
   "nbconvert_exporter": "python",
   "pygments_lexer": "ipython2",
   "version": "2.7.6"
  }
 },
 "nbformat": 4,
 "nbformat_minor": 5
}
