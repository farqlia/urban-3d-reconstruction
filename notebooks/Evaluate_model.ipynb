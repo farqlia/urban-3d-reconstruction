{
 "cells": [
  {
   "metadata": {
    "ExecuteTime": {
     "end_time": "2024-11-27T12:12:33.137444Z",
     "start_time": "2024-11-27T12:12:33.121823Z"
    }
   },
   "cell_type": "code",
   "source": [
    "\n",
    "import pandas as pd"
   ],
   "id": "1b88df811cab4764",
   "outputs": [],
   "execution_count": 1
  },
  {
   "metadata": {
    "ExecuteTime": {
     "end_time": "2024-11-27T13:52:04.361406Z",
     "start_time": "2024-11-27T13:52:04.330044Z"
    }
   },
   "cell_type": "code",
   "source": [
    "import pytorch_lightning as pl\n",
    "import torch\n",
    "from torch.utils.data import DataLoader\n",
    "from urb3d.segmentation.dataset import PointCloudSegmentationDataset, PointSampler, ChunkedPointCloudDataset\n",
    "from urb3d.segmentation.segmentor import PointNetSegmentor\n",
    "\n",
    "from sklearn.metrics import precision_recall_fscore_support\n",
    "\n",
    "device = torch.device('cuda' if torch.cuda.is_available() else 'cpu')\n",
    "device"
   ],
   "id": "745a8725ddec2e5",
   "outputs": [
    {
     "data": {
      "text/plain": [
       "device(type='cuda')"
      ]
     },
     "execution_count": 33,
     "metadata": {},
     "output_type": "execute_result"
    }
   ],
   "execution_count": 33
  },
  {
   "metadata": {
    "ExecuteTime": {
     "end_time": "2024-11-27T14:42:30.484390Z",
     "start_time": "2024-11-27T14:42:30.468769Z"
    }
   },
   "cell_type": "code",
   "source": [
    "weighted_model = '../models/pointnet_weighted/best_results/epoch=31-val_loss=1.99-train_loss=1.35.ckpt'\n",
    "unweighted_model = '../models/new_deal/best_results/epoch=89-val_loss=1.81-train_loss=1.32.ckpt'\n",
    "# block_6_model = '../models/longrun_pointnet_weighted_ins/best_results/epoch=1-val_loss=2.42-train_loss=2.51.ckpt'\n",
    "block_7_model = '../models/pointnet_weighted_isns/best_results/epoch=113-val_loss=0.79-train_loss=1.18.ckpt'\n",
    "block_6_model = ('../models/pointnet_weighted_isns_6/best_results/epoch=45-val_loss=1.22-train_loss=1.41.ckpt')\n",
    "block_6_7_model = ('../models/pointnet_weighted_isns_6_7/best_results/epoch=64-val_loss=2.01-train_loss=1.34.ckpt')"
   ],
   "id": "3902b13ba0ad6534",
   "outputs": [],
   "execution_count": 37
  },
  {
   "cell_type": "code",
   "id": "initial_id",
   "metadata": {
    "collapsed": true,
    "ExecuteTime": {
     "end_time": "2024-11-27T14:42:45.448075Z",
     "start_time": "2024-11-27T14:42:31.919121Z"
    }
   },
   "source": [
    "model = PointNetSegmentor.load_from_checkpoint(block_6_7_model, strict=False)\n",
    "dataset = PointCloudSegmentationDataset('../data/birmingham_blocks/birmingham_block_7_subsampled_train.ply')\n",
    "data_loader = DataLoader(dataset)\n",
    "trainer = pl.Trainer()\n",
    "preds = trainer.predict(model, data_loader)\n",
    "preds = preds[0][0].cpu().numpy()\n",
    "labels = data_loader.__iter__().__next__()[1][0].cpu().numpy()"
   ],
   "outputs": [
    {
     "name": "stderr",
     "output_type": "stream",
     "text": [
      "C:\\Users\\kasia\\PycharmProjects\\urban-3d-reconstruction\\venv\\lib\\site-packages\\pytorch_lightning\\core\\saving.py:195: Found keys that are not in the model state dict but in the checkpoint: ['criterion.weight']\n",
      "GPU available: True (cuda), used: True\n",
      "TPU available: False, using: 0 TPU cores\n",
      "HPU available: False, using: 0 HPUs\n",
      "LOCAL_RANK: 0 - CUDA_VISIBLE_DEVICES: [0]\n",
      "C:\\Users\\kasia\\PycharmProjects\\urban-3d-reconstruction\\venv\\lib\\site-packages\\pytorch_lightning\\trainer\\connectors\\data_connector.py:424: The 'predict_dataloader' does not have many workers which may be a bottleneck. Consider increasing the value of the `num_workers` argument` to `num_workers=7` in the `DataLoader` to improve performance.\n"
     ]
    },
    {
     "data": {
      "text/plain": [
       "Predicting: |          | 0/? [00:00<?, ?it/s]"
      ],
      "application/vnd.jupyter.widget-view+json": {
       "version_major": 2,
       "version_minor": 0,
       "model_id": "236e216af6bc43cb9123850e98999f6e"
      }
     },
     "metadata": {},
     "output_type": "display_data"
    }
   ],
   "execution_count": 38
  },
  {
   "metadata": {
    "ExecuteTime": {
     "end_time": "2024-11-27T14:42:45.791564Z",
     "start_time": "2024-11-27T14:42:45.448075Z"
    }
   },
   "cell_type": "code",
   "source": [
    "metrics = precision_recall_fscore_support(labels, preds)\n",
    "for class_id in range(len(metrics[0])):\n",
    "    for metric in range(4):\n",
    "        print(round(metrics[metric][class_id],2), end='\\t\\t')\n",
    "    print()\n",
    "print(precision_recall_fscore_support(labels, preds, average='weighted'))"
   ],
   "id": "9f09f09606094563",
   "outputs": [
    {
     "name": "stdout",
     "output_type": "stream",
     "text": [
      "0.64\t\t0.52\t\t0.57\t\t217554\t\t\n",
      "0.15\t\t0.45\t\t0.22\t\t21855\t\t\n",
      "0.83\t\t0.62\t\t0.71\t\t197866\t\t\n",
      "0.07\t\t0.14\t\t0.09\t\t23066\t\t\n",
      "0.0\t\t0.0\t\t0.0\t\t21730\t\t\n",
      "0.31\t\t0.21\t\t0.25\t\t76932\t\t\n",
      "0.0\t\t0.0\t\t0.0\t\t10098\t\t\n",
      "0.04\t\t0.15\t\t0.06\t\t19145\t\t\n",
      "0.0\t\t0.0\t\t0.0\t\t0\t\t\n",
      "0.0\t\t0.0\t\t0.0\t\t0\t\t\n",
      "(0.5654087674084923, 0.4566745885224889, 0.49809829685214746, None)\n"
     ]
    },
    {
     "name": "stderr",
     "output_type": "stream",
     "text": [
      "C:\\Users\\kasia\\PycharmProjects\\urban-3d-reconstruction\\venv\\lib\\site-packages\\sklearn\\metrics\\_classification.py:1531: UndefinedMetricWarning: Recall is ill-defined and being set to 0.0 in labels with no true samples. Use `zero_division` parameter to control this behavior.\n",
      "  _warn_prf(average, modifier, f\"{metric.capitalize()} is\", len(result))\n",
      "C:\\Users\\kasia\\PycharmProjects\\urban-3d-reconstruction\\venv\\lib\\site-packages\\sklearn\\metrics\\_classification.py:1531: UndefinedMetricWarning: Recall is ill-defined and being set to 0.0 in labels with no true samples. Use `zero_division` parameter to control this behavior.\n",
      "  _warn_prf(average, modifier, f\"{metric.capitalize()} is\", len(result))\n"
     ]
    }
   ],
   "execution_count": 39
  },
  {
   "metadata": {
    "ExecuteTime": {
     "end_time": "2024-11-27T13:11:51.536608Z",
     "start_time": "2024-11-27T13:11:51.468933Z"
    }
   },
   "cell_type": "code",
   "source": [
    "for class_id in range(len(metrics[0])):\n",
    "    for metric in range(4):\n",
    "        print(round(metrics[metric][class_id],2), end='\\t\\t')\n",
    "    print()\n",
    "\n",
    "print(precision_recall_fscore_support(labels, preds, average='weighted'))"
   ],
   "id": "da06720ef08f2a6b",
   "outputs": [
    {
     "name": "stdout",
     "output_type": "stream",
     "text": [
      "0.93\t\t0.69\t\t0.79\t\t217554\t\t\n",
      "0.3\t\t0.62\t\t0.41\t\t21855\t\t\n",
      "0.96\t\t0.68\t\t0.79\t\t197866\t\t\n",
      "0.25\t\t0.48\t\t0.33\t\t23066\t\t\n",
      "0.71\t\t0.99\t\t0.83\t\t21730\t\t\n",
      "0.8\t\t0.73\t\t0.77\t\t76932\t\t\n",
      "0.09\t\t0.64\t\t0.17\t\t10098\t\t\n",
      "0.37\t\t0.56\t\t0.44\t\t19145\t\t\n",
      "(0.5068797006883353, 0.44646997279765643, 0.4557179141521637, None)\n"
     ]
    }
   ],
   "execution_count": 30
  },
  {
   "metadata": {},
   "cell_type": "code",
   "outputs": [],
   "execution_count": null,
   "source": "2",
   "id": "9370bafdf97ed3b8"
  },
  {
   "metadata": {
    "ExecuteTime": {
     "end_time": "2024-11-26T15:26:38.089573Z",
     "start_time": "2024-11-26T15:26:38.073951Z"
    }
   },
   "cell_type": "code",
   "source": "labels.shape",
   "id": "d9deaf711c33d352",
   "outputs": [
    {
     "data": {
      "text/plain": [
       "torch.Size([1, 238950])"
      ]
     },
     "execution_count": 19,
     "metadata": {},
     "output_type": "execute_result"
    }
   ],
   "execution_count": 19
  },
  {
   "metadata": {
    "ExecuteTime": {
     "end_time": "2024-11-26T15:23:41.573522Z",
     "start_time": "2024-11-26T15:23:41.557897Z"
    }
   },
   "cell_type": "code",
   "source": "preds[0][0].shape",
   "id": "6479254831aa1de4",
   "outputs": [
    {
     "data": {
      "text/plain": [
       "torch.Size([238950])"
      ]
     },
     "execution_count": 11,
     "metadata": {},
     "output_type": "execute_result"
    }
   ],
   "execution_count": 11
  },
  {
   "metadata": {
    "ExecuteTime": {
     "end_time": "2024-11-26T15:23:35.202841Z",
     "start_time": "2024-11-26T15:23:35.186980Z"
    }
   },
   "cell_type": "code",
   "source": [
    "for pred in preds:\n",
    "    print(pred.shape)"
   ],
   "id": "4ebf45d49abe9aab",
   "outputs": [
    {
     "name": "stdout",
     "output_type": "stream",
     "text": [
      "torch.Size([1, 238950])\n"
     ]
    }
   ],
   "execution_count": 9
  },
  {
   "metadata": {
    "ExecuteTime": {
     "end_time": "2024-11-26T15:07:53.700627Z",
     "start_time": "2024-11-26T15:07:53.685002Z"
    }
   },
   "cell_type": "code",
   "source": "len(data_loader.dataset.pt.points)",
   "id": "57f399e06d1f0165",
   "outputs": [
    {
     "data": {
      "text/plain": [
       "238950"
      ]
     },
     "execution_count": 9,
     "metadata": {},
     "output_type": "execute_result"
    }
   ],
   "execution_count": 9
  },
  {
   "metadata": {
    "ExecuteTime": {
     "end_time": "2024-11-26T15:21:09.659040Z",
     "start_time": "2024-11-26T15:21:09.643416Z"
    }
   },
   "cell_type": "code",
   "source": "data_loader.dataset.point_sampler.subsample_size",
   "id": "aa534b07f5e17a85",
   "outputs": [],
   "execution_count": 7
  },
  {
   "metadata": {},
   "cell_type": "code",
   "outputs": [],
   "execution_count": null,
   "source": "",
   "id": "de257f09c8e099f3"
  },
  {
   "metadata": {
    "ExecuteTime": {
     "end_time": "2024-11-26T15:19:24.129316Z",
     "start_time": "2024-11-26T15:19:24.113691Z"
    }
   },
   "cell_type": "code",
   "source": "print(data_loader.dataset.subsample_size)",
   "id": "17959d7fbceca9c7",
   "outputs": [
    {
     "name": "stdout",
     "output_type": "stream",
     "text": [
      "238950\n"
     ]
    }
   ],
   "execution_count": 15
  },
  {
   "metadata": {
    "ExecuteTime": {
     "end_time": "2024-11-26T15:17:46.947298Z",
     "start_time": "2024-11-26T15:17:46.916053Z"
    }
   },
   "cell_type": "code",
   "source": "data_loader.__iter__().__next__()[0].shape",
   "id": "e38bb9d806b5b546",
   "outputs": [
    {
     "data": {
      "text/plain": [
       "torch.Size([1, 3])"
      ]
     },
     "execution_count": 6,
     "metadata": {},
     "output_type": "execute_result"
    }
   ],
   "execution_count": 6
  },
  {
   "metadata": {
    "ExecuteTime": {
     "end_time": "2024-11-26T14:35:02.347033Z",
     "start_time": "2024-11-26T14:35:02.331412Z"
    }
   },
   "cell_type": "code",
   "source": "preds[0].shape",
   "id": "1176f89142d7337e",
   "outputs": [
    {
     "data": {
      "text/plain": [
       "torch.Size([1, 1024])"
      ]
     },
     "execution_count": 13,
     "metadata": {},
     "output_type": "execute_result"
    }
   ],
   "execution_count": 13
  },
  {
   "metadata": {},
   "cell_type": "code",
   "outputs": [],
   "execution_count": null,
   "source": "",
   "id": "f130dcb9401b6998"
  }
 ],
 "metadata": {
  "kernelspec": {
   "display_name": "Python 3",
   "language": "python",
   "name": "python3"
  },
  "language_info": {
   "codemirror_mode": {
    "name": "ipython",
    "version": 2
   },
   "file_extension": ".py",
   "mimetype": "text/x-python",
   "name": "python",
   "nbconvert_exporter": "python",
   "pygments_lexer": "ipython2",
   "version": "2.7.6"
  }
 },
 "nbformat": 4,
 "nbformat_minor": 5
}
