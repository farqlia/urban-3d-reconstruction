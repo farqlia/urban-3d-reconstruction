{
 "cells": [
  {
   "metadata": {
    "ExecuteTime": {
     "end_time": "2024-11-30T21:57:15.609785700Z",
     "start_time": "2024-11-30T21:57:15.600572100Z"
    }
   },
   "cell_type": "code",
   "source": [
    "import numpy as np\n",
    "import pandas as pd"
   ],
   "id": "1b88df811cab4764",
   "outputs": [],
   "execution_count": 1
  },
  {
   "metadata": {
    "ExecuteTime": {
     "end_time": "2024-11-30T21:57:21.930559800Z",
     "start_time": "2024-11-30T21:57:15.607790300Z"
    }
   },
   "cell_type": "code",
   "source": [
    "import pytorch_lightning as pl\n",
    "import torch\n",
    "from torch.utils.data import DataLoader\n",
    "from urb3d.segmentation.dataset import PointCloudSegmentationDataset, PointSampler, ChunkedPointCloudDataset\n",
    "from urb3d.segmentation.segmentor import PointNetSegmentor\n",
    "\n",
    "from sklearn.metrics import precision_recall_fscore_support\n",
    "\n",
    "device = torch.device('cuda' if torch.cuda.is_available() else 'cpu')\n",
    "device"
   ],
   "id": "745a8725ddec2e5",
   "outputs": [
    {
     "data": {
      "text/plain": "device(type='cpu')"
     },
     "execution_count": 2,
     "metadata": {},
     "output_type": "execute_result"
    }
   ],
   "execution_count": 2
  },
  {
   "cell_type": "code",
   "outputs": [],
   "source": [
    "model = '../models/really_weighted.ckpt'"
   ],
   "metadata": {
    "collapsed": false,
    "ExecuteTime": {
     "end_time": "2024-11-30T21:57:21.931556600Z",
     "start_time": "2024-11-30T21:57:21.925547Z"
    }
   },
   "id": "5b9028ad0dbf28a6",
   "execution_count": 3
  },
  {
   "metadata": {
    "ExecuteTime": {
     "end_time": "2024-11-30T21:57:21.946575200Z",
     "start_time": "2024-11-30T21:57:21.934522800Z"
    }
   },
   "cell_type": "code",
   "source": [
    "weighted_model = '../models/pointnet_weighted/best_results/epoch=31-val_loss=1.99-train_loss=1.35.ckpt'\n",
    "unweighted_model = '../models/new_deal/best_results/epoch=89-val_loss=1.81-train_loss=1.32.ckpt'\n",
    "# block_6_model = '../models/longrun_pointnet_weighted_ins/best_results/epoch=1-val_loss=2.42-train_loss=2.51.ckpt'\n",
    "block_7_model = '../models/pointnet_weighted_isns/best_results/epoch=113-val_loss=0.79-train_loss=1.18.ckpt'\n",
    "block_6_model = ('../models/pointnet_weighted_isns_6/best_results/epoch=45-val_loss=1.22-train_loss=1.41.ckpt')\n",
    "block_6_7_model = ('../models/pointnet_weighted_isns_6_7/best_results/epoch=64-val_loss=2.01-train_loss=1.34.ckpt')"
   ],
   "id": "3902b13ba0ad6534",
   "outputs": [],
   "execution_count": 4
  },
  {
   "cell_type": "code",
   "id": "initial_id",
   "metadata": {
    "collapsed": true,
    "ExecuteTime": {
     "end_time": "2024-11-30T22:14:49.090214900Z",
     "start_time": "2024-11-30T21:57:42.930064400Z"
    }
   },
   "source": [
    "model = PointNetSegmentor.load_from_checkpoint(model, strict=False)\n",
    "dataset = ChunkedPointCloudDataset('../data/birmingham_blocks/test')\n",
    "# dataset = PointCloudSegmentationDataset('../data/birmingham_blocks/birmingham_block_7_subsampled_test.ply')\n",
    "data_loader = DataLoader(dataset)\n",
    "trainer = pl.Trainer()\n",
    "preds = trainer.predict(model, data_loader)"
   ],
   "outputs": [
    {
     "name": "stderr",
     "output_type": "stream",
     "text": [
      "C:\\Users\\48791\\miniconda3\\envs\\zpi\\Lib\\site-packages\\pytorch_lightning\\core\\saving.py:195: Found keys that are not in the model state dict but in the checkpoint: ['criterion.weight']\n",
      "GPU available: False, used: False\n",
      "TPU available: False, using: 0 TPU cores\n",
      "HPU available: False, using: 0 HPUs\n",
      "C:\\Users\\48791\\miniconda3\\envs\\zpi\\Lib\\site-packages\\pytorch_lightning\\trainer\\connectors\\data_connector.py:424: The 'predict_dataloader' does not have many workers which may be a bottleneck. Consider increasing the value of the `num_workers` argument` to `num_workers=7` in the `DataLoader` to improve performance.\n"
     ]
    },
    {
     "data": {
      "text/plain": "Predicting: |          | 0/? [00:00<?, ?it/s]",
      "application/vnd.jupyter.widget-view+json": {
       "version_major": 2,
       "version_minor": 0,
       "model_id": "3a863ffdd2874665a4e8cab8ac898bb9"
      }
     },
     "metadata": {},
     "output_type": "display_data"
    }
   ],
   "execution_count": 6
  },
  {
   "cell_type": "code",
   "outputs": [],
   "source": [
    "# preds = preds[0][0].cpu().numpy()\n",
    "# labels = data_loader.__iter__().__next__()[1][0].cpu().numpy()"
   ],
   "metadata": {
    "collapsed": false,
    "ExecuteTime": {
     "end_time": "2024-11-30T21:56:23.294962700Z",
     "start_time": "2024-11-30T21:56:23.221650900Z"
    }
   },
   "id": "fc11f185c8fd6e00",
   "execution_count": 8
  },
  {
   "cell_type": "code",
   "outputs": [],
   "source": [
    "predictions = preds"
   ],
   "metadata": {
    "collapsed": false,
    "ExecuteTime": {
     "end_time": "2024-11-30T22:15:15.271406700Z",
     "start_time": "2024-11-30T22:15:15.249208400Z"
    }
   },
   "id": "e8486147ffb49ac7",
   "execution_count": 8
  },
  {
   "metadata": {
    "jupyter": {
     "is_executing": true
    },
    "ExecuteTime": {
     "end_time": "2024-11-30T22:15:41.605816200Z",
     "start_time": "2024-11-30T22:15:15.275276600Z"
    }
   },
   "cell_type": "code",
   "source": [
    "labels = np.array([])\n",
    "predictions = np.array([])\n",
    "\n",
    "for idx, chunk in enumerate(data_loader):\n",
    "    chunk_labels = chunk[1][0].cpu().numpy()\n",
    "    labels = np.concatenate([labels, chunk_labels])\n",
    "    chunk_preds = preds[idx][0].cpu().numpy()\n",
    "    predictions = np.concatenate([predictions, chunk_preds])\n"
   ],
   "id": "6acad7b3a12f22ca",
   "outputs": [],
   "execution_count": 9
  },
  {
   "metadata": {
    "ExecuteTime": {
     "end_time": "2024-11-30T21:56:34.242938800Z",
     "start_time": "2024-11-30T21:56:34.130087800Z"
    }
   },
   "cell_type": "code",
   "source": [
    "metrics = precision_recall_fscore_support(labels, predictions)\n",
    "for class_id in range(len(metrics[0])):\n",
    "    for metric in range(4):\n",
    "        print(round(metrics[metric][class_id],2), end='\\t\\t')\n",
    "    print()\n",
    "print(precision_recall_fscore_support(labels, predictions, average='weighted', zero_division=0))"
   ],
   "id": "9f09f09606094563",
   "outputs": [
    {
     "name": "stdout",
     "output_type": "stream",
     "text": [
      "0.17\t\t0.19\t\t0.18\t\t42219\t\t\n",
      "0.42\t\t0.34\t\t0.38\t\t14913\t\t\n",
      "0.91\t\t0.79\t\t0.84\t\t75278\t\t\n",
      "0.15\t\t0.53\t\t0.23\t\t7040\t\t\n",
      "0.35\t\t0.65\t\t0.46\t\t25200\t\t\n",
      "0.44\t\t0.21\t\t0.28\t\t59383\t\t\n",
      "0.05\t\t0.09\t\t0.06\t\t6470\t\t\n",
      "0.29\t\t0.17\t\t0.21\t\t8447\t\t\n",
      "(0.5068822767952287, 0.4464741577735928, 0.4557213696303036, None)\n"
     ]
    }
   ],
   "execution_count": 11
  },
  {
   "metadata": {
    "ExecuteTime": {
     "end_time": "2024-11-30T22:21:19.397262600Z",
     "start_time": "2024-11-30T22:21:01.293764200Z"
    }
   },
   "cell_type": "code",
   "source": [
    "metrics = precision_recall_fscore_support(labels, predictions)\n",
    "for class_id in range(len(metrics[0])):\n",
    "    for metric in range(4):\n",
    "        print(round(metrics[metric][class_id],2), end='\\t\\t')\n",
    "    print()\n",
    "\n",
    "print(precision_recall_fscore_support(labels, predictions, average='weighted'))"
   ],
   "id": "da06720ef08f2a6b",
   "outputs": [
    {
     "name": "stderr",
     "output_type": "stream",
     "text": [
      "C:\\Users\\48791\\miniconda3\\envs\\zpi\\Lib\\site-packages\\sklearn\\metrics\\_classification.py:1531: UndefinedMetricWarning: Precision is ill-defined and being set to 0.0 in labels with no predicted samples. Use `zero_division` parameter to control this behavior.\n",
      "  _warn_prf(average, modifier, f\"{metric.capitalize()} is\", len(result))\n"
     ]
    },
    {
     "name": "stdout",
     "output_type": "stream",
     "text": [
      "0.09\t\t0.05\t\t0.06\t\t1800121\t\t\n",
      "0.13\t\t0.36\t\t0.19\t\t2549658\t\t\n",
      "0.52\t\t0.16\t\t0.24\t\t10126741\t\t\n",
      "0.01\t\t0.13\t\t0.02\t\t244829\t\t\n",
      "0.01\t\t0.08\t\t0.02\t\t173127\t\t\n",
      "0.15\t\t0.15\t\t0.15\t\t2862766\t\t\n",
      "0.01\t\t0.06\t\t0.02\t\t210120\t\t\n",
      "0.02\t\t0.02\t\t0.02\t\t311217\t\t\n",
      "0.0\t\t0.0\t\t0.0\t\t1229631\t\t\n",
      "0.0\t\t0.0\t\t0.0\t\t998\t\t\n",
      "(0.3171773629490493, 0.1584074555973774, 0.17893363714031674, None)\n"
     ]
    },
    {
     "name": "stderr",
     "output_type": "stream",
     "text": [
      "C:\\Users\\48791\\miniconda3\\envs\\zpi\\Lib\\site-packages\\sklearn\\metrics\\_classification.py:1531: UndefinedMetricWarning: Precision is ill-defined and being set to 0.0 in labels with no predicted samples. Use `zero_division` parameter to control this behavior.\n",
      "  _warn_prf(average, modifier, f\"{metric.capitalize()} is\", len(result))\n"
     ]
    }
   ],
   "execution_count": 11
  },
  {
   "metadata": {},
   "cell_type": "code",
   "outputs": [],
   "execution_count": null,
   "source": [
    "2"
   ],
   "id": "9370bafdf97ed3b8"
  },
  {
   "metadata": {
    "ExecuteTime": {
     "end_time": "2024-11-26T15:26:38.089573Z",
     "start_time": "2024-11-26T15:26:38.073951Z"
    }
   },
   "cell_type": "code",
   "source": [
    "labels.shape"
   ],
   "id": "d9deaf711c33d352",
   "outputs": [
    {
     "data": {
      "text/plain": [
       "torch.Size([1, 238950])"
      ]
     },
     "execution_count": 19,
     "metadata": {},
     "output_type": "execute_result"
    }
   ],
   "execution_count": 19
  },
  {
   "metadata": {
    "ExecuteTime": {
     "end_time": "2024-11-26T15:23:41.573522Z",
     "start_time": "2024-11-26T15:23:41.557897Z"
    }
   },
   "cell_type": "code",
   "source": [
    "preds[0][0].shape"
   ],
   "id": "6479254831aa1de4",
   "outputs": [
    {
     "data": {
      "text/plain": [
       "torch.Size([238950])"
      ]
     },
     "execution_count": 11,
     "metadata": {},
     "output_type": "execute_result"
    }
   ],
   "execution_count": 11
  },
  {
   "metadata": {
    "ExecuteTime": {
     "end_time": "2024-11-26T15:23:35.202841Z",
     "start_time": "2024-11-26T15:23:35.186980Z"
    }
   },
   "cell_type": "code",
   "source": [
    "for pred in preds:\n",
    "    print(pred.shape)"
   ],
   "id": "4ebf45d49abe9aab",
   "outputs": [
    {
     "name": "stdout",
     "output_type": "stream",
     "text": [
      "torch.Size([1, 238950])\n"
     ]
    }
   ],
   "execution_count": 9
  },
  {
   "metadata": {
    "ExecuteTime": {
     "end_time": "2024-11-26T15:07:53.700627Z",
     "start_time": "2024-11-26T15:07:53.685002Z"
    }
   },
   "cell_type": "code",
   "source": [
    "len(data_loader.dataset.pt.points)"
   ],
   "id": "57f399e06d1f0165",
   "outputs": [
    {
     "data": {
      "text/plain": [
       "238950"
      ]
     },
     "execution_count": 9,
     "metadata": {},
     "output_type": "execute_result"
    }
   ],
   "execution_count": 9
  },
  {
   "metadata": {
    "ExecuteTime": {
     "end_time": "2024-11-26T15:21:09.659040Z",
     "start_time": "2024-11-26T15:21:09.643416Z"
    }
   },
   "cell_type": "code",
   "source": [
    "data_loader.dataset.point_sampler.subsample_size"
   ],
   "id": "aa534b07f5e17a85",
   "outputs": [],
   "execution_count": 7
  },
  {
   "metadata": {},
   "cell_type": "code",
   "outputs": [],
   "execution_count": null,
   "source": [],
   "id": "de257f09c8e099f3"
  },
  {
   "metadata": {
    "ExecuteTime": {
     "end_time": "2024-11-26T15:19:24.129316Z",
     "start_time": "2024-11-26T15:19:24.113691Z"
    }
   },
   "cell_type": "code",
   "source": [
    "print(data_loader.dataset.subsample_size)"
   ],
   "id": "17959d7fbceca9c7",
   "outputs": [
    {
     "name": "stdout",
     "output_type": "stream",
     "text": [
      "238950\n"
     ]
    }
   ],
   "execution_count": 15
  },
  {
   "metadata": {
    "ExecuteTime": {
     "end_time": "2024-11-26T15:17:46.947298Z",
     "start_time": "2024-11-26T15:17:46.916053Z"
    }
   },
   "cell_type": "code",
   "source": [
    "data_loader.__iter__().__next__()[0].shape"
   ],
   "id": "e38bb9d806b5b546",
   "outputs": [
    {
     "data": {
      "text/plain": [
       "torch.Size([1, 3])"
      ]
     },
     "execution_count": 6,
     "metadata": {},
     "output_type": "execute_result"
    }
   ],
   "execution_count": 6
  },
  {
   "metadata": {
    "ExecuteTime": {
     "end_time": "2024-11-26T14:35:02.347033Z",
     "start_time": "2024-11-26T14:35:02.331412Z"
    }
   },
   "cell_type": "code",
   "source": [
    "preds[0].shape"
   ],
   "id": "1176f89142d7337e",
   "outputs": [
    {
     "data": {
      "text/plain": [
       "torch.Size([1, 1024])"
      ]
     },
     "execution_count": 13,
     "metadata": {},
     "output_type": "execute_result"
    }
   ],
   "execution_count": 13
  },
  {
   "metadata": {},
   "cell_type": "code",
   "outputs": [],
   "execution_count": null,
   "source": [],
   "id": "f130dcb9401b6998"
  }
 ],
 "metadata": {
  "kernelspec": {
   "display_name": "Python 3",
   "language": "python",
   "name": "python3"
  },
  "language_info": {
   "codemirror_mode": {
    "name": "ipython",
    "version": 2
   },
   "file_extension": ".py",
   "mimetype": "text/x-python",
   "name": "python",
   "nbconvert_exporter": "python",
   "pygments_lexer": "ipython2",
   "version": "2.7.6"
  }
 },
 "nbformat": 4,
 "nbformat_minor": 5
}
