{
 "cells": [
  {
   "metadata": {
    "ExecuteTime": {
     "end_time": "2024-11-27T19:27:26.137494Z",
     "start_time": "2024-11-27T19:27:26.072669Z"
    }
   },
   "cell_type": "code",
   "source": [
    "import numpy as np\n",
    "import pandas as pd"
   ],
   "id": "1b88df811cab4764",
   "outputs": [],
   "execution_count": 40
  },
  {
   "metadata": {
    "ExecuteTime": {
     "end_time": "2024-11-27T19:58:32.652699Z",
     "start_time": "2024-11-27T19:58:32.574592Z"
    }
   },
   "cell_type": "code",
   "source": [
    "import pytorch_lightning as pl\n",
    "import torch\n",
    "from torch.utils.data import DataLoader\n",
    "from urb3d.segmentation.dataset import PointCloudSegmentationDataset, PointSampler, ChunkedPointCloudDataset\n",
    "from urb3d.segmentation.segmentor import PointNetSegmentor\n",
    "\n",
    "from sklearn.metrics import precision_recall_fscore_support\n",
    "\n",
    "device = torch.device('cuda' if torch.cuda.is_available() else 'cpu')\n",
    "device"
   ],
   "id": "745a8725ddec2e5",
   "outputs": [
    {
     "data": {
      "text/plain": [
       "device(type='cuda')"
      ]
     },
     "execution_count": 43,
     "metadata": {},
     "output_type": "execute_result"
    }
   ],
   "execution_count": 43
  },
  {
   "metadata": {
    "ExecuteTime": {
     "end_time": "2024-11-27T19:58:33.311900Z",
     "start_time": "2024-11-27T19:58:33.289270Z"
    }
   },
   "cell_type": "code",
   "source": [
    "weighted_model = '../models/pointnet_weighted/best_results/epoch=31-val_loss=1.99-train_loss=1.35.ckpt'\n",
    "unweighted_model = '../models/new_deal/best_results/epoch=89-val_loss=1.81-train_loss=1.32.ckpt'\n",
    "# block_6_model = '../models/longrun_pointnet_weighted_ins/best_results/epoch=1-val_loss=2.42-train_loss=2.51.ckpt'\n",
    "block_7_model = '../models/pointnet_weighted_isns/best_results/epoch=113-val_loss=0.79-train_loss=1.18.ckpt'\n",
    "block_6_model = ('../models/pointnet_weighted_isns_6/best_results/epoch=45-val_loss=1.22-train_loss=1.41.ckpt')\n",
    "block_6_7_model = ('../models/pointnet_weighted_isns_6_7/best_results/epoch=64-val_loss=2.01-train_loss=1.34.ckpt')"
   ],
   "id": "3902b13ba0ad6534",
   "outputs": [],
   "execution_count": 44
  },
  {
   "cell_type": "code",
   "id": "initial_id",
   "metadata": {
    "collapsed": true,
    "ExecuteTime": {
     "end_time": "2024-11-27T20:55:59.214465Z",
     "start_time": "2024-11-27T20:52:28.252815Z"
    }
   },
   "source": [
    "model = PointNetSegmentor.load_from_checkpoint(weighted_model, strict=False)\n",
    "dataset = ChunkedPointCloudDataset('../data/birmingham_blocks/val')\n",
    "data_loader = DataLoader(dataset)\n",
    "trainer = pl.Trainer()\n",
    "preds = trainer.predict(model, data_loader)\n",
    "# preds = preds[0][0].cpu().numpy()\n",
    "preds = preds\n",
    "#labels = data_loader.__iter__().__next__()[1][0].cpu().numpy()"
   ],
   "outputs": [
    {
     "name": "stderr",
     "output_type": "stream",
     "text": [
      "C:\\Users\\kasia\\PycharmProjects\\urban-3d-reconstruction\\venv\\lib\\site-packages\\pytorch_lightning\\core\\saving.py:195: Found keys that are not in the model state dict but in the checkpoint: ['criterion.weight']\n",
      "GPU available: True (cuda), used: True\n",
      "TPU available: False, using: 0 TPU cores\n",
      "HPU available: False, using: 0 HPUs\n",
      "LOCAL_RANK: 0 - CUDA_VISIBLE_DEVICES: [0]\n",
      "C:\\Users\\kasia\\PycharmProjects\\urban-3d-reconstruction\\venv\\lib\\site-packages\\pytorch_lightning\\trainer\\connectors\\data_connector.py:424: The 'predict_dataloader' does not have many workers which may be a bottleneck. Consider increasing the value of the `num_workers` argument` to `num_workers=7` in the `DataLoader` to improve performance.\n"
     ]
    },
    {
     "data": {
      "text/plain": [
       "Predicting: |          | 0/? [00:00<?, ?it/s]"
      ],
      "application/vnd.jupyter.widget-view+json": {
       "version_major": 2,
       "version_minor": 0,
       "model_id": "83c5977422b349c3b38d5df58a356965"
      }
     },
     "metadata": {},
     "output_type": "display_data"
    }
   ],
   "execution_count": 100
  },
  {
   "metadata": {
    "jupyter": {
     "is_executing": true
    },
    "ExecuteTime": {
     "start_time": "2024-11-27T20:55:59.325251Z"
    }
   },
   "cell_type": "code",
   "source": [
    "labels = np.array([])\n",
    "predictions = np.array([])\n",
    "\n",
    "for idx, chunk in enumerate(data_loader):\n",
    "    chunk_labels = chunk[1][0].cpu().numpy()\n",
    "    labels = np.concatenate([labels, chunk_labels])\n",
    "    chunk_preds = preds[idx][0].cpu().numpy()\n",
    "    predictions = np.concatenate([predictions, chunk_preds])\n"
   ],
   "id": "6acad7b3a12f22ca",
   "outputs": [],
   "execution_count": null
  },
  {
   "metadata": {
    "ExecuteTime": {
     "end_time": "2024-11-27T20:38:40.971824Z",
     "start_time": "2024-11-27T20:38:20.678450Z"
    }
   },
   "cell_type": "code",
   "source": [
    "metrics = precision_recall_fscore_support(labels, predictions)\n",
    "for class_id in range(len(metrics[0])):\n",
    "    for metric in range(4):\n",
    "        print(round(metrics[metric][class_id],2), end='\\t\\t')\n",
    "    print()\n",
    "print(precision_recall_fscore_support(labels, predictions, average='weighted', zero_division=0))"
   ],
   "id": "9f09f09606094563",
   "outputs": [
    {
     "name": "stderr",
     "output_type": "stream",
     "text": [
      "C:\\Users\\kasia\\PycharmProjects\\urban-3d-reconstruction\\venv\\lib\\site-packages\\sklearn\\metrics\\_classification.py:1531: UndefinedMetricWarning: Recall is ill-defined and being set to 0.0 in labels with no true samples. Use `zero_division` parameter to control this behavior.\n",
      "  _warn_prf(average, modifier, f\"{metric.capitalize()} is\", len(result))\n"
     ]
    },
    {
     "name": "stdout",
     "output_type": "stream",
     "text": [
      "0.29\t\t0.3\t\t0.29\t\t4820801\t\t\n",
      "0.05\t\t0.2\t\t0.08\t\t829892\t\t\n",
      "0.36\t\t0.2\t\t0.26\t\t6047457\t\t\n",
      "0.03\t\t0.09\t\t0.05\t\t542358\t\t\n",
      "0.05\t\t0.08\t\t0.06\t\t900471\t\t\n",
      "0.15\t\t0.03\t\t0.06\t\t2534264\t\t\n",
      "0.02\t\t0.01\t\t0.02\t\t377259\t\t\n",
      "0.04\t\t0.06\t\t0.05\t\t659178\t\t\n",
      "0.0\t\t0.0\t\t0.0\t\t0\t\t\n",
      "(0.24560487416272858, 0.18315746830958946, 0.197450849455238, None)\n"
     ]
    }
   ],
   "execution_count": 96
  },
  {
   "metadata": {
    "ExecuteTime": {
     "end_time": "2024-11-27T20:40:14.727631Z",
     "start_time": "2024-11-27T20:40:14.602660Z"
    }
   },
   "cell_type": "code",
   "source": [
    "for class_id in range(len(metrics[0])):\n",
    "    for metric in range(4):\n",
    "        print(round(metrics[metric][class_id],2), end='\\t\\t')\n",
    "    print()\n",
    "\n",
    "print(precision_recall_fscore_support(labels, preds, average='weighted'))"
   ],
   "id": "da06720ef08f2a6b",
   "outputs": [
    {
     "name": "stdout",
     "output_type": "stream",
     "text": [
      "0.29\t\t0.3\t\t0.29\t\t4820801\t\t\n",
      "0.05\t\t0.2\t\t0.08\t\t829892\t\t\n",
      "0.36\t\t0.2\t\t0.26\t\t6047457\t\t\n",
      "0.03\t\t0.09\t\t0.05\t\t542358\t\t\n",
      "0.05\t\t0.08\t\t0.06\t\t900471\t\t\n",
      "0.15\t\t0.03\t\t0.06\t\t2534264\t\t\n",
      "0.02\t\t0.01\t\t0.02\t\t377259\t\t\n",
      "0.04\t\t0.06\t\t0.05\t\t659178\t\t\n",
      "0.0\t\t0.0\t\t0.0\t\t0\t\t\n"
     ]
    },
    {
     "ename": "ValueError",
     "evalue": "Found input variables with inconsistent numbers of samples: [16711680, 255]",
     "output_type": "error",
     "traceback": [
      "\u001B[1;31m---------------------------------------------------------------------------\u001B[0m",
      "\u001B[1;31mValueError\u001B[0m                                Traceback (most recent call last)",
      "Cell \u001B[1;32mIn[99], line 6\u001B[0m\n\u001B[0;32m      3\u001B[0m         \u001B[38;5;28mprint\u001B[39m(\u001B[38;5;28mround\u001B[39m(metrics[metric][class_id],\u001B[38;5;241m2\u001B[39m), end\u001B[38;5;241m=\u001B[39m\u001B[38;5;124m'\u001B[39m\u001B[38;5;130;01m\\t\u001B[39;00m\u001B[38;5;130;01m\\t\u001B[39;00m\u001B[38;5;124m'\u001B[39m)\n\u001B[0;32m      4\u001B[0m     \u001B[38;5;28mprint\u001B[39m()\n\u001B[1;32m----> 6\u001B[0m \u001B[38;5;28mprint\u001B[39m(\u001B[43mprecision_recall_fscore_support\u001B[49m\u001B[43m(\u001B[49m\u001B[43mlabels\u001B[49m\u001B[43m,\u001B[49m\u001B[43m \u001B[49m\u001B[43mpreds\u001B[49m\u001B[43m,\u001B[49m\u001B[43m \u001B[49m\u001B[43maverage\u001B[49m\u001B[38;5;241;43m=\u001B[39;49m\u001B[38;5;124;43m'\u001B[39;49m\u001B[38;5;124;43mweighted\u001B[39;49m\u001B[38;5;124;43m'\u001B[39;49m\u001B[43m)\u001B[49m)\n",
      "File \u001B[1;32m~\\PycharmProjects\\urban-3d-reconstruction\\venv\\lib\\site-packages\\sklearn\\utils\\_param_validation.py:213\u001B[0m, in \u001B[0;36mvalidate_params.<locals>.decorator.<locals>.wrapper\u001B[1;34m(*args, **kwargs)\u001B[0m\n\u001B[0;32m    207\u001B[0m \u001B[38;5;28;01mtry\u001B[39;00m:\n\u001B[0;32m    208\u001B[0m     \u001B[38;5;28;01mwith\u001B[39;00m config_context(\n\u001B[0;32m    209\u001B[0m         skip_parameter_validation\u001B[38;5;241m=\u001B[39m(\n\u001B[0;32m    210\u001B[0m             prefer_skip_nested_validation \u001B[38;5;129;01mor\u001B[39;00m global_skip_validation\n\u001B[0;32m    211\u001B[0m         )\n\u001B[0;32m    212\u001B[0m     ):\n\u001B[1;32m--> 213\u001B[0m         \u001B[38;5;28;01mreturn\u001B[39;00m func(\u001B[38;5;241m*\u001B[39margs, \u001B[38;5;241m*\u001B[39m\u001B[38;5;241m*\u001B[39mkwargs)\n\u001B[0;32m    214\u001B[0m \u001B[38;5;28;01mexcept\u001B[39;00m InvalidParameterError \u001B[38;5;28;01mas\u001B[39;00m e:\n\u001B[0;32m    215\u001B[0m     \u001B[38;5;66;03m# When the function is just a wrapper around an estimator, we allow\u001B[39;00m\n\u001B[0;32m    216\u001B[0m     \u001B[38;5;66;03m# the function to delegate validation to the estimator, but we replace\u001B[39;00m\n\u001B[0;32m    217\u001B[0m     \u001B[38;5;66;03m# the name of the estimator by the name of the function in the error\u001B[39;00m\n\u001B[0;32m    218\u001B[0m     \u001B[38;5;66;03m# message to avoid confusion.\u001B[39;00m\n\u001B[0;32m    219\u001B[0m     msg \u001B[38;5;241m=\u001B[39m re\u001B[38;5;241m.\u001B[39msub(\n\u001B[0;32m    220\u001B[0m         \u001B[38;5;124mr\u001B[39m\u001B[38;5;124m\"\u001B[39m\u001B[38;5;124mparameter of \u001B[39m\u001B[38;5;124m\\\u001B[39m\u001B[38;5;124mw+ must be\u001B[39m\u001B[38;5;124m\"\u001B[39m,\n\u001B[0;32m    221\u001B[0m         \u001B[38;5;124mf\u001B[39m\u001B[38;5;124m\"\u001B[39m\u001B[38;5;124mparameter of \u001B[39m\u001B[38;5;132;01m{\u001B[39;00mfunc\u001B[38;5;241m.\u001B[39m\u001B[38;5;18m__qualname__\u001B[39m\u001B[38;5;132;01m}\u001B[39;00m\u001B[38;5;124m must be\u001B[39m\u001B[38;5;124m\"\u001B[39m,\n\u001B[0;32m    222\u001B[0m         \u001B[38;5;28mstr\u001B[39m(e),\n\u001B[0;32m    223\u001B[0m     )\n",
      "File \u001B[1;32m~\\PycharmProjects\\urban-3d-reconstruction\\venv\\lib\\site-packages\\sklearn\\metrics\\_classification.py:1789\u001B[0m, in \u001B[0;36mprecision_recall_fscore_support\u001B[1;34m(y_true, y_pred, beta, labels, pos_label, average, warn_for, sample_weight, zero_division)\u001B[0m\n\u001B[0;32m   1626\u001B[0m \u001B[38;5;250m\u001B[39m\u001B[38;5;124;03m\"\"\"Compute precision, recall, F-measure and support for each class.\u001B[39;00m\n\u001B[0;32m   1627\u001B[0m \n\u001B[0;32m   1628\u001B[0m \u001B[38;5;124;03mThe precision is the ratio ``tp / (tp + fp)`` where ``tp`` is the number of\u001B[39;00m\n\u001B[1;32m   (...)\u001B[0m\n\u001B[0;32m   1786\u001B[0m \u001B[38;5;124;03m array([2, 2, 2]))\u001B[39;00m\n\u001B[0;32m   1787\u001B[0m \u001B[38;5;124;03m\"\"\"\u001B[39;00m\n\u001B[0;32m   1788\u001B[0m _check_zero_division(zero_division)\n\u001B[1;32m-> 1789\u001B[0m labels \u001B[38;5;241m=\u001B[39m \u001B[43m_check_set_wise_labels\u001B[49m\u001B[43m(\u001B[49m\u001B[43my_true\u001B[49m\u001B[43m,\u001B[49m\u001B[43m \u001B[49m\u001B[43my_pred\u001B[49m\u001B[43m,\u001B[49m\u001B[43m \u001B[49m\u001B[43maverage\u001B[49m\u001B[43m,\u001B[49m\u001B[43m \u001B[49m\u001B[43mlabels\u001B[49m\u001B[43m,\u001B[49m\u001B[43m \u001B[49m\u001B[43mpos_label\u001B[49m\u001B[43m)\u001B[49m\n\u001B[0;32m   1791\u001B[0m \u001B[38;5;66;03m# Calculate tp_sum, pred_sum, true_sum ###\u001B[39;00m\n\u001B[0;32m   1792\u001B[0m samplewise \u001B[38;5;241m=\u001B[39m average \u001B[38;5;241m==\u001B[39m \u001B[38;5;124m\"\u001B[39m\u001B[38;5;124msamples\u001B[39m\u001B[38;5;124m\"\u001B[39m\n",
      "File \u001B[1;32m~\\PycharmProjects\\urban-3d-reconstruction\\venv\\lib\\site-packages\\sklearn\\metrics\\_classification.py:1561\u001B[0m, in \u001B[0;36m_check_set_wise_labels\u001B[1;34m(y_true, y_pred, average, labels, pos_label)\u001B[0m\n\u001B[0;32m   1558\u001B[0m \u001B[38;5;28;01mif\u001B[39;00m average \u001B[38;5;129;01mnot\u001B[39;00m \u001B[38;5;129;01min\u001B[39;00m average_options \u001B[38;5;129;01mand\u001B[39;00m average \u001B[38;5;241m!=\u001B[39m \u001B[38;5;124m\"\u001B[39m\u001B[38;5;124mbinary\u001B[39m\u001B[38;5;124m\"\u001B[39m:\n\u001B[0;32m   1559\u001B[0m     \u001B[38;5;28;01mraise\u001B[39;00m \u001B[38;5;167;01mValueError\u001B[39;00m(\u001B[38;5;124m\"\u001B[39m\u001B[38;5;124maverage has to be one of \u001B[39m\u001B[38;5;124m\"\u001B[39m \u001B[38;5;241m+\u001B[39m \u001B[38;5;28mstr\u001B[39m(average_options))\n\u001B[1;32m-> 1561\u001B[0m y_type, y_true, y_pred \u001B[38;5;241m=\u001B[39m \u001B[43m_check_targets\u001B[49m\u001B[43m(\u001B[49m\u001B[43my_true\u001B[49m\u001B[43m,\u001B[49m\u001B[43m \u001B[49m\u001B[43my_pred\u001B[49m\u001B[43m)\u001B[49m\n\u001B[0;32m   1562\u001B[0m \u001B[38;5;66;03m# Convert to Python primitive type to avoid NumPy type / Python str\u001B[39;00m\n\u001B[0;32m   1563\u001B[0m \u001B[38;5;66;03m# comparison. See https://github.com/numpy/numpy/issues/6784\u001B[39;00m\n\u001B[0;32m   1564\u001B[0m present_labels \u001B[38;5;241m=\u001B[39m unique_labels(y_true, y_pred)\u001B[38;5;241m.\u001B[39mtolist()\n",
      "File \u001B[1;32m~\\PycharmProjects\\urban-3d-reconstruction\\venv\\lib\\site-packages\\sklearn\\metrics\\_classification.py:103\u001B[0m, in \u001B[0;36m_check_targets\u001B[1;34m(y_true, y_pred)\u001B[0m\n\u001B[0;32m     76\u001B[0m \u001B[38;5;250m\u001B[39m\u001B[38;5;124;03m\"\"\"Check that y_true and y_pred belong to the same classification task.\u001B[39;00m\n\u001B[0;32m     77\u001B[0m \n\u001B[0;32m     78\u001B[0m \u001B[38;5;124;03mThis converts multiclass or binary types to a common shape, and raises a\u001B[39;00m\n\u001B[1;32m   (...)\u001B[0m\n\u001B[0;32m    100\u001B[0m \u001B[38;5;124;03my_pred : array or indicator matrix\u001B[39;00m\n\u001B[0;32m    101\u001B[0m \u001B[38;5;124;03m\"\"\"\u001B[39;00m\n\u001B[0;32m    102\u001B[0m xp, _ \u001B[38;5;241m=\u001B[39m get_namespace(y_true, y_pred)\n\u001B[1;32m--> 103\u001B[0m \u001B[43mcheck_consistent_length\u001B[49m\u001B[43m(\u001B[49m\u001B[43my_true\u001B[49m\u001B[43m,\u001B[49m\u001B[43m \u001B[49m\u001B[43my_pred\u001B[49m\u001B[43m)\u001B[49m\n\u001B[0;32m    104\u001B[0m type_true \u001B[38;5;241m=\u001B[39m type_of_target(y_true, input_name\u001B[38;5;241m=\u001B[39m\u001B[38;5;124m\"\u001B[39m\u001B[38;5;124my_true\u001B[39m\u001B[38;5;124m\"\u001B[39m)\n\u001B[0;32m    105\u001B[0m type_pred \u001B[38;5;241m=\u001B[39m type_of_target(y_pred, input_name\u001B[38;5;241m=\u001B[39m\u001B[38;5;124m\"\u001B[39m\u001B[38;5;124my_pred\u001B[39m\u001B[38;5;124m\"\u001B[39m)\n",
      "File \u001B[1;32m~\\PycharmProjects\\urban-3d-reconstruction\\venv\\lib\\site-packages\\sklearn\\utils\\validation.py:457\u001B[0m, in \u001B[0;36mcheck_consistent_length\u001B[1;34m(*arrays)\u001B[0m\n\u001B[0;32m    455\u001B[0m uniques \u001B[38;5;241m=\u001B[39m np\u001B[38;5;241m.\u001B[39munique(lengths)\n\u001B[0;32m    456\u001B[0m \u001B[38;5;28;01mif\u001B[39;00m \u001B[38;5;28mlen\u001B[39m(uniques) \u001B[38;5;241m>\u001B[39m \u001B[38;5;241m1\u001B[39m:\n\u001B[1;32m--> 457\u001B[0m     \u001B[38;5;28;01mraise\u001B[39;00m \u001B[38;5;167;01mValueError\u001B[39;00m(\n\u001B[0;32m    458\u001B[0m         \u001B[38;5;124m\"\u001B[39m\u001B[38;5;124mFound input variables with inconsistent numbers of samples: \u001B[39m\u001B[38;5;132;01m%r\u001B[39;00m\u001B[38;5;124m\"\u001B[39m\n\u001B[0;32m    459\u001B[0m         \u001B[38;5;241m%\u001B[39m [\u001B[38;5;28mint\u001B[39m(l) \u001B[38;5;28;01mfor\u001B[39;00m l \u001B[38;5;129;01min\u001B[39;00m lengths]\n\u001B[0;32m    460\u001B[0m     )\n",
      "\u001B[1;31mValueError\u001B[0m: Found input variables with inconsistent numbers of samples: [16711680, 255]"
     ]
    }
   ],
   "execution_count": 99
  },
  {
   "metadata": {},
   "cell_type": "code",
   "outputs": [],
   "execution_count": null,
   "source": "2",
   "id": "9370bafdf97ed3b8"
  },
  {
   "metadata": {
    "ExecuteTime": {
     "end_time": "2024-11-26T15:26:38.089573Z",
     "start_time": "2024-11-26T15:26:38.073951Z"
    }
   },
   "cell_type": "code",
   "source": "labels.shape",
   "id": "d9deaf711c33d352",
   "outputs": [
    {
     "data": {
      "text/plain": [
       "torch.Size([1, 238950])"
      ]
     },
     "execution_count": 19,
     "metadata": {},
     "output_type": "execute_result"
    }
   ],
   "execution_count": 19
  },
  {
   "metadata": {
    "ExecuteTime": {
     "end_time": "2024-11-26T15:23:41.573522Z",
     "start_time": "2024-11-26T15:23:41.557897Z"
    }
   },
   "cell_type": "code",
   "source": "preds[0][0].shape",
   "id": "6479254831aa1de4",
   "outputs": [
    {
     "data": {
      "text/plain": [
       "torch.Size([238950])"
      ]
     },
     "execution_count": 11,
     "metadata": {},
     "output_type": "execute_result"
    }
   ],
   "execution_count": 11
  },
  {
   "metadata": {
    "ExecuteTime": {
     "end_time": "2024-11-26T15:23:35.202841Z",
     "start_time": "2024-11-26T15:23:35.186980Z"
    }
   },
   "cell_type": "code",
   "source": [
    "for pred in preds:\n",
    "    print(pred.shape)"
   ],
   "id": "4ebf45d49abe9aab",
   "outputs": [
    {
     "name": "stdout",
     "output_type": "stream",
     "text": [
      "torch.Size([1, 238950])\n"
     ]
    }
   ],
   "execution_count": 9
  },
  {
   "metadata": {
    "ExecuteTime": {
     "end_time": "2024-11-26T15:07:53.700627Z",
     "start_time": "2024-11-26T15:07:53.685002Z"
    }
   },
   "cell_type": "code",
   "source": "len(data_loader.dataset.pt.points)",
   "id": "57f399e06d1f0165",
   "outputs": [
    {
     "data": {
      "text/plain": [
       "238950"
      ]
     },
     "execution_count": 9,
     "metadata": {},
     "output_type": "execute_result"
    }
   ],
   "execution_count": 9
  },
  {
   "metadata": {
    "ExecuteTime": {
     "end_time": "2024-11-26T15:21:09.659040Z",
     "start_time": "2024-11-26T15:21:09.643416Z"
    }
   },
   "cell_type": "code",
   "source": "data_loader.dataset.point_sampler.subsample_size",
   "id": "aa534b07f5e17a85",
   "outputs": [],
   "execution_count": 7
  },
  {
   "metadata": {},
   "cell_type": "code",
   "outputs": [],
   "execution_count": null,
   "source": "",
   "id": "de257f09c8e099f3"
  },
  {
   "metadata": {
    "ExecuteTime": {
     "end_time": "2024-11-26T15:19:24.129316Z",
     "start_time": "2024-11-26T15:19:24.113691Z"
    }
   },
   "cell_type": "code",
   "source": "print(data_loader.dataset.subsample_size)",
   "id": "17959d7fbceca9c7",
   "outputs": [
    {
     "name": "stdout",
     "output_type": "stream",
     "text": [
      "238950\n"
     ]
    }
   ],
   "execution_count": 15
  },
  {
   "metadata": {
    "ExecuteTime": {
     "end_time": "2024-11-26T15:17:46.947298Z",
     "start_time": "2024-11-26T15:17:46.916053Z"
    }
   },
   "cell_type": "code",
   "source": "data_loader.__iter__().__next__()[0].shape",
   "id": "e38bb9d806b5b546",
   "outputs": [
    {
     "data": {
      "text/plain": [
       "torch.Size([1, 3])"
      ]
     },
     "execution_count": 6,
     "metadata": {},
     "output_type": "execute_result"
    }
   ],
   "execution_count": 6
  },
  {
   "metadata": {
    "ExecuteTime": {
     "end_time": "2024-11-26T14:35:02.347033Z",
     "start_time": "2024-11-26T14:35:02.331412Z"
    }
   },
   "cell_type": "code",
   "source": "preds[0].shape",
   "id": "1176f89142d7337e",
   "outputs": [
    {
     "data": {
      "text/plain": [
       "torch.Size([1, 1024])"
      ]
     },
     "execution_count": 13,
     "metadata": {},
     "output_type": "execute_result"
    }
   ],
   "execution_count": 13
  },
  {
   "metadata": {},
   "cell_type": "code",
   "outputs": [],
   "execution_count": null,
   "source": "",
   "id": "f130dcb9401b6998"
  }
 ],
 "metadata": {
  "kernelspec": {
   "display_name": "Python 3",
   "language": "python",
   "name": "python3"
  },
  "language_info": {
   "codemirror_mode": {
    "name": "ipython",
    "version": 2
   },
   "file_extension": ".py",
   "mimetype": "text/x-python",
   "name": "python",
   "nbconvert_exporter": "python",
   "pygments_lexer": "ipython2",
   "version": "2.7.6"
  }
 },
 "nbformat": 4,
 "nbformat_minor": 5
}
