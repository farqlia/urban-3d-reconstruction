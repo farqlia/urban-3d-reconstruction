{
 "cells": [
  {
   "cell_type": "code",
   "id": "initial_id",
   "metadata": {
    "collapsed": true,
    "ExecuteTime": {
     "end_time": "2024-11-02T13:15:14.220044Z",
     "start_time": "2024-11-02T13:15:14.190842Z"
    }
   },
   "source": [
    "import numpy as np\n",
    "import pandas as pd \n",
    "import matplotlib.pyplot as plt\n",
    "import seaborn as sns\n",
    "from pathlib import Path "
   ],
   "outputs": [],
   "execution_count": 50
  },
  {
   "metadata": {
    "ExecuteTime": {
     "end_time": "2024-11-02T13:15:15.657183Z",
     "start_time": "2024-11-02T13:15:15.640184Z"
    }
   },
   "cell_type": "code",
   "source": "results_path = Path(\"../results\")",
   "id": "4f921428b3a7434c",
   "outputs": [],
   "execution_count": 51
  },
  {
   "metadata": {
    "ExecuteTime": {
     "end_time": "2024-11-02T13:15:15.688184Z",
     "start_time": "2024-11-02T13:15:15.671185Z"
    }
   },
   "cell_type": "code",
   "source": [
    "experiments = {\n",
    "    'c7': ['gepard', 'whale'],\n",
    "    'c5': ['gorilla', 'leon', 'monkey', 'mouse', 'rat', 'zebra'], \n",
    "}"
   ],
   "id": "d6af0839d48f78d7",
   "outputs": [],
   "execution_count": 52
  },
  {
   "metadata": {
    "ExecuteTime": {
     "end_time": "2024-11-02T13:15:16.573523Z",
     "start_time": "2024-11-02T13:15:16.479992Z"
    }
   },
   "cell_type": "code",
   "source": [
    "dfs = []\n",
    "for model in experiments:\n",
    "    for exp in experiments[model]:\n",
    "        dfs.append(pd.read_csv(results_path / f'{model}/{exp}/description.csv'))"
   ],
   "id": "4850d04721316507",
   "outputs": [],
   "execution_count": 53
  },
  {
   "metadata": {
    "ExecuteTime": {
     "end_time": "2024-11-02T13:15:17.774530Z",
     "start_time": "2024-11-02T13:15:17.730901Z"
    }
   },
   "cell_type": "code",
   "source": "exp_descriptions = pd.concat(dfs)",
   "id": "9b981c0ad64a1ac8",
   "outputs": [],
   "execution_count": 54
  },
  {
   "metadata": {
    "ExecuteTime": {
     "end_time": "2024-11-02T13:15:18.398979Z",
     "start_time": "2024-11-02T13:15:18.372980Z"
    }
   },
   "cell_type": "code",
   "source": "exp_descriptions",
   "id": "964b444aae902dcd",
   "outputs": [
    {
     "data": {
      "text/plain": [
       "   app_opt_lr  app_opt_reg camera_model  \\\n",
       "0       0.001     0.000001      pinhole   \n",
       "0       0.001     0.000001      pinhole   \n",
       "0       0.001     0.000001      pinhole   \n",
       "0       0.001     0.000001      pinhole   \n",
       "0       0.001     0.000001      pinhole   \n",
       "0       0.001     0.000001      pinhole   \n",
       "0       0.001     0.000001      pinhole   \n",
       "0       0.001     0.000001      pinhole   \n",
       "\n",
       "                                      data_dir  data_factor     far_plane  \\\n",
       "0                            ../data/DRON 1/c7            1  1.000000e+10   \n",
       "0                            ../data/DRON 1/c7            1  1.000000e+10   \n",
       "0     data/DRON 1/c5/sparse/undistorted_images            1  1.000000e+10   \n",
       "0  ../data/DRON 1/c5/sparse/undistorted_images            1  1.000000e+10   \n",
       "0     data/DRON 1/c5/sparse/undistorted_images            1  1.000000e+10   \n",
       "0  ../data/DRON 1/c5/sparse/undistorted_images            1  1.000000e+10   \n",
       "0  ../data/DRON 1/c5/sparse/undistorted_images            1  1.000000e+10   \n",
       "0  ../data/DRON 1/c5/sparse/undistorted_images            1  1.000000e+10   \n",
       "\n",
       "   global_scale  init_extent  init_num_pts  init_opa  ...  refine_start_iter  \\\n",
       "0           1.0          3.0        300000       0.5  ...               1000   \n",
       "0           1.0          3.0        100000       0.1  ...                500   \n",
       "0           1.0          3.0        300000       0.5  ...               1000   \n",
       "0           1.0          3.0        300000       0.5  ...               1000   \n",
       "0           1.0          3.0        300000       0.5  ...               1000   \n",
       "0           1.0          3.0        300000       0.1  ...                500   \n",
       "0           1.0          3.0        300000       0.5  ...                500   \n",
       "0           1.0          3.0        300000       0.5  ...                500   \n",
       "\n",
       "  refine_stop_iter  test_every  experiment  iteration       psnr      ssim  \\\n",
       "0           225000           8      gepard      59999  22.633921  0.719707   \n",
       "0            15000           8       whale      24999  20.865635  0.673556   \n",
       "0           225000           8     gorilla     122499  22.571005  0.713384   \n",
       "0           225000           8        leon      49999  22.327412  0.718626   \n",
       "0           225000           8      monkey      89999  22.564878  0.724856   \n",
       "0            15000           8       mouse      19999  21.984833  0.713271   \n",
       "0            25000           8         rat       9999  21.060947  0.675872   \n",
       "0            25000           8       zebra     104999  22.332077  0.716428   \n",
       "\n",
       "      lpips   num_GS  reset_every  \n",
       "0  0.289170  3000000          NaN  \n",
       "0  0.368868  2706355       3000.0  \n",
       "0  0.207060  3000000          NaN  \n",
       "0  0.302305  2044869          NaN  \n",
       "0  0.248403  1318145          NaN  \n",
       "0  0.262691  4564464       3000.0  \n",
       "0  0.459026  1766437          NaN  \n",
       "0  0.331153   187245          NaN  \n",
       "\n",
       "[8 rows x 36 columns]"
      ],
      "text/html": [
       "<div>\n",
       "<style scoped>\n",
       "    .dataframe tbody tr th:only-of-type {\n",
       "        vertical-align: middle;\n",
       "    }\n",
       "\n",
       "    .dataframe tbody tr th {\n",
       "        vertical-align: top;\n",
       "    }\n",
       "\n",
       "    .dataframe thead th {\n",
       "        text-align: right;\n",
       "    }\n",
       "</style>\n",
       "<table border=\"1\" class=\"dataframe\">\n",
       "  <thead>\n",
       "    <tr style=\"text-align: right;\">\n",
       "      <th></th>\n",
       "      <th>app_opt_lr</th>\n",
       "      <th>app_opt_reg</th>\n",
       "      <th>camera_model</th>\n",
       "      <th>data_dir</th>\n",
       "      <th>data_factor</th>\n",
       "      <th>far_plane</th>\n",
       "      <th>global_scale</th>\n",
       "      <th>init_extent</th>\n",
       "      <th>init_num_pts</th>\n",
       "      <th>init_opa</th>\n",
       "      <th>...</th>\n",
       "      <th>refine_start_iter</th>\n",
       "      <th>refine_stop_iter</th>\n",
       "      <th>test_every</th>\n",
       "      <th>experiment</th>\n",
       "      <th>iteration</th>\n",
       "      <th>psnr</th>\n",
       "      <th>ssim</th>\n",
       "      <th>lpips</th>\n",
       "      <th>num_GS</th>\n",
       "      <th>reset_every</th>\n",
       "    </tr>\n",
       "  </thead>\n",
       "  <tbody>\n",
       "    <tr>\n",
       "      <th>0</th>\n",
       "      <td>0.001</td>\n",
       "      <td>0.000001</td>\n",
       "      <td>pinhole</td>\n",
       "      <td>../data/DRON 1/c7</td>\n",
       "      <td>1</td>\n",
       "      <td>1.000000e+10</td>\n",
       "      <td>1.0</td>\n",
       "      <td>3.0</td>\n",
       "      <td>300000</td>\n",
       "      <td>0.5</td>\n",
       "      <td>...</td>\n",
       "      <td>1000</td>\n",
       "      <td>225000</td>\n",
       "      <td>8</td>\n",
       "      <td>gepard</td>\n",
       "      <td>59999</td>\n",
       "      <td>22.633921</td>\n",
       "      <td>0.719707</td>\n",
       "      <td>0.289170</td>\n",
       "      <td>3000000</td>\n",
       "      <td>NaN</td>\n",
       "    </tr>\n",
       "    <tr>\n",
       "      <th>0</th>\n",
       "      <td>0.001</td>\n",
       "      <td>0.000001</td>\n",
       "      <td>pinhole</td>\n",
       "      <td>../data/DRON 1/c7</td>\n",
       "      <td>1</td>\n",
       "      <td>1.000000e+10</td>\n",
       "      <td>1.0</td>\n",
       "      <td>3.0</td>\n",
       "      <td>100000</td>\n",
       "      <td>0.1</td>\n",
       "      <td>...</td>\n",
       "      <td>500</td>\n",
       "      <td>15000</td>\n",
       "      <td>8</td>\n",
       "      <td>whale</td>\n",
       "      <td>24999</td>\n",
       "      <td>20.865635</td>\n",
       "      <td>0.673556</td>\n",
       "      <td>0.368868</td>\n",
       "      <td>2706355</td>\n",
       "      <td>3000.0</td>\n",
       "    </tr>\n",
       "    <tr>\n",
       "      <th>0</th>\n",
       "      <td>0.001</td>\n",
       "      <td>0.000001</td>\n",
       "      <td>pinhole</td>\n",
       "      <td>data/DRON 1/c5/sparse/undistorted_images</td>\n",
       "      <td>1</td>\n",
       "      <td>1.000000e+10</td>\n",
       "      <td>1.0</td>\n",
       "      <td>3.0</td>\n",
       "      <td>300000</td>\n",
       "      <td>0.5</td>\n",
       "      <td>...</td>\n",
       "      <td>1000</td>\n",
       "      <td>225000</td>\n",
       "      <td>8</td>\n",
       "      <td>gorilla</td>\n",
       "      <td>122499</td>\n",
       "      <td>22.571005</td>\n",
       "      <td>0.713384</td>\n",
       "      <td>0.207060</td>\n",
       "      <td>3000000</td>\n",
       "      <td>NaN</td>\n",
       "    </tr>\n",
       "    <tr>\n",
       "      <th>0</th>\n",
       "      <td>0.001</td>\n",
       "      <td>0.000001</td>\n",
       "      <td>pinhole</td>\n",
       "      <td>../data/DRON 1/c5/sparse/undistorted_images</td>\n",
       "      <td>1</td>\n",
       "      <td>1.000000e+10</td>\n",
       "      <td>1.0</td>\n",
       "      <td>3.0</td>\n",
       "      <td>300000</td>\n",
       "      <td>0.5</td>\n",
       "      <td>...</td>\n",
       "      <td>1000</td>\n",
       "      <td>225000</td>\n",
       "      <td>8</td>\n",
       "      <td>leon</td>\n",
       "      <td>49999</td>\n",
       "      <td>22.327412</td>\n",
       "      <td>0.718626</td>\n",
       "      <td>0.302305</td>\n",
       "      <td>2044869</td>\n",
       "      <td>NaN</td>\n",
       "    </tr>\n",
       "    <tr>\n",
       "      <th>0</th>\n",
       "      <td>0.001</td>\n",
       "      <td>0.000001</td>\n",
       "      <td>pinhole</td>\n",
       "      <td>data/DRON 1/c5/sparse/undistorted_images</td>\n",
       "      <td>1</td>\n",
       "      <td>1.000000e+10</td>\n",
       "      <td>1.0</td>\n",
       "      <td>3.0</td>\n",
       "      <td>300000</td>\n",
       "      <td>0.5</td>\n",
       "      <td>...</td>\n",
       "      <td>1000</td>\n",
       "      <td>225000</td>\n",
       "      <td>8</td>\n",
       "      <td>monkey</td>\n",
       "      <td>89999</td>\n",
       "      <td>22.564878</td>\n",
       "      <td>0.724856</td>\n",
       "      <td>0.248403</td>\n",
       "      <td>1318145</td>\n",
       "      <td>NaN</td>\n",
       "    </tr>\n",
       "    <tr>\n",
       "      <th>0</th>\n",
       "      <td>0.001</td>\n",
       "      <td>0.000001</td>\n",
       "      <td>pinhole</td>\n",
       "      <td>../data/DRON 1/c5/sparse/undistorted_images</td>\n",
       "      <td>1</td>\n",
       "      <td>1.000000e+10</td>\n",
       "      <td>1.0</td>\n",
       "      <td>3.0</td>\n",
       "      <td>300000</td>\n",
       "      <td>0.1</td>\n",
       "      <td>...</td>\n",
       "      <td>500</td>\n",
       "      <td>15000</td>\n",
       "      <td>8</td>\n",
       "      <td>mouse</td>\n",
       "      <td>19999</td>\n",
       "      <td>21.984833</td>\n",
       "      <td>0.713271</td>\n",
       "      <td>0.262691</td>\n",
       "      <td>4564464</td>\n",
       "      <td>3000.0</td>\n",
       "    </tr>\n",
       "    <tr>\n",
       "      <th>0</th>\n",
       "      <td>0.001</td>\n",
       "      <td>0.000001</td>\n",
       "      <td>pinhole</td>\n",
       "      <td>../data/DRON 1/c5/sparse/undistorted_images</td>\n",
       "      <td>1</td>\n",
       "      <td>1.000000e+10</td>\n",
       "      <td>1.0</td>\n",
       "      <td>3.0</td>\n",
       "      <td>300000</td>\n",
       "      <td>0.5</td>\n",
       "      <td>...</td>\n",
       "      <td>500</td>\n",
       "      <td>25000</td>\n",
       "      <td>8</td>\n",
       "      <td>rat</td>\n",
       "      <td>9999</td>\n",
       "      <td>21.060947</td>\n",
       "      <td>0.675872</td>\n",
       "      <td>0.459026</td>\n",
       "      <td>1766437</td>\n",
       "      <td>NaN</td>\n",
       "    </tr>\n",
       "    <tr>\n",
       "      <th>0</th>\n",
       "      <td>0.001</td>\n",
       "      <td>0.000001</td>\n",
       "      <td>pinhole</td>\n",
       "      <td>../data/DRON 1/c5/sparse/undistorted_images</td>\n",
       "      <td>1</td>\n",
       "      <td>1.000000e+10</td>\n",
       "      <td>1.0</td>\n",
       "      <td>3.0</td>\n",
       "      <td>300000</td>\n",
       "      <td>0.5</td>\n",
       "      <td>...</td>\n",
       "      <td>500</td>\n",
       "      <td>25000</td>\n",
       "      <td>8</td>\n",
       "      <td>zebra</td>\n",
       "      <td>104999</td>\n",
       "      <td>22.332077</td>\n",
       "      <td>0.716428</td>\n",
       "      <td>0.331153</td>\n",
       "      <td>187245</td>\n",
       "      <td>NaN</td>\n",
       "    </tr>\n",
       "  </tbody>\n",
       "</table>\n",
       "<p>8 rows × 36 columns</p>\n",
       "</div>"
      ]
     },
     "execution_count": 55,
     "metadata": {},
     "output_type": "execute_result"
    }
   ],
   "execution_count": 55
  },
  {
   "metadata": {
    "ExecuteTime": {
     "end_time": "2024-11-02T13:15:19.726319Z",
     "start_time": "2024-11-02T13:15:19.707228Z"
    }
   },
   "cell_type": "code",
   "source": [
    "def model_experiments(model_name):\n",
    "    return exp_descriptions[np.isin(exp_descriptions['experiment'], experiments[model_name])]"
   ],
   "id": "cf91f47d8ff95b06",
   "outputs": [],
   "execution_count": 56
  },
  {
   "metadata": {
    "ExecuteTime": {
     "end_time": "2024-11-02T13:15:24.544626Z",
     "start_time": "2024-11-02T13:15:24.501115Z"
    }
   },
   "cell_type": "code",
   "source": "c7_experiments = model_experiments('c7')",
   "id": "97633862e97df661",
   "outputs": [],
   "execution_count": 57
  },
  {
   "metadata": {
    "ExecuteTime": {
     "end_time": "2024-11-02T13:15:26.837965Z",
     "start_time": "2024-11-02T13:15:26.811798Z"
    }
   },
   "cell_type": "code",
   "source": "c7_experiments",
   "id": "910303864a9ea58",
   "outputs": [
    {
     "data": {
      "text/plain": [
       "   app_opt_lr  app_opt_reg camera_model           data_dir  data_factor  \\\n",
       "0       0.001     0.000001      pinhole  ../data/DRON 1/c7            1   \n",
       "0       0.001     0.000001      pinhole  ../data/DRON 1/c7            1   \n",
       "\n",
       "      far_plane  global_scale  init_extent  init_num_pts  init_opa  ...  \\\n",
       "0  1.000000e+10           1.0          3.0        300000       0.5  ...   \n",
       "0  1.000000e+10           1.0          3.0        100000       0.1  ...   \n",
       "\n",
       "   refine_start_iter refine_stop_iter  test_every  experiment  iteration  \\\n",
       "0               1000           225000           8      gepard      59999   \n",
       "0                500            15000           8       whale      24999   \n",
       "\n",
       "        psnr      ssim     lpips   num_GS  reset_every  \n",
       "0  22.633921  0.719707  0.289170  3000000          NaN  \n",
       "0  20.865635  0.673556  0.368868  2706355       3000.0  \n",
       "\n",
       "[2 rows x 36 columns]"
      ],
      "text/html": [
       "<div>\n",
       "<style scoped>\n",
       "    .dataframe tbody tr th:only-of-type {\n",
       "        vertical-align: middle;\n",
       "    }\n",
       "\n",
       "    .dataframe tbody tr th {\n",
       "        vertical-align: top;\n",
       "    }\n",
       "\n",
       "    .dataframe thead th {\n",
       "        text-align: right;\n",
       "    }\n",
       "</style>\n",
       "<table border=\"1\" class=\"dataframe\">\n",
       "  <thead>\n",
       "    <tr style=\"text-align: right;\">\n",
       "      <th></th>\n",
       "      <th>app_opt_lr</th>\n",
       "      <th>app_opt_reg</th>\n",
       "      <th>camera_model</th>\n",
       "      <th>data_dir</th>\n",
       "      <th>data_factor</th>\n",
       "      <th>far_plane</th>\n",
       "      <th>global_scale</th>\n",
       "      <th>init_extent</th>\n",
       "      <th>init_num_pts</th>\n",
       "      <th>init_opa</th>\n",
       "      <th>...</th>\n",
       "      <th>refine_start_iter</th>\n",
       "      <th>refine_stop_iter</th>\n",
       "      <th>test_every</th>\n",
       "      <th>experiment</th>\n",
       "      <th>iteration</th>\n",
       "      <th>psnr</th>\n",
       "      <th>ssim</th>\n",
       "      <th>lpips</th>\n",
       "      <th>num_GS</th>\n",
       "      <th>reset_every</th>\n",
       "    </tr>\n",
       "  </thead>\n",
       "  <tbody>\n",
       "    <tr>\n",
       "      <th>0</th>\n",
       "      <td>0.001</td>\n",
       "      <td>0.000001</td>\n",
       "      <td>pinhole</td>\n",
       "      <td>../data/DRON 1/c7</td>\n",
       "      <td>1</td>\n",
       "      <td>1.000000e+10</td>\n",
       "      <td>1.0</td>\n",
       "      <td>3.0</td>\n",
       "      <td>300000</td>\n",
       "      <td>0.5</td>\n",
       "      <td>...</td>\n",
       "      <td>1000</td>\n",
       "      <td>225000</td>\n",
       "      <td>8</td>\n",
       "      <td>gepard</td>\n",
       "      <td>59999</td>\n",
       "      <td>22.633921</td>\n",
       "      <td>0.719707</td>\n",
       "      <td>0.289170</td>\n",
       "      <td>3000000</td>\n",
       "      <td>NaN</td>\n",
       "    </tr>\n",
       "    <tr>\n",
       "      <th>0</th>\n",
       "      <td>0.001</td>\n",
       "      <td>0.000001</td>\n",
       "      <td>pinhole</td>\n",
       "      <td>../data/DRON 1/c7</td>\n",
       "      <td>1</td>\n",
       "      <td>1.000000e+10</td>\n",
       "      <td>1.0</td>\n",
       "      <td>3.0</td>\n",
       "      <td>100000</td>\n",
       "      <td>0.1</td>\n",
       "      <td>...</td>\n",
       "      <td>500</td>\n",
       "      <td>15000</td>\n",
       "      <td>8</td>\n",
       "      <td>whale</td>\n",
       "      <td>24999</td>\n",
       "      <td>20.865635</td>\n",
       "      <td>0.673556</td>\n",
       "      <td>0.368868</td>\n",
       "      <td>2706355</td>\n",
       "      <td>3000.0</td>\n",
       "    </tr>\n",
       "  </tbody>\n",
       "</table>\n",
       "<p>2 rows × 36 columns</p>\n",
       "</div>"
      ]
     },
     "execution_count": 58,
     "metadata": {},
     "output_type": "execute_result"
    }
   ],
   "execution_count": 58
  },
  {
   "metadata": {
    "ExecuteTime": {
     "end_time": "2024-11-02T10:23:51.467267Z",
     "start_time": "2024-11-02T10:23:51.451024Z"
    }
   },
   "cell_type": "code",
   "source": "c5_experiments = model_experiments('c5')",
   "id": "40d8eed08c143765",
   "outputs": [],
   "execution_count": 33
  },
  {
   "metadata": {
    "ExecuteTime": {
     "end_time": "2024-11-02T10:23:55.520367Z",
     "start_time": "2024-11-02T10:23:55.342058Z"
    }
   },
   "cell_type": "code",
   "source": "sns.barplot(c5_experiments, x='experiment', y='num_GS')",
   "id": "8311147ef4adabe",
   "outputs": [
    {
     "data": {
      "text/plain": [
       "<Axes: xlabel='experiment', ylabel='num_GS'>"
      ]
     },
     "execution_count": 34,
     "metadata": {},
     "output_type": "execute_result"
    },
    {
     "data": {
      "text/plain": [
       "<Figure size 640x480 with 1 Axes>"
      ],
      "image/png": "[encoded data removed]"
     },
     "metadata": {},
     "output_type": "display_data"
    }
   ],
   "execution_count": 34
  },
  {
   "metadata": {
    "ExecuteTime": {
     "end_time": "2024-11-02T10:32:38.448607Z",
     "start_time": "2024-11-02T10:32:38.079255Z"
    }
   },
   "cell_type": "code",
   "source": [
    "fig, ax = plt.subplots(1, 3, figsize=(15, 6))\n",
    "ax[0].set_title('ssim')\n",
    "ax[1].set_title('psnr')\n",
    "ax[2].set_title('lpips')\n",
    "\n",
    "sns.scatterplot(c5_experiments, x='num_GS', y='ssim', hue='experiment', ax=ax[0])\n",
    "sns.scatterplot(c5_experiments, x='num_GS', y='psnr', hue='experiment', ax=ax[1])\n",
    "sns.scatterplot(c5_experiments, x='num_GS', y='lpips', hue='experiment', ax=ax[2])"
   ],
   "id": "3ff48df6a8ea93ec",
   "outputs": [
    {
     "data": {
      "text/plain": [
       "<Axes: title={'center': 'lpips'}, xlabel='num_GS', ylabel='lpips'>"
      ]
     },
     "execution_count": 47,
     "metadata": {},
     "output_type": "execute_result"
    },
    {
     "data": {
      "text/plain": [
       "<Figure size 1500x600 with 3 Axes>"
      ],
      "image/png": "[encoded data removed]"
     },
     "metadata": {},
     "output_type": "display_data"
    }
   ],
   "execution_count": 47
  },
  {
   "metadata": {
    "ExecuteTime": {
     "end_time": "2024-11-02T10:38:09.713710Z",
     "start_time": "2024-11-02T10:38:09.681143Z"
    }
   },
   "cell_type": "code",
   "source": "c5_experiments[c5_experiments['experiment'] == 'monkey']",
   "id": "b1e51bb22382281d",
   "outputs": [
    {
     "data": {
      "text/plain": [
       "   app_opt_lr  app_opt_reg camera_model  \\\n",
       "0       0.001     0.000001      pinhole   \n",
       "\n",
       "                                   data_dir  data_factor     far_plane  \\\n",
       "0  data/DRON 1/c5/sparse/undistorted_images            1  1.000000e+10   \n",
       "\n",
       "   global_scale  init_extent  init_num_pts  init_opa  ...  refine_start_iter  \\\n",
       "0           1.0          3.0        300000       0.5  ...               1000   \n",
       "\n",
       "  refine_stop_iter  test_every  experiment  iteration       psnr      ssim  \\\n",
       "0           225000           8      monkey      89999  22.564878  0.724856   \n",
       "\n",
       "      lpips   num_GS  reset_every  \n",
       "0  0.248403  1318145          NaN  \n",
       "\n",
       "[1 rows x 36 columns]"
      ],
      "text/html": [
       "<div>\n",
       "<style scoped>\n",
       "    .dataframe tbody tr th:only-of-type {\n",
       "        vertical-align: middle;\n",
       "    }\n",
       "\n",
       "    .dataframe tbody tr th {\n",
       "        vertical-align: top;\n",
       "    }\n",
       "\n",
       "    .dataframe thead th {\n",
       "        text-align: right;\n",
       "    }\n",
       "</style>\n",
       "<table border=\"1\" class=\"dataframe\">\n",
       "  <thead>\n",
       "    <tr style=\"text-align: right;\">\n",
       "      <th></th>\n",
       "      <th>app_opt_lr</th>\n",
       "      <th>app_opt_reg</th>\n",
       "      <th>camera_model</th>\n",
       "      <th>data_dir</th>\n",
       "      <th>data_factor</th>\n",
       "      <th>far_plane</th>\n",
       "      <th>global_scale</th>\n",
       "      <th>init_extent</th>\n",
       "      <th>init_num_pts</th>\n",
       "      <th>init_opa</th>\n",
       "      <th>...</th>\n",
       "      <th>refine_start_iter</th>\n",
       "      <th>refine_stop_iter</th>\n",
       "      <th>test_every</th>\n",
       "      <th>experiment</th>\n",
       "      <th>iteration</th>\n",
       "      <th>psnr</th>\n",
       "      <th>ssim</th>\n",
       "      <th>lpips</th>\n",
       "      <th>num_GS</th>\n",
       "      <th>reset_every</th>\n",
       "    </tr>\n",
       "  </thead>\n",
       "  <tbody>\n",
       "    <tr>\n",
       "      <th>0</th>\n",
       "      <td>0.001</td>\n",
       "      <td>0.000001</td>\n",
       "      <td>pinhole</td>\n",
       "      <td>data/DRON 1/c5/sparse/undistorted_images</td>\n",
       "      <td>1</td>\n",
       "      <td>1.000000e+10</td>\n",
       "      <td>1.0</td>\n",
       "      <td>3.0</td>\n",
       "      <td>300000</td>\n",
       "      <td>0.5</td>\n",
       "      <td>...</td>\n",
       "      <td>1000</td>\n",
       "      <td>225000</td>\n",
       "      <td>8</td>\n",
       "      <td>monkey</td>\n",
       "      <td>89999</td>\n",
       "      <td>22.564878</td>\n",
       "      <td>0.724856</td>\n",
       "      <td>0.248403</td>\n",
       "      <td>1318145</td>\n",
       "      <td>NaN</td>\n",
       "    </tr>\n",
       "  </tbody>\n",
       "</table>\n",
       "<p>1 rows × 36 columns</p>\n",
       "</div>"
      ]
     },
     "execution_count": 49,
     "metadata": {},
     "output_type": "execute_result"
    }
   ],
   "execution_count": 49
  }
 ],
 "metadata": {
  "kernelspec": {
   "display_name": "Python 3",
   "language": "python",
   "name": "python3"
  },
  "language_info": {
   "codemirror_mode": {
    "name": "ipython",
    "version": 2
   },
   "file_extension": ".py",
   "mimetype": "text/x-python",
   "name": "python",
   "nbconvert_exporter": "python",
   "pygments_lexer": "ipython2",
   "version": "2.7.6"
  }
 },
 "nbformat": 4,
 "nbformat_minor": 5
}
