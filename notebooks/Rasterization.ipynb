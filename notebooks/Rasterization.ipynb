{
 "cells": [
  {
   "cell_type": "code",
   "id": "initial_id",
   "metadata": {
    "collapsed": true,
    "ExecuteTime": {
     "end_time": "2024-10-21T19:41:37.018443Z",
     "start_time": "2024-10-21T19:41:36.317409Z"
    }
   },
   "source": [
    "import torch \n",
    "from gsplat import rasterization\n",
    "import matplotlib.pyplot as plt"
   ],
   "outputs": [],
   "execution_count": 14
  },
  {
   "metadata": {
    "ExecuteTime": {
     "end_time": "2024-10-21T19:37:34.931006Z",
     "start_time": "2024-10-21T19:37:34.881096Z"
    }
   },
   "cell_type": "code",
   "source": "device=\"cuda:0\" if torch.cuda.is_available() else \"cpu\"",
   "id": "adfc18d064e6be0",
   "outputs": [],
   "execution_count": 2
  },
  {
   "metadata": {
    "ExecuteTime": {
     "end_time": "2024-10-21T19:37:35.647485Z",
     "start_time": "2024-10-21T19:37:35.626084Z"
    }
   },
   "cell_type": "code",
   "source": "device",
   "id": "ecf77ef457ac2aad",
   "outputs": [
    {
     "data": {
      "text/plain": [
       "'cuda:0'"
      ]
     },
     "execution_count": 3,
     "metadata": {},
     "output_type": "execute_result"
    }
   ],
   "execution_count": 3
  },
  {
   "metadata": {
    "ExecuteTime": {
     "end_time": "2024-10-21T19:37:37.024741Z",
     "start_time": "2024-10-21T19:37:36.637137Z"
    }
   },
   "cell_type": "code",
   "source": [
    "model_path = \"../results/south-building/ckpts/ckpt_6999_rank0.pt\"\n",
    "g_model = torch.load(model_path, map_location=device, weights_only=True)"
   ],
   "id": "b3c2f175240d39ed",
   "outputs": [],
   "execution_count": 4
  },
  {
   "metadata": {
    "ExecuteTime": {
     "end_time": "2024-10-21T19:38:38.941029Z",
     "start_time": "2024-10-21T19:38:38.920490Z"
    }
   },
   "cell_type": "code",
   "source": "g_model['splats'].keys()",
   "id": "548db785521fcd52",
   "outputs": [
    {
     "data": {
      "text/plain": [
       "odict_keys(['means', 'opacities', 'quats', 'scales', 'sh0', 'shN'])"
      ]
     },
     "execution_count": 7,
     "metadata": {},
     "output_type": "execute_result"
    }
   ],
   "execution_count": 7
  },
  {
   "metadata": {
    "ExecuteTime": {
     "end_time": "2024-10-21T19:37:37.794740Z",
     "start_time": "2024-10-21T19:37:37.766917Z"
    }
   },
   "cell_type": "code",
   "source": [
    "viewmats = torch.eye(4, device=device)[None, :, :]\n",
    "Ks = torch.tensor([\n",
    "   [300., 0., 150.], [0., 300., 100.], [0., 0., 1.]], device=device)[None, :, :]"
   ],
   "id": "4807fd403493cd5",
   "outputs": [],
   "execution_count": 5
  },
  {
   "metadata": {
    "ExecuteTime": {
     "end_time": "2024-10-21T19:37:45.690100Z",
     "start_time": "2024-10-21T19:37:45.673688Z"
    }
   },
   "cell_type": "code",
   "source": "width, height = 300, 200",
   "id": "3e87c99ed04ceddc",
   "outputs": [],
   "execution_count": 6
  },
  {
   "metadata": {
    "ExecuteTime": {
     "end_time": "2024-10-21T19:42:31.419639Z",
     "start_time": "2024-10-21T19:42:31.407642Z"
    }
   },
   "cell_type": "code",
   "source": [
    "n = len(g_model['splats']['means'])\n",
    "means = g_model['splats']['means'][:n]\n",
    "quats = g_model['splats']['quats'][:n]\n",
    "opacities = g_model['splats']['opacities'][:n]\n",
    "scales = g_model['splats']['scales'][:n]\n",
    "sh0 = g_model['splats']['sh0'][:n]"
   ],
   "id": "468c0cc4cf10127c",
   "outputs": [],
   "execution_count": 22
  },
  {
   "metadata": {
    "ExecuteTime": {
     "end_time": "2024-10-21T19:42:32.473656Z",
     "start_time": "2024-10-21T19:42:32.426262Z"
    }
   },
   "cell_type": "code",
   "source": [
    "colors, alphas, meta = rasterization(\n",
    "   means=means, quats=quats, scales=scales, opacities=opacities, \n",
    "    colors=sh0, viewmats=viewmats, Ks=Ks, width=width, height=height, sh_degree=0\n",
    ")"
   ],
   "id": "4152d5f81363fea6",
   "outputs": [],
   "execution_count": 23
  },
  {
   "metadata": {
    "ExecuteTime": {
     "end_time": "2024-10-21T19:42:33.829503Z",
     "start_time": "2024-10-21T19:42:33.805401Z"
    }
   },
   "cell_type": "code",
   "source": "colors",
   "id": "d499459099ada3ec",
   "outputs": [
    {
     "data": {
      "text/plain": [
       "tensor([[[[0.3764, 0.3134, 0.2843],\n",
       "          [0.3764, 0.3134, 0.2843],\n",
       "          [0.3764, 0.3134, 0.2843],\n",
       "          ...,\n",
       "          [0.3764, 0.3134, 0.2843],\n",
       "          [0.3764, 0.3134, 0.2843],\n",
       "          [0.3764, 0.3134, 0.2843]],\n",
       "\n",
       "         [[0.3764, 0.3134, 0.2843],\n",
       "          [0.3764, 0.3134, 0.2843],\n",
       "          [0.3764, 0.3134, 0.2843],\n",
       "          ...,\n",
       "          [0.3764, 0.3134, 0.2843],\n",
       "          [0.3764, 0.3134, 0.2843],\n",
       "          [0.3764, 0.3134, 0.2843]],\n",
       "\n",
       "         [[0.3764, 0.3134, 0.2843],\n",
       "          [0.3764, 0.3134, 0.2843],\n",
       "          [0.3764, 0.3134, 0.2843],\n",
       "          ...,\n",
       "          [0.3764, 0.3134, 0.2843],\n",
       "          [0.3764, 0.3134, 0.2843],\n",
       "          [0.3764, 0.3134, 0.2843]],\n",
       "\n",
       "         ...,\n",
       "\n",
       "         [[0.3764, 0.3134, 0.2843],\n",
       "          [0.3764, 0.3134, 0.2843],\n",
       "          [0.3764, 0.3134, 0.2843],\n",
       "          ...,\n",
       "          [0.3764, 0.3134, 0.2843],\n",
       "          [0.3764, 0.3134, 0.2843],\n",
       "          [0.3764, 0.3134, 0.2843]],\n",
       "\n",
       "         [[0.3764, 0.3134, 0.2843],\n",
       "          [0.3764, 0.3134, 0.2843],\n",
       "          [0.3764, 0.3134, 0.2843],\n",
       "          ...,\n",
       "          [0.3764, 0.3134, 0.2843],\n",
       "          [0.3764, 0.3134, 0.2843],\n",
       "          [0.3764, 0.3134, 0.2843]],\n",
       "\n",
       "         [[0.3764, 0.3134, 0.2843],\n",
       "          [0.3764, 0.3134, 0.2843],\n",
       "          [0.3764, 0.3134, 0.2843],\n",
       "          ...,\n",
       "          [0.3764, 0.3134, 0.2843],\n",
       "          [0.3764, 0.3134, 0.2843],\n",
       "          [0.3764, 0.3134, 0.2843]]]], device='cuda:0')"
      ]
     },
     "execution_count": 24,
     "metadata": {},
     "output_type": "execute_result"
    }
   ],
   "execution_count": 24
  },
  {
   "metadata": {
    "ExecuteTime": {
     "end_time": "2024-10-21T19:42:34.861628Z",
     "start_time": "2024-10-21T19:42:34.698214Z"
    }
   },
   "cell_type": "code",
   "source": "plt.imshow(colors.cpu().numpy()[0])",
   "id": "43b68426c9abf14e",
   "outputs": [
    {
     "data": {
      "text/plain": [
       "<matplotlib.image.AxesImage at 0x2585da8f0a0>"
      ]
     },
     "execution_count": 25,
     "metadata": {},
     "output_type": "execute_result"
    },
    {
     "data": {
      "text/plain": [
       "<Figure size 640x480 with 1 Axes>"
      ],
      "image/png": "[encoded data removed]"
     },
     "metadata": {},
     "output_type": "display_data"
    }
   ],
   "execution_count": 25
  },
  {
   "metadata": {},
   "cell_type": "code",
   "outputs": [],
   "execution_count": null,
   "source": [
    "w2c = np.concatenate([img_cam.matrix(), bottom])\n",
    "\n",
    "w2c_mats = np.stack(w2c_mats, axis=0)\n",
    "\n",
    "# Convert extrinsics to camera-to-world.\n",
    "camtoworlds = np.linalg.inv(w2c_mats)"
   ],
   "id": "fb2c7d843b4a57e5"
  }
 ],
 "metadata": {
  "kernelspec": {
   "display_name": "Python 3",
   "language": "python",
   "name": "python3"
  },
  "language_info": {
   "codemirror_mode": {
    "name": "ipython",
    "version": 2
   },
   "file_extension": ".py",
   "mimetype": "text/x-python",
   "name": "python",
   "nbconvert_exporter": "python",
   "pygments_lexer": "ipython2",
   "version": "2.7.6"
  }
 },
 "nbformat": 4,
 "nbformat_minor": 5
}
